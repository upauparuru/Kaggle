{
 "cells": [
  {
   "cell_type": "markdown",
   "id": "1656b4e1",
   "metadata": {
    "papermill": {
     "duration": 0.013351,
     "end_time": "2023-07-02T05:31:21.955797",
     "exception": false,
     "start_time": "2023-07-02T05:31:21.942446",
     "status": "completed"
    },
    "tags": []
   },
   "source": [
    "# データのインポート"
   ]
  },
  {
   "cell_type": "code",
   "execution_count": 1,
   "id": "34441480",
   "metadata": {
    "execution": {
     "iopub.execute_input": "2023-07-02T05:31:21.984706Z",
     "iopub.status.busy": "2023-07-02T05:31:21.984378Z",
     "iopub.status.idle": "2023-07-02T05:31:22.042462Z",
     "shell.execute_reply": "2023-07-02T05:31:22.041225Z"
    },
    "papermill": {
     "duration": 0.074987,
     "end_time": "2023-07-02T05:31:22.044885",
     "exception": false,
     "start_time": "2023-07-02T05:31:21.969898",
     "status": "completed"
    },
    "tags": []
   },
   "outputs": [],
   "source": [
    "import pandas as pd\n",
    "df=pd.read_csv('/kaggle/input/spaceship-titanic/train.csv')"
   ]
  },
  {
   "cell_type": "code",
   "execution_count": 2,
   "id": "96595921",
   "metadata": {
    "execution": {
     "iopub.execute_input": "2023-07-02T05:31:22.072432Z",
     "iopub.status.busy": "2023-07-02T05:31:22.072096Z",
     "iopub.status.idle": "2023-07-02T05:31:22.104184Z",
     "shell.execute_reply": "2023-07-02T05:31:22.103383Z"
    },
    "papermill": {
     "duration": 0.048268,
     "end_time": "2023-07-02T05:31:22.106218",
     "exception": false,
     "start_time": "2023-07-02T05:31:22.057950",
     "status": "completed"
    },
    "tags": []
   },
   "outputs": [
    {
     "data": {
      "text/html": [
       "<div>\n",
       "<style scoped>\n",
       "    .dataframe tbody tr th:only-of-type {\n",
       "        vertical-align: middle;\n",
       "    }\n",
       "\n",
       "    .dataframe tbody tr th {\n",
       "        vertical-align: top;\n",
       "    }\n",
       "\n",
       "    .dataframe thead th {\n",
       "        text-align: right;\n",
       "    }\n",
       "</style>\n",
       "<table border=\"1\" class=\"dataframe\">\n",
       "  <thead>\n",
       "    <tr style=\"text-align: right;\">\n",
       "      <th></th>\n",
       "      <th>PassengerId</th>\n",
       "      <th>HomePlanet</th>\n",
       "      <th>CryoSleep</th>\n",
       "      <th>Cabin</th>\n",
       "      <th>Destination</th>\n",
       "      <th>Age</th>\n",
       "      <th>VIP</th>\n",
       "      <th>RoomService</th>\n",
       "      <th>FoodCourt</th>\n",
       "      <th>ShoppingMall</th>\n",
       "      <th>Spa</th>\n",
       "      <th>VRDeck</th>\n",
       "      <th>Name</th>\n",
       "      <th>Transported</th>\n",
       "    </tr>\n",
       "  </thead>\n",
       "  <tbody>\n",
       "    <tr>\n",
       "      <th>0</th>\n",
       "      <td>0001_01</td>\n",
       "      <td>Europa</td>\n",
       "      <td>False</td>\n",
       "      <td>B/0/P</td>\n",
       "      <td>TRAPPIST-1e</td>\n",
       "      <td>39.0</td>\n",
       "      <td>False</td>\n",
       "      <td>0.0</td>\n",
       "      <td>0.0</td>\n",
       "      <td>0.0</td>\n",
       "      <td>0.0</td>\n",
       "      <td>0.0</td>\n",
       "      <td>Maham Ofracculy</td>\n",
       "      <td>False</td>\n",
       "    </tr>\n",
       "    <tr>\n",
       "      <th>1</th>\n",
       "      <td>0002_01</td>\n",
       "      <td>Earth</td>\n",
       "      <td>False</td>\n",
       "      <td>F/0/S</td>\n",
       "      <td>TRAPPIST-1e</td>\n",
       "      <td>24.0</td>\n",
       "      <td>False</td>\n",
       "      <td>109.0</td>\n",
       "      <td>9.0</td>\n",
       "      <td>25.0</td>\n",
       "      <td>549.0</td>\n",
       "      <td>44.0</td>\n",
       "      <td>Juanna Vines</td>\n",
       "      <td>True</td>\n",
       "    </tr>\n",
       "    <tr>\n",
       "      <th>2</th>\n",
       "      <td>0003_01</td>\n",
       "      <td>Europa</td>\n",
       "      <td>False</td>\n",
       "      <td>A/0/S</td>\n",
       "      <td>TRAPPIST-1e</td>\n",
       "      <td>58.0</td>\n",
       "      <td>True</td>\n",
       "      <td>43.0</td>\n",
       "      <td>3576.0</td>\n",
       "      <td>0.0</td>\n",
       "      <td>6715.0</td>\n",
       "      <td>49.0</td>\n",
       "      <td>Altark Susent</td>\n",
       "      <td>False</td>\n",
       "    </tr>\n",
       "    <tr>\n",
       "      <th>3</th>\n",
       "      <td>0003_02</td>\n",
       "      <td>Europa</td>\n",
       "      <td>False</td>\n",
       "      <td>A/0/S</td>\n",
       "      <td>TRAPPIST-1e</td>\n",
       "      <td>33.0</td>\n",
       "      <td>False</td>\n",
       "      <td>0.0</td>\n",
       "      <td>1283.0</td>\n",
       "      <td>371.0</td>\n",
       "      <td>3329.0</td>\n",
       "      <td>193.0</td>\n",
       "      <td>Solam Susent</td>\n",
       "      <td>False</td>\n",
       "    </tr>\n",
       "    <tr>\n",
       "      <th>4</th>\n",
       "      <td>0004_01</td>\n",
       "      <td>Earth</td>\n",
       "      <td>False</td>\n",
       "      <td>F/1/S</td>\n",
       "      <td>TRAPPIST-1e</td>\n",
       "      <td>16.0</td>\n",
       "      <td>False</td>\n",
       "      <td>303.0</td>\n",
       "      <td>70.0</td>\n",
       "      <td>151.0</td>\n",
       "      <td>565.0</td>\n",
       "      <td>2.0</td>\n",
       "      <td>Willy Santantines</td>\n",
       "      <td>True</td>\n",
       "    </tr>\n",
       "  </tbody>\n",
       "</table>\n",
       "</div>"
      ],
      "text/plain": [
       "  PassengerId HomePlanet CryoSleep  Cabin  Destination   Age    VIP  \\\n",
       "0     0001_01     Europa     False  B/0/P  TRAPPIST-1e  39.0  False   \n",
       "1     0002_01      Earth     False  F/0/S  TRAPPIST-1e  24.0  False   \n",
       "2     0003_01     Europa     False  A/0/S  TRAPPIST-1e  58.0   True   \n",
       "3     0003_02     Europa     False  A/0/S  TRAPPIST-1e  33.0  False   \n",
       "4     0004_01      Earth     False  F/1/S  TRAPPIST-1e  16.0  False   \n",
       "\n",
       "   RoomService  FoodCourt  ShoppingMall     Spa  VRDeck               Name  \\\n",
       "0          0.0        0.0           0.0     0.0     0.0    Maham Ofracculy   \n",
       "1        109.0        9.0          25.0   549.0    44.0       Juanna Vines   \n",
       "2         43.0     3576.0           0.0  6715.0    49.0      Altark Susent   \n",
       "3          0.0     1283.0         371.0  3329.0   193.0       Solam Susent   \n",
       "4        303.0       70.0         151.0   565.0     2.0  Willy Santantines   \n",
       "\n",
       "   Transported  \n",
       "0        False  \n",
       "1         True  \n",
       "2        False  \n",
       "3        False  \n",
       "4         True  "
      ]
     },
     "execution_count": 2,
     "metadata": {},
     "output_type": "execute_result"
    }
   ],
   "source": [
    "df.head()"
   ]
  },
  {
   "cell_type": "code",
   "execution_count": 3,
   "id": "de286676",
   "metadata": {
    "execution": {
     "iopub.execute_input": "2023-07-02T05:31:22.136225Z",
     "iopub.status.busy": "2023-07-02T05:31:22.135476Z",
     "iopub.status.idle": "2023-07-02T05:31:22.167155Z",
     "shell.execute_reply": "2023-07-02T05:31:22.166001Z"
    },
    "papermill": {
     "duration": 0.048745,
     "end_time": "2023-07-02T05:31:22.169470",
     "exception": false,
     "start_time": "2023-07-02T05:31:22.120725",
     "status": "completed"
    },
    "tags": []
   },
   "outputs": [
    {
     "name": "stdout",
     "output_type": "stream",
     "text": [
      "<class 'pandas.core.frame.DataFrame'>\n",
      "RangeIndex: 8693 entries, 0 to 8692\n",
      "Data columns (total 14 columns):\n",
      " #   Column        Non-Null Count  Dtype  \n",
      "---  ------        --------------  -----  \n",
      " 0   PassengerId   8693 non-null   object \n",
      " 1   HomePlanet    8492 non-null   object \n",
      " 2   CryoSleep     8476 non-null   object \n",
      " 3   Cabin         8494 non-null   object \n",
      " 4   Destination   8511 non-null   object \n",
      " 5   Age           8514 non-null   float64\n",
      " 6   VIP           8490 non-null   object \n",
      " 7   RoomService   8512 non-null   float64\n",
      " 8   FoodCourt     8510 non-null   float64\n",
      " 9   ShoppingMall  8485 non-null   float64\n",
      " 10  Spa           8510 non-null   float64\n",
      " 11  VRDeck        8505 non-null   float64\n",
      " 12  Name          8493 non-null   object \n",
      " 13  Transported   8693 non-null   bool   \n",
      "dtypes: bool(1), float64(6), object(7)\n",
      "memory usage: 891.5+ KB\n"
     ]
    }
   ],
   "source": [
    "df.info()"
   ]
  },
  {
   "cell_type": "code",
   "execution_count": 4,
   "id": "5b945bb2",
   "metadata": {
    "execution": {
     "iopub.execute_input": "2023-07-02T05:31:22.198913Z",
     "iopub.status.busy": "2023-07-02T05:31:22.198604Z",
     "iopub.status.idle": "2023-07-02T05:31:22.224724Z",
     "shell.execute_reply": "2023-07-02T05:31:22.223767Z"
    },
    "papermill": {
     "duration": 0.043287,
     "end_time": "2023-07-02T05:31:22.226609",
     "exception": false,
     "start_time": "2023-07-02T05:31:22.183322",
     "status": "completed"
    },
    "tags": []
   },
   "outputs": [
    {
     "data": {
      "text/html": [
       "<div>\n",
       "<style scoped>\n",
       "    .dataframe tbody tr th:only-of-type {\n",
       "        vertical-align: middle;\n",
       "    }\n",
       "\n",
       "    .dataframe tbody tr th {\n",
       "        vertical-align: top;\n",
       "    }\n",
       "\n",
       "    .dataframe thead th {\n",
       "        text-align: right;\n",
       "    }\n",
       "</style>\n",
       "<table border=\"1\" class=\"dataframe\">\n",
       "  <thead>\n",
       "    <tr style=\"text-align: right;\">\n",
       "      <th></th>\n",
       "      <th>Age</th>\n",
       "      <th>RoomService</th>\n",
       "      <th>FoodCourt</th>\n",
       "      <th>ShoppingMall</th>\n",
       "      <th>Spa</th>\n",
       "      <th>VRDeck</th>\n",
       "    </tr>\n",
       "  </thead>\n",
       "  <tbody>\n",
       "    <tr>\n",
       "      <th>count</th>\n",
       "      <td>8514.000000</td>\n",
       "      <td>8512.000000</td>\n",
       "      <td>8510.000000</td>\n",
       "      <td>8485.000000</td>\n",
       "      <td>8510.000000</td>\n",
       "      <td>8505.000000</td>\n",
       "    </tr>\n",
       "    <tr>\n",
       "      <th>mean</th>\n",
       "      <td>28.827930</td>\n",
       "      <td>224.687617</td>\n",
       "      <td>458.077203</td>\n",
       "      <td>173.729169</td>\n",
       "      <td>311.138778</td>\n",
       "      <td>304.854791</td>\n",
       "    </tr>\n",
       "    <tr>\n",
       "      <th>std</th>\n",
       "      <td>14.489021</td>\n",
       "      <td>666.717663</td>\n",
       "      <td>1611.489240</td>\n",
       "      <td>604.696458</td>\n",
       "      <td>1136.705535</td>\n",
       "      <td>1145.717189</td>\n",
       "    </tr>\n",
       "    <tr>\n",
       "      <th>min</th>\n",
       "      <td>0.000000</td>\n",
       "      <td>0.000000</td>\n",
       "      <td>0.000000</td>\n",
       "      <td>0.000000</td>\n",
       "      <td>0.000000</td>\n",
       "      <td>0.000000</td>\n",
       "    </tr>\n",
       "    <tr>\n",
       "      <th>25%</th>\n",
       "      <td>19.000000</td>\n",
       "      <td>0.000000</td>\n",
       "      <td>0.000000</td>\n",
       "      <td>0.000000</td>\n",
       "      <td>0.000000</td>\n",
       "      <td>0.000000</td>\n",
       "    </tr>\n",
       "    <tr>\n",
       "      <th>50%</th>\n",
       "      <td>27.000000</td>\n",
       "      <td>0.000000</td>\n",
       "      <td>0.000000</td>\n",
       "      <td>0.000000</td>\n",
       "      <td>0.000000</td>\n",
       "      <td>0.000000</td>\n",
       "    </tr>\n",
       "    <tr>\n",
       "      <th>75%</th>\n",
       "      <td>38.000000</td>\n",
       "      <td>47.000000</td>\n",
       "      <td>76.000000</td>\n",
       "      <td>27.000000</td>\n",
       "      <td>59.000000</td>\n",
       "      <td>46.000000</td>\n",
       "    </tr>\n",
       "    <tr>\n",
       "      <th>max</th>\n",
       "      <td>79.000000</td>\n",
       "      <td>14327.000000</td>\n",
       "      <td>29813.000000</td>\n",
       "      <td>23492.000000</td>\n",
       "      <td>22408.000000</td>\n",
       "      <td>24133.000000</td>\n",
       "    </tr>\n",
       "  </tbody>\n",
       "</table>\n",
       "</div>"
      ],
      "text/plain": [
       "               Age   RoomService     FoodCourt  ShoppingMall           Spa  \\\n",
       "count  8514.000000   8512.000000   8510.000000   8485.000000   8510.000000   \n",
       "mean     28.827930    224.687617    458.077203    173.729169    311.138778   \n",
       "std      14.489021    666.717663   1611.489240    604.696458   1136.705535   \n",
       "min       0.000000      0.000000      0.000000      0.000000      0.000000   \n",
       "25%      19.000000      0.000000      0.000000      0.000000      0.000000   \n",
       "50%      27.000000      0.000000      0.000000      0.000000      0.000000   \n",
       "75%      38.000000     47.000000     76.000000     27.000000     59.000000   \n",
       "max      79.000000  14327.000000  29813.000000  23492.000000  22408.000000   \n",
       "\n",
       "             VRDeck  \n",
       "count   8505.000000  \n",
       "mean     304.854791  \n",
       "std     1145.717189  \n",
       "min        0.000000  \n",
       "25%        0.000000  \n",
       "50%        0.000000  \n",
       "75%       46.000000  \n",
       "max    24133.000000  "
      ]
     },
     "execution_count": 4,
     "metadata": {},
     "output_type": "execute_result"
    }
   ],
   "source": [
    "df.describe()"
   ]
  },
  {
   "cell_type": "markdown",
   "id": "d09784a7",
   "metadata": {
    "papermill": {
     "duration": 0.013357,
     "end_time": "2023-07-02T05:31:22.253774",
     "exception": false,
     "start_time": "2023-07-02T05:31:22.240417",
     "status": "completed"
    },
    "tags": []
   },
   "source": [
    "# 前処理"
   ]
  },
  {
   "cell_type": "code",
   "execution_count": 5,
   "id": "b7f8c814",
   "metadata": {
    "execution": {
     "iopub.execute_input": "2023-07-02T05:31:22.282378Z",
     "iopub.status.busy": "2023-07-02T05:31:22.282038Z",
     "iopub.status.idle": "2023-07-02T05:31:22.301678Z",
     "shell.execute_reply": "2023-07-02T05:31:22.300460Z"
    },
    "papermill": {
     "duration": 0.036606,
     "end_time": "2023-07-02T05:31:22.303761",
     "exception": false,
     "start_time": "2023-07-02T05:31:22.267155",
     "status": "completed"
    },
    "tags": []
   },
   "outputs": [
    {
     "data": {
      "text/plain": [
       "0       False\n",
       "1       False\n",
       "2       False\n",
       "3       False\n",
       "4       False\n",
       "        ...  \n",
       "8688    False\n",
       "8689    False\n",
       "8690    False\n",
       "8691    False\n",
       "8692    False\n",
       "Length: 8693, dtype: bool"
      ]
     },
     "execution_count": 5,
     "metadata": {},
     "output_type": "execute_result"
    }
   ],
   "source": [
    "#重複の確認\n",
    "df.duplicated()"
   ]
  },
  {
   "cell_type": "markdown",
   "id": "bed4b1ab",
   "metadata": {
    "papermill": {
     "duration": 0.014818,
     "end_time": "2023-07-02T05:31:22.332691",
     "exception": false,
     "start_time": "2023-07-02T05:31:22.317873",
     "status": "completed"
    },
    "tags": []
   },
   "source": [
    "欠損値の確認"
   ]
  },
  {
   "cell_type": "code",
   "execution_count": 6,
   "id": "ecb6e66e",
   "metadata": {
    "execution": {
     "iopub.execute_input": "2023-07-02T05:31:22.361597Z",
     "iopub.status.busy": "2023-07-02T05:31:22.361265Z",
     "iopub.status.idle": "2023-07-02T05:31:22.376123Z",
     "shell.execute_reply": "2023-07-02T05:31:22.375362Z"
    },
    "papermill": {
     "duration": 0.03148,
     "end_time": "2023-07-02T05:31:22.377823",
     "exception": false,
     "start_time": "2023-07-02T05:31:22.346343",
     "status": "completed"
    },
    "tags": []
   },
   "outputs": [
    {
     "data": {
      "text/plain": [
       "PassengerId       0\n",
       "HomePlanet      201\n",
       "CryoSleep       217\n",
       "Cabin           199\n",
       "Destination     182\n",
       "Age             179\n",
       "VIP             203\n",
       "RoomService     181\n",
       "FoodCourt       183\n",
       "ShoppingMall    208\n",
       "Spa             183\n",
       "VRDeck          188\n",
       "Name            200\n",
       "Transported       0\n",
       "dtype: int64"
      ]
     },
     "execution_count": 6,
     "metadata": {},
     "output_type": "execute_result"
    }
   ],
   "source": [
    "#欠損値の総和\n",
    "df.isnull().sum()"
   ]
  },
  {
   "cell_type": "code",
   "execution_count": 7,
   "id": "9619019c",
   "metadata": {
    "execution": {
     "iopub.execute_input": "2023-07-02T05:31:22.406805Z",
     "iopub.status.busy": "2023-07-02T05:31:22.406516Z",
     "iopub.status.idle": "2023-07-02T05:31:22.422281Z",
     "shell.execute_reply": "2023-07-02T05:31:22.421350Z"
    },
    "papermill": {
     "duration": 0.032076,
     "end_time": "2023-07-02T05:31:22.424035",
     "exception": false,
     "start_time": "2023-07-02T05:31:22.391959",
     "status": "completed"
    },
    "tags": []
   },
   "outputs": [],
   "source": [
    "#欠損値が含むデータを行ごと消去\n",
    "df=df.dropna()"
   ]
  },
  {
   "cell_type": "code",
   "execution_count": 8,
   "id": "948d4761",
   "metadata": {
    "execution": {
     "iopub.execute_input": "2023-07-02T05:31:22.453374Z",
     "iopub.status.busy": "2023-07-02T05:31:22.453024Z",
     "iopub.status.idle": "2023-07-02T05:31:22.466865Z",
     "shell.execute_reply": "2023-07-02T05:31:22.466056Z"
    },
    "papermill": {
     "duration": 0.030915,
     "end_time": "2023-07-02T05:31:22.468684",
     "exception": false,
     "start_time": "2023-07-02T05:31:22.437769",
     "status": "completed"
    },
    "tags": []
   },
   "outputs": [
    {
     "data": {
      "text/plain": [
       "PassengerId     0\n",
       "HomePlanet      0\n",
       "CryoSleep       0\n",
       "Cabin           0\n",
       "Destination     0\n",
       "Age             0\n",
       "VIP             0\n",
       "RoomService     0\n",
       "FoodCourt       0\n",
       "ShoppingMall    0\n",
       "Spa             0\n",
       "VRDeck          0\n",
       "Name            0\n",
       "Transported     0\n",
       "dtype: int64"
      ]
     },
     "execution_count": 8,
     "metadata": {},
     "output_type": "execute_result"
    }
   ],
   "source": [
    "#欠損値の総和の確認\n",
    "df.isnull().sum()"
   ]
  },
  {
   "cell_type": "code",
   "execution_count": 9,
   "id": "2fb3d9c5",
   "metadata": {
    "execution": {
     "iopub.execute_input": "2023-07-02T05:31:22.497820Z",
     "iopub.status.busy": "2023-07-02T05:31:22.497143Z",
     "iopub.status.idle": "2023-07-02T05:31:22.507462Z",
     "shell.execute_reply": "2023-07-02T05:31:22.506856Z"
    },
    "papermill": {
     "duration": 0.026569,
     "end_time": "2023-07-02T05:31:22.509035",
     "exception": false,
     "start_time": "2023-07-02T05:31:22.482466",
     "status": "completed"
    },
    "tags": []
   },
   "outputs": [
    {
     "data": {
      "text/html": [
       "<div>\n",
       "<style scoped>\n",
       "    .dataframe tbody tr th:only-of-type {\n",
       "        vertical-align: middle;\n",
       "    }\n",
       "\n",
       "    .dataframe tbody tr th {\n",
       "        vertical-align: top;\n",
       "    }\n",
       "\n",
       "    .dataframe thead th {\n",
       "        text-align: right;\n",
       "    }\n",
       "</style>\n",
       "<table border=\"1\" class=\"dataframe\">\n",
       "  <thead>\n",
       "    <tr style=\"text-align: right;\">\n",
       "      <th></th>\n",
       "      <th>PassengerId</th>\n",
       "      <th>HomePlanet</th>\n",
       "      <th>CryoSleep</th>\n",
       "      <th>Cabin</th>\n",
       "      <th>Destination</th>\n",
       "      <th>VIP</th>\n",
       "      <th>Name</th>\n",
       "    </tr>\n",
       "  </thead>\n",
       "  <tbody>\n",
       "    <tr>\n",
       "      <th>0</th>\n",
       "      <td>0001_01</td>\n",
       "      <td>Europa</td>\n",
       "      <td>False</td>\n",
       "      <td>B/0/P</td>\n",
       "      <td>TRAPPIST-1e</td>\n",
       "      <td>False</td>\n",
       "      <td>Maham Ofracculy</td>\n",
       "    </tr>\n",
       "    <tr>\n",
       "      <th>1</th>\n",
       "      <td>0002_01</td>\n",
       "      <td>Earth</td>\n",
       "      <td>False</td>\n",
       "      <td>F/0/S</td>\n",
       "      <td>TRAPPIST-1e</td>\n",
       "      <td>False</td>\n",
       "      <td>Juanna Vines</td>\n",
       "    </tr>\n",
       "    <tr>\n",
       "      <th>2</th>\n",
       "      <td>0003_01</td>\n",
       "      <td>Europa</td>\n",
       "      <td>False</td>\n",
       "      <td>A/0/S</td>\n",
       "      <td>TRAPPIST-1e</td>\n",
       "      <td>True</td>\n",
       "      <td>Altark Susent</td>\n",
       "    </tr>\n",
       "    <tr>\n",
       "      <th>3</th>\n",
       "      <td>0003_02</td>\n",
       "      <td>Europa</td>\n",
       "      <td>False</td>\n",
       "      <td>A/0/S</td>\n",
       "      <td>TRAPPIST-1e</td>\n",
       "      <td>False</td>\n",
       "      <td>Solam Susent</td>\n",
       "    </tr>\n",
       "    <tr>\n",
       "      <th>4</th>\n",
       "      <td>0004_01</td>\n",
       "      <td>Earth</td>\n",
       "      <td>False</td>\n",
       "      <td>F/1/S</td>\n",
       "      <td>TRAPPIST-1e</td>\n",
       "      <td>False</td>\n",
       "      <td>Willy Santantines</td>\n",
       "    </tr>\n",
       "  </tbody>\n",
       "</table>\n",
       "</div>"
      ],
      "text/plain": [
       "  PassengerId HomePlanet CryoSleep  Cabin  Destination    VIP  \\\n",
       "0     0001_01     Europa     False  B/0/P  TRAPPIST-1e  False   \n",
       "1     0002_01      Earth     False  F/0/S  TRAPPIST-1e  False   \n",
       "2     0003_01     Europa     False  A/0/S  TRAPPIST-1e   True   \n",
       "3     0003_02     Europa     False  A/0/S  TRAPPIST-1e  False   \n",
       "4     0004_01      Earth     False  F/1/S  TRAPPIST-1e  False   \n",
       "\n",
       "                Name  \n",
       "0    Maham Ofracculy  \n",
       "1       Juanna Vines  \n",
       "2      Altark Susent  \n",
       "3       Solam Susent  \n",
       "4  Willy Santantines  "
      ]
     },
     "execution_count": 9,
     "metadata": {},
     "output_type": "execute_result"
    }
   ],
   "source": [
    "#objectの列だけ取得\n",
    "df_obj=df.select_dtypes(include='object')\n",
    "df_obj.head()"
   ]
  },
  {
   "cell_type": "code",
   "execution_count": 10,
   "id": "c02ba588",
   "metadata": {
    "execution": {
     "iopub.execute_input": "2023-07-02T05:31:22.539063Z",
     "iopub.status.busy": "2023-07-02T05:31:22.538154Z",
     "iopub.status.idle": "2023-07-02T05:31:22.549099Z",
     "shell.execute_reply": "2023-07-02T05:31:22.548356Z"
    },
    "papermill": {
     "duration": 0.027493,
     "end_time": "2023-07-02T05:31:22.550758",
     "exception": false,
     "start_time": "2023-07-02T05:31:22.523265",
     "status": "completed"
    },
    "tags": []
   },
   "outputs": [
    {
     "data": {
      "text/plain": [
       "PassengerId    6606\n",
       "HomePlanet        3\n",
       "CryoSleep         2\n",
       "Cabin          5305\n",
       "Destination       3\n",
       "VIP               2\n",
       "Name           6590\n",
       "dtype: int64"
      ]
     },
     "execution_count": 10,
     "metadata": {},
     "output_type": "execute_result"
    }
   ],
   "source": [
    "#それぞれのユニークの数の確認\n",
    "df_uni=df_obj.nunique()\n",
    "df_uni"
   ]
  },
  {
   "cell_type": "code",
   "execution_count": 11,
   "id": "fa4a63ef",
   "metadata": {
    "execution": {
     "iopub.execute_input": "2023-07-02T05:31:22.581390Z",
     "iopub.status.busy": "2023-07-02T05:31:22.580517Z",
     "iopub.status.idle": "2023-07-02T05:31:22.589755Z",
     "shell.execute_reply": "2023-07-02T05:31:22.588809Z"
    },
    "papermill": {
     "duration": 0.026761,
     "end_time": "2023-07-02T05:31:22.591939",
     "exception": false,
     "start_time": "2023-07-02T05:31:22.565178",
     "status": "completed"
    },
    "tags": []
   },
   "outputs": [],
   "source": [
    "#passengerIdとNameの削除\n",
    "df=df.drop(labels='PassengerId',axis=1)\n",
    "df=df.drop(labels='Name',axis=1)"
   ]
  },
  {
   "cell_type": "code",
   "execution_count": 12,
   "id": "3e8cbae2",
   "metadata": {
    "execution": {
     "iopub.execute_input": "2023-07-02T05:31:22.622581Z",
     "iopub.status.busy": "2023-07-02T05:31:22.621573Z",
     "iopub.status.idle": "2023-07-02T05:31:22.632242Z",
     "shell.execute_reply": "2023-07-02T05:31:22.631402Z"
    },
    "papermill": {
     "duration": 0.027439,
     "end_time": "2023-07-02T05:31:22.633938",
     "exception": false,
     "start_time": "2023-07-02T05:31:22.606499",
     "status": "completed"
    },
    "tags": []
   },
   "outputs": [
    {
     "data": {
      "text/plain": [
       "HomePlanet        3\n",
       "CryoSleep         2\n",
       "Cabin          5305\n",
       "Destination       3\n",
       "VIP               2\n",
       "dtype: int64"
      ]
     },
     "execution_count": 12,
     "metadata": {},
     "output_type": "execute_result"
    }
   ],
   "source": [
    "#objectの列だけ取得\n",
    "df_obj=df.select_dtypes(include='object')\n",
    "#それぞれのユニークの数の確認\n",
    "df_uni=df_obj.nunique()\n",
    "df_uni"
   ]
  },
  {
   "cell_type": "markdown",
   "id": "d32754c7",
   "metadata": {
    "papermill": {
     "duration": 0.013995,
     "end_time": "2023-07-02T05:31:22.662491",
     "exception": false,
     "start_time": "2023-07-02T05:31:22.648496",
     "status": "completed"
    },
    "tags": []
   },
   "source": [
    "# 探索的データ分析"
   ]
  },
  {
   "cell_type": "code",
   "execution_count": 13,
   "id": "5594d23d",
   "metadata": {
    "execution": {
     "iopub.execute_input": "2023-07-02T05:31:22.693630Z",
     "iopub.status.busy": "2023-07-02T05:31:22.692693Z",
     "iopub.status.idle": "2023-07-02T05:31:22.709238Z",
     "shell.execute_reply": "2023-07-02T05:31:22.708287Z"
    },
    "papermill": {
     "duration": 0.0344,
     "end_time": "2023-07-02T05:31:22.711364",
     "exception": false,
     "start_time": "2023-07-02T05:31:22.676964",
     "status": "completed"
    },
    "tags": []
   },
   "outputs": [
    {
     "data": {
      "text/html": [
       "<div>\n",
       "<style scoped>\n",
       "    .dataframe tbody tr th:only-of-type {\n",
       "        vertical-align: middle;\n",
       "    }\n",
       "\n",
       "    .dataframe tbody tr th {\n",
       "        vertical-align: top;\n",
       "    }\n",
       "\n",
       "    .dataframe thead th {\n",
       "        text-align: right;\n",
       "    }\n",
       "</style>\n",
       "<table border=\"1\" class=\"dataframe\">\n",
       "  <thead>\n",
       "    <tr style=\"text-align: right;\">\n",
       "      <th></th>\n",
       "      <th>HomePlanet</th>\n",
       "      <th>CryoSleep</th>\n",
       "      <th>Cabin</th>\n",
       "      <th>Destination</th>\n",
       "      <th>Age</th>\n",
       "      <th>VIP</th>\n",
       "      <th>RoomService</th>\n",
       "      <th>FoodCourt</th>\n",
       "      <th>ShoppingMall</th>\n",
       "      <th>Spa</th>\n",
       "      <th>VRDeck</th>\n",
       "      <th>Transported</th>\n",
       "    </tr>\n",
       "  </thead>\n",
       "  <tbody>\n",
       "    <tr>\n",
       "      <th>0</th>\n",
       "      <td>Europa</td>\n",
       "      <td>False</td>\n",
       "      <td>B/0/P</td>\n",
       "      <td>TRAPPIST-1e</td>\n",
       "      <td>39.0</td>\n",
       "      <td>False</td>\n",
       "      <td>0.0</td>\n",
       "      <td>0.0</td>\n",
       "      <td>0.0</td>\n",
       "      <td>0.0</td>\n",
       "      <td>0.0</td>\n",
       "      <td>False</td>\n",
       "    </tr>\n",
       "    <tr>\n",
       "      <th>1</th>\n",
       "      <td>Earth</td>\n",
       "      <td>False</td>\n",
       "      <td>F/0/S</td>\n",
       "      <td>TRAPPIST-1e</td>\n",
       "      <td>24.0</td>\n",
       "      <td>False</td>\n",
       "      <td>109.0</td>\n",
       "      <td>9.0</td>\n",
       "      <td>25.0</td>\n",
       "      <td>549.0</td>\n",
       "      <td>44.0</td>\n",
       "      <td>True</td>\n",
       "    </tr>\n",
       "    <tr>\n",
       "      <th>2</th>\n",
       "      <td>Europa</td>\n",
       "      <td>False</td>\n",
       "      <td>A/0/S</td>\n",
       "      <td>TRAPPIST-1e</td>\n",
       "      <td>58.0</td>\n",
       "      <td>True</td>\n",
       "      <td>43.0</td>\n",
       "      <td>3576.0</td>\n",
       "      <td>0.0</td>\n",
       "      <td>6715.0</td>\n",
       "      <td>49.0</td>\n",
       "      <td>False</td>\n",
       "    </tr>\n",
       "    <tr>\n",
       "      <th>3</th>\n",
       "      <td>Europa</td>\n",
       "      <td>False</td>\n",
       "      <td>A/0/S</td>\n",
       "      <td>TRAPPIST-1e</td>\n",
       "      <td>33.0</td>\n",
       "      <td>False</td>\n",
       "      <td>0.0</td>\n",
       "      <td>1283.0</td>\n",
       "      <td>371.0</td>\n",
       "      <td>3329.0</td>\n",
       "      <td>193.0</td>\n",
       "      <td>False</td>\n",
       "    </tr>\n",
       "    <tr>\n",
       "      <th>4</th>\n",
       "      <td>Earth</td>\n",
       "      <td>False</td>\n",
       "      <td>F/1/S</td>\n",
       "      <td>TRAPPIST-1e</td>\n",
       "      <td>16.0</td>\n",
       "      <td>False</td>\n",
       "      <td>303.0</td>\n",
       "      <td>70.0</td>\n",
       "      <td>151.0</td>\n",
       "      <td>565.0</td>\n",
       "      <td>2.0</td>\n",
       "      <td>True</td>\n",
       "    </tr>\n",
       "  </tbody>\n",
       "</table>\n",
       "</div>"
      ],
      "text/plain": [
       "  HomePlanet CryoSleep  Cabin  Destination   Age    VIP  RoomService  \\\n",
       "0     Europa     False  B/0/P  TRAPPIST-1e  39.0  False          0.0   \n",
       "1      Earth     False  F/0/S  TRAPPIST-1e  24.0  False        109.0   \n",
       "2     Europa     False  A/0/S  TRAPPIST-1e  58.0   True         43.0   \n",
       "3     Europa     False  A/0/S  TRAPPIST-1e  33.0  False          0.0   \n",
       "4      Earth     False  F/1/S  TRAPPIST-1e  16.0  False        303.0   \n",
       "\n",
       "   FoodCourt  ShoppingMall     Spa  VRDeck  Transported  \n",
       "0        0.0           0.0     0.0     0.0        False  \n",
       "1        9.0          25.0   549.0    44.0         True  \n",
       "2     3576.0           0.0  6715.0    49.0        False  \n",
       "3     1283.0         371.0  3329.0   193.0        False  \n",
       "4       70.0         151.0   565.0     2.0         True  "
      ]
     },
     "execution_count": 13,
     "metadata": {},
     "output_type": "execute_result"
    }
   ],
   "source": [
    "df.head()"
   ]
  },
  {
   "cell_type": "code",
   "execution_count": 14,
   "id": "dca9942e",
   "metadata": {
    "execution": {
     "iopub.execute_input": "2023-07-02T05:31:22.744151Z",
     "iopub.status.busy": "2023-07-02T05:31:22.743178Z",
     "iopub.status.idle": "2023-07-02T05:31:22.758877Z",
     "shell.execute_reply": "2023-07-02T05:31:22.758054Z"
    },
    "papermill": {
     "duration": 0.033239,
     "end_time": "2023-07-02T05:31:22.760469",
     "exception": false,
     "start_time": "2023-07-02T05:31:22.727230",
     "status": "completed"
    },
    "tags": []
   },
   "outputs": [
    {
     "name": "stdout",
     "output_type": "stream",
     "text": [
      "Transported\n",
      "False    30.102470\n",
      "True     27.703036\n",
      "Name: Age, dtype: float64\n",
      "Transported\n",
      "False    383.642269\n",
      "True      64.658852\n",
      "Name: RoomService, dtype: float64\n",
      "Transported\n",
      "False    385.928027\n",
      "True     570.646829\n",
      "Name: FoodCourt, dtype: float64\n",
      "Transported\n",
      "False    171.621836\n",
      "True     184.993989\n",
      "Name: ShoppingMall, dtype: float64\n",
      "Transported\n",
      "False    566.493443\n",
      "True      63.484521\n",
      "Name: Spa, dtype: float64\n",
      "Transported\n",
      "False    539.860323\n",
      "True      71.105801\n",
      "Name: VRDeck, dtype: float64\n"
     ]
    }
   ],
   "source": [
    "#質的変数(Transported)と量的変数を比較：平均\n",
    "mean_comparison_age=df.groupby('Transported')['Age'].mean()\n",
    "mean_comparison_room=df.groupby('Transported')['RoomService'].mean()\n",
    "mean_comparison_food=df.groupby('Transported')['FoodCourt'].mean()\n",
    "mean_comparison_shop=df.groupby('Transported')['ShoppingMall'].mean()\n",
    "mean_comparison_spa=df.groupby('Transported')['Spa'].mean()\n",
    "mean_comparison_vr=df.groupby('Transported')['VRDeck'].mean()\n",
    "print(mean_comparison_age)\n",
    "print(mean_comparison_room)\n",
    "print(mean_comparison_food)\n",
    "print(mean_comparison_shop)\n",
    "print(mean_comparison_spa)\n",
    "print(mean_comparison_vr)"
   ]
  },
  {
   "cell_type": "markdown",
   "id": "2a585896",
   "metadata": {
    "papermill": {
     "duration": 0.015765,
     "end_time": "2023-07-02T05:31:22.790750",
     "exception": false,
     "start_time": "2023-07-02T05:31:22.774985",
     "status": "completed"
    },
    "tags": []
   },
   "source": [
    "上の結果から極端に平均値に差が出ているのは、「RoomService」「Spa」「VRDeck」"
   ]
  },
  {
   "cell_type": "code",
   "execution_count": 15,
   "id": "bf2d266d",
   "metadata": {
    "execution": {
     "iopub.execute_input": "2023-07-02T05:31:22.822570Z",
     "iopub.status.busy": "2023-07-02T05:31:22.822109Z",
     "iopub.status.idle": "2023-07-02T05:31:22.835949Z",
     "shell.execute_reply": "2023-07-02T05:31:22.834784Z"
    },
    "papermill": {
     "duration": 0.032101,
     "end_time": "2023-07-02T05:31:22.837892",
     "exception": false,
     "start_time": "2023-07-02T05:31:22.805791",
     "status": "completed"
    },
    "tags": []
   },
   "outputs": [
    {
     "name": "stdout",
     "output_type": "stream",
     "text": [
      "Transported\n",
      "False    186.217074\n",
      "True     233.068130\n",
      "Name: Age, dtype: float64\n",
      "Transported\n",
      "False    705926.104753\n",
      "True      79881.123811\n",
      "Name: RoomService, dtype: float64\n",
      "Transported\n",
      "False    1.485877e+06\n",
      "True     4.114152e+06\n",
      "Name: FoodCourt, dtype: float64\n",
      "Transported\n",
      "False    229612.285258\n",
      "True     433227.799723\n",
      "Name: ShoppingMall, dtype: float64\n",
      "Transported\n",
      "False    2.438636e+06\n",
      "True     6.998215e+04\n",
      "Name: Spa, dtype: float64\n",
      "Transported\n",
      "False    2.360910e+06\n",
      "True     8.700851e+04\n",
      "Name: VRDeck, dtype: float64\n"
     ]
    }
   ],
   "source": [
    "#質的変数(Transported)と量的変数を比較：分散\n",
    "var_comparison_age=df.groupby('Transported')['Age'].var()\n",
    "var_comparison_room=df.groupby('Transported')['RoomService'].var()\n",
    "var_comparison_food=df.groupby('Transported')['FoodCourt'].var()\n",
    "var_comparison_shop=df.groupby('Transported')['ShoppingMall'].var()\n",
    "var_comparison_spa=df.groupby('Transported')['Spa'].var()\n",
    "var_comparison_vr=df.groupby('Transported')['VRDeck'].var()\n",
    "print(var_comparison_age)\n",
    "print(var_comparison_room)\n",
    "print(var_comparison_food)\n",
    "print(var_comparison_shop)\n",
    "print(var_comparison_spa)\n",
    "print(var_comparison_vr)"
   ]
  },
  {
   "cell_type": "markdown",
   "id": "089398b6",
   "metadata": {
    "papermill": {
     "duration": 0.014218,
     "end_time": "2023-07-02T05:31:22.866878",
     "exception": false,
     "start_time": "2023-07-02T05:31:22.852660",
     "status": "completed"
    },
    "tags": []
   },
   "source": [
    "上の平均がずれていたもの(「RoomService」「Spa」「VRDeck」)を見ると、RoomServiceの分散はFalseが極端に大きい。SpaとVRDeckは小さいのでこの二つは見やすいかもしれない"
   ]
  },
  {
   "cell_type": "code",
   "execution_count": 16,
   "id": "822e8764",
   "metadata": {
    "execution": {
     "iopub.execute_input": "2023-07-02T05:31:22.896516Z",
     "iopub.status.busy": "2023-07-02T05:31:22.896167Z",
     "iopub.status.idle": "2023-07-02T05:31:23.262189Z",
     "shell.execute_reply": "2023-07-02T05:31:23.261607Z"
    },
    "papermill": {
     "duration": 0.382813,
     "end_time": "2023-07-02T05:31:23.263663",
     "exception": false,
     "start_time": "2023-07-02T05:31:22.880850",
     "status": "completed"
    },
    "tags": []
   },
   "outputs": [
    {
     "data": {
      "image/png": "[encoded data removed]",
      "text/plain": [
       "<Figure size 640x480 with 1 Axes>"
      ]
     },
     "metadata": {},
     "output_type": "display_data"
    },
    {
     "data": {
      "image/png": "[encoded data removed]",
      "text/plain": [
       "<Figure size 640x480 with 1 Axes>"
      ]
     },
     "metadata": {},
     "output_type": "display_data"
    }
   ],
   "source": [
    "#ヒストグラムでみてみる\n",
    "import matplotlib.pyplot as plt\n",
    "#Transportedのデータをグループ化\n",
    "grouped=df.groupby('Transported')\n",
    "\n",
    "for group_name,group_data in grouped:\n",
    "    plt.figure()\n",
    "    plt.hist(group_data['RoomService'],bins=20,alpha=0.5,label='RoomService')\n",
    "    plt.show()"
   ]
  },
  {
   "cell_type": "code",
   "execution_count": 17,
   "id": "78436912",
   "metadata": {
    "execution": {
     "iopub.execute_input": "2023-07-02T05:31:23.295476Z",
     "iopub.status.busy": "2023-07-02T05:31:23.294626Z",
     "iopub.status.idle": "2023-07-02T05:31:23.748479Z",
     "shell.execute_reply": "2023-07-02T05:31:23.747213Z"
    },
    "papermill": {
     "duration": 0.472264,
     "end_time": "2023-07-02T05:31:23.750990",
     "exception": false,
     "start_time": "2023-07-02T05:31:23.278726",
     "status": "completed"
    },
    "tags": []
   },
   "outputs": [
    {
     "data": {
      "image/png": "[encoded data removed]",
      "text/plain": [
       "<Figure size 640x480 with 1 Axes>"
      ]
     },
     "metadata": {},
     "output_type": "display_data"
    },
    {
     "data": {
      "image/png": "[encoded data removed]",
      "text/plain": [
       "<Figure size 640x480 with 1 Axes>"
      ]
     },
     "metadata": {},
     "output_type": "display_data"
    }
   ],
   "source": [
    "#ヒストグラムでみてみる\n",
    "import matplotlib.pyplot as plt\n",
    "#Transportedのデータをグループ化\n",
    "grouped=df.groupby('Transported')\n",
    "\n",
    "for group_name,group_data in grouped:\n",
    "    plt.figure()\n",
    "    plt.hist(group_data['Spa'],bins=20,alpha=0.5,label='Spa')\n",
    "    plt.show()"
   ]
  },
  {
   "cell_type": "code",
   "execution_count": 18,
   "id": "2a80e6d7",
   "metadata": {
    "execution": {
     "iopub.execute_input": "2023-07-02T05:31:23.791202Z",
     "iopub.status.busy": "2023-07-02T05:31:23.790419Z",
     "iopub.status.idle": "2023-07-02T05:31:24.167136Z",
     "shell.execute_reply": "2023-07-02T05:31:24.166231Z"
    },
    "papermill": {
     "duration": 0.399971,
     "end_time": "2023-07-02T05:31:24.169011",
     "exception": false,
     "start_time": "2023-07-02T05:31:23.769040",
     "status": "completed"
    },
    "tags": []
   },
   "outputs": [
    {
     "data": {
      "image/png": "[encoded data removed]",
      "text/plain": [
       "<Figure size 640x480 with 1 Axes>"
      ]
     },
     "metadata": {},
     "output_type": "display_data"
    },
    {
     "data": {
      "image/png": "[encoded data removed]",
      "text/plain": [
       "<Figure size 640x480 with 1 Axes>"
      ]
     },
     "metadata": {},
     "output_type": "display_data"
    }
   ],
   "source": [
    "#ヒストグラムでみてみる\n",
    "import matplotlib.pyplot as plt\n",
    "#Transportedのデータをグループ化\n",
    "grouped=df.groupby('Transported')\n",
    "\n",
    "for group_name,group_data in grouped:\n",
    "    plt.figure()\n",
    "    plt.hist(group_data['VRDeck'],bins=20,alpha=0.5,label='VRDeck')\n",
    "    plt.show()"
   ]
  },
  {
   "cell_type": "markdown",
   "id": "38fdd2e4",
   "metadata": {
    "papermill": {
     "duration": 0.015203,
     "end_time": "2023-07-02T05:31:24.200117",
     "exception": false,
     "start_time": "2023-07-02T05:31:24.184914",
     "status": "completed"
    },
    "tags": []
   },
   "source": [
    "どれも平均に近く分布していて、多く使っている人がいる。対数変換して見てみるのもありだと思う。"
   ]
  },
  {
   "cell_type": "code",
   "execution_count": 19,
   "id": "db525fe2",
   "metadata": {
    "execution": {
     "iopub.execute_input": "2023-07-02T05:31:24.232786Z",
     "iopub.status.busy": "2023-07-02T05:31:24.232454Z",
     "iopub.status.idle": "2023-07-02T05:31:24.259587Z",
     "shell.execute_reply": "2023-07-02T05:31:24.258151Z"
    },
    "papermill": {
     "duration": 0.045809,
     "end_time": "2023-07-02T05:31:24.261504",
     "exception": false,
     "start_time": "2023-07-02T05:31:24.215695",
     "status": "completed"
    },
    "tags": []
   },
   "outputs": [
    {
     "name": "stdout",
     "output_type": "stream",
     "text": [
      "CryoSleep    False  True \n",
      "Transported              \n",
      "False         2852    427\n",
      "True          1422   1905\n"
     ]
    }
   ],
   "source": [
    "#質的変数(Transported)と質的変数を比較：クロス集計\n",
    "#クロス集計を行う\n",
    "cross_tab=pd.crosstab(df['Transported'],df['CryoSleep'])\n",
    "print(cross_tab)"
   ]
  },
  {
   "cell_type": "markdown",
   "id": "ec41bcbe",
   "metadata": {
    "papermill": {
     "duration": 0.019177,
     "end_time": "2023-07-02T05:31:24.297474",
     "exception": false,
     "start_time": "2023-07-02T05:31:24.278297",
     "status": "completed"
    },
    "tags": []
   },
   "source": [
    "CryoSleepしている人は転送されやすくなっている。\n",
    "してない人は転送されていない人が多い"
   ]
  },
  {
   "cell_type": "code",
   "execution_count": 20,
   "id": "047b0b1f",
   "metadata": {
    "execution": {
     "iopub.execute_input": "2023-07-02T05:31:24.338130Z",
     "iopub.status.busy": "2023-07-02T05:31:24.337824Z",
     "iopub.status.idle": "2023-07-02T05:31:24.353906Z",
     "shell.execute_reply": "2023-07-02T05:31:24.352662Z"
    },
    "papermill": {
     "duration": 0.037998,
     "end_time": "2023-07-02T05:31:24.356192",
     "exception": false,
     "start_time": "2023-07-02T05:31:24.318194",
     "status": "completed"
    },
    "tags": []
   },
   "outputs": [
    {
     "name": "stdout",
     "output_type": "stream",
     "text": [
      "HomePlanet   Earth  Europa  Mars\n",
      "Transported                     \n",
      "False         2048     569   662\n",
      "True          1518    1104   705\n"
     ]
    }
   ],
   "source": [
    "#クロス集計を行う\n",
    "cross_tab=pd.crosstab(df['Transported'],df['HomePlanet'])\n",
    "print(cross_tab)"
   ]
  },
  {
   "cell_type": "markdown",
   "id": "43f12172",
   "metadata": {
    "papermill": {
     "duration": 0.015971,
     "end_time": "2023-07-02T05:31:24.389046",
     "exception": false,
     "start_time": "2023-07-02T05:31:24.373075",
     "status": "completed"
    },
    "tags": []
   },
   "source": [
    "Earthから出発した乗客は転送されていない人が多い。\n",
    "Europaからだと、転送された人が多い。\n",
    "Marsは同数"
   ]
  },
  {
   "cell_type": "code",
   "execution_count": 21,
   "id": "7cefe0a1",
   "metadata": {
    "execution": {
     "iopub.execute_input": "2023-07-02T05:31:24.424160Z",
     "iopub.status.busy": "2023-07-02T05:31:24.423587Z",
     "iopub.status.idle": "2023-07-02T05:31:24.437330Z",
     "shell.execute_reply": "2023-07-02T05:31:24.436191Z"
    },
    "papermill": {
     "duration": 0.033604,
     "end_time": "2023-07-02T05:31:24.439185",
     "exception": false,
     "start_time": "2023-07-02T05:31:24.405581",
     "status": "completed"
    },
    "tags": []
   },
   "outputs": [
    {
     "name": "stdout",
     "output_type": "stream",
     "text": [
      "Destination  55 Cancri e  PSO J318.5-22  TRAPPIST-1e\n",
      "Transported                                         \n",
      "False                531            308         2440\n",
      "True                 876            315         2136\n"
     ]
    }
   ],
   "source": [
    "#クロス集計を行う\n",
    "cross_tab=pd.crosstab(df['Transported'],df['Destination'])\n",
    "print(cross_tab)"
   ]
  },
  {
   "cell_type": "markdown",
   "id": "6685faeb",
   "metadata": {
    "papermill": {
     "duration": 0.016071,
     "end_time": "2023-07-02T05:31:24.471757",
     "exception": false,
     "start_time": "2023-07-02T05:31:24.455686",
     "status": "completed"
    },
    "tags": []
   },
   "source": [
    "55 Cancri eに差が出ているくらい"
   ]
  },
  {
   "cell_type": "code",
   "execution_count": 22,
   "id": "ef1060dd",
   "metadata": {
    "execution": {
     "iopub.execute_input": "2023-07-02T05:31:24.505895Z",
     "iopub.status.busy": "2023-07-02T05:31:24.505566Z",
     "iopub.status.idle": "2023-07-02T05:31:24.520055Z",
     "shell.execute_reply": "2023-07-02T05:31:24.519112Z"
    },
    "papermill": {
     "duration": 0.033973,
     "end_time": "2023-07-02T05:31:24.521799",
     "exception": false,
     "start_time": "2023-07-02T05:31:24.487826",
     "status": "completed"
    },
    "tags": []
   },
   "outputs": [
    {
     "name": "stdout",
     "output_type": "stream",
     "text": [
      "VIP          False  True \n",
      "Transported              \n",
      "False         3177    102\n",
      "True          3267     60\n"
     ]
    }
   ],
   "source": [
    "#クロス集計を行う\n",
    "cross_tab=pd.crosstab(df['Transported'],df['VIP'])\n",
    "print(cross_tab)"
   ]
  },
  {
   "cell_type": "markdown",
   "id": "10b4557c",
   "metadata": {
    "papermill": {
     "duration": 0.015362,
     "end_time": "2023-07-02T05:31:24.553801",
     "exception": false,
     "start_time": "2023-07-02T05:31:24.538439",
     "status": "completed"
    },
    "tags": []
   },
   "source": [
    "ほぼ同数"
   ]
  },
  {
   "cell_type": "code",
   "execution_count": 23,
   "id": "cd2ec079",
   "metadata": {
    "execution": {
     "iopub.execute_input": "2023-07-02T05:31:24.587480Z",
     "iopub.status.busy": "2023-07-02T05:31:24.587142Z",
     "iopub.status.idle": "2023-07-02T05:31:24.602288Z",
     "shell.execute_reply": "2023-07-02T05:31:24.601327Z"
    },
    "papermill": {
     "duration": 0.034737,
     "end_time": "2023-07-02T05:31:24.604423",
     "exception": false,
     "start_time": "2023-07-02T05:31:24.569686",
     "status": "completed"
    },
    "tags": []
   },
   "outputs": [],
   "source": [
    "#データを\"/\"ごとに分ける\n",
    "df[[\"Deck\", \"Cabin_num\", \"Side\"]] = df[\"Cabin\"].str.split(\"/\", expand=True)"
   ]
  },
  {
   "cell_type": "code",
   "execution_count": 24,
   "id": "31a1f0cc",
   "metadata": {
    "execution": {
     "iopub.execute_input": "2023-07-02T05:31:24.637721Z",
     "iopub.status.busy": "2023-07-02T05:31:24.637409Z",
     "iopub.status.idle": "2023-07-02T05:31:24.642900Z",
     "shell.execute_reply": "2023-07-02T05:31:24.641941Z"
    },
    "papermill": {
     "duration": 0.023971,
     "end_time": "2023-07-02T05:31:24.644657",
     "exception": false,
     "start_time": "2023-07-02T05:31:24.620686",
     "status": "completed"
    },
    "tags": []
   },
   "outputs": [],
   "source": [
    "df=df.drop(labels='Cabin',axis=1)"
   ]
  },
  {
   "cell_type": "code",
   "execution_count": 25,
   "id": "d8086484",
   "metadata": {
    "execution": {
     "iopub.execute_input": "2023-07-02T05:31:24.677809Z",
     "iopub.status.busy": "2023-07-02T05:31:24.677495Z",
     "iopub.status.idle": "2023-07-02T05:31:24.693130Z",
     "shell.execute_reply": "2023-07-02T05:31:24.692336Z"
    },
    "papermill": {
     "duration": 0.034162,
     "end_time": "2023-07-02T05:31:24.694762",
     "exception": false,
     "start_time": "2023-07-02T05:31:24.660600",
     "status": "completed"
    },
    "tags": []
   },
   "outputs": [
    {
     "data": {
      "text/html": [
       "<div>\n",
       "<style scoped>\n",
       "    .dataframe tbody tr th:only-of-type {\n",
       "        vertical-align: middle;\n",
       "    }\n",
       "\n",
       "    .dataframe tbody tr th {\n",
       "        vertical-align: top;\n",
       "    }\n",
       "\n",
       "    .dataframe thead th {\n",
       "        text-align: right;\n",
       "    }\n",
       "</style>\n",
       "<table border=\"1\" class=\"dataframe\">\n",
       "  <thead>\n",
       "    <tr style=\"text-align: right;\">\n",
       "      <th></th>\n",
       "      <th>HomePlanet</th>\n",
       "      <th>CryoSleep</th>\n",
       "      <th>Destination</th>\n",
       "      <th>Age</th>\n",
       "      <th>VIP</th>\n",
       "      <th>RoomService</th>\n",
       "      <th>FoodCourt</th>\n",
       "      <th>ShoppingMall</th>\n",
       "      <th>Spa</th>\n",
       "      <th>VRDeck</th>\n",
       "      <th>Transported</th>\n",
       "      <th>Deck</th>\n",
       "      <th>Cabin_num</th>\n",
       "      <th>Side</th>\n",
       "    </tr>\n",
       "  </thead>\n",
       "  <tbody>\n",
       "    <tr>\n",
       "      <th>0</th>\n",
       "      <td>Europa</td>\n",
       "      <td>False</td>\n",
       "      <td>TRAPPIST-1e</td>\n",
       "      <td>39.0</td>\n",
       "      <td>False</td>\n",
       "      <td>0.0</td>\n",
       "      <td>0.0</td>\n",
       "      <td>0.0</td>\n",
       "      <td>0.0</td>\n",
       "      <td>0.0</td>\n",
       "      <td>False</td>\n",
       "      <td>B</td>\n",
       "      <td>0</td>\n",
       "      <td>P</td>\n",
       "    </tr>\n",
       "    <tr>\n",
       "      <th>1</th>\n",
       "      <td>Earth</td>\n",
       "      <td>False</td>\n",
       "      <td>TRAPPIST-1e</td>\n",
       "      <td>24.0</td>\n",
       "      <td>False</td>\n",
       "      <td>109.0</td>\n",
       "      <td>9.0</td>\n",
       "      <td>25.0</td>\n",
       "      <td>549.0</td>\n",
       "      <td>44.0</td>\n",
       "      <td>True</td>\n",
       "      <td>F</td>\n",
       "      <td>0</td>\n",
       "      <td>S</td>\n",
       "    </tr>\n",
       "    <tr>\n",
       "      <th>2</th>\n",
       "      <td>Europa</td>\n",
       "      <td>False</td>\n",
       "      <td>TRAPPIST-1e</td>\n",
       "      <td>58.0</td>\n",
       "      <td>True</td>\n",
       "      <td>43.0</td>\n",
       "      <td>3576.0</td>\n",
       "      <td>0.0</td>\n",
       "      <td>6715.0</td>\n",
       "      <td>49.0</td>\n",
       "      <td>False</td>\n",
       "      <td>A</td>\n",
       "      <td>0</td>\n",
       "      <td>S</td>\n",
       "    </tr>\n",
       "    <tr>\n",
       "      <th>3</th>\n",
       "      <td>Europa</td>\n",
       "      <td>False</td>\n",
       "      <td>TRAPPIST-1e</td>\n",
       "      <td>33.0</td>\n",
       "      <td>False</td>\n",
       "      <td>0.0</td>\n",
       "      <td>1283.0</td>\n",
       "      <td>371.0</td>\n",
       "      <td>3329.0</td>\n",
       "      <td>193.0</td>\n",
       "      <td>False</td>\n",
       "      <td>A</td>\n",
       "      <td>0</td>\n",
       "      <td>S</td>\n",
       "    </tr>\n",
       "    <tr>\n",
       "      <th>4</th>\n",
       "      <td>Earth</td>\n",
       "      <td>False</td>\n",
       "      <td>TRAPPIST-1e</td>\n",
       "      <td>16.0</td>\n",
       "      <td>False</td>\n",
       "      <td>303.0</td>\n",
       "      <td>70.0</td>\n",
       "      <td>151.0</td>\n",
       "      <td>565.0</td>\n",
       "      <td>2.0</td>\n",
       "      <td>True</td>\n",
       "      <td>F</td>\n",
       "      <td>1</td>\n",
       "      <td>S</td>\n",
       "    </tr>\n",
       "  </tbody>\n",
       "</table>\n",
       "</div>"
      ],
      "text/plain": [
       "  HomePlanet CryoSleep  Destination   Age    VIP  RoomService  FoodCourt  \\\n",
       "0     Europa     False  TRAPPIST-1e  39.0  False          0.0        0.0   \n",
       "1      Earth     False  TRAPPIST-1e  24.0  False        109.0        9.0   \n",
       "2     Europa     False  TRAPPIST-1e  58.0   True         43.0     3576.0   \n",
       "3     Europa     False  TRAPPIST-1e  33.0  False          0.0     1283.0   \n",
       "4      Earth     False  TRAPPIST-1e  16.0  False        303.0       70.0   \n",
       "\n",
       "   ShoppingMall     Spa  VRDeck  Transported Deck Cabin_num Side  \n",
       "0           0.0     0.0     0.0        False    B         0    P  \n",
       "1          25.0   549.0    44.0         True    F         0    S  \n",
       "2           0.0  6715.0    49.0        False    A         0    S  \n",
       "3         371.0  3329.0   193.0        False    A         0    S  \n",
       "4         151.0   565.0     2.0         True    F         1    S  "
      ]
     },
     "execution_count": 25,
     "metadata": {},
     "output_type": "execute_result"
    }
   ],
   "source": [
    "#Cabin列がなくなって、Deck、Cabin_num,Sideが増えたことを確認\n",
    "df.head()"
   ]
  },
  {
   "cell_type": "code",
   "execution_count": 26,
   "id": "aefc4c87",
   "metadata": {
    "execution": {
     "iopub.execute_input": "2023-07-02T05:31:24.730872Z",
     "iopub.status.busy": "2023-07-02T05:31:24.730550Z",
     "iopub.status.idle": "2023-07-02T05:31:24.747056Z",
     "shell.execute_reply": "2023-07-02T05:31:24.745856Z"
    },
    "papermill": {
     "duration": 0.03819,
     "end_time": "2023-07-02T05:31:24.748845",
     "exception": false,
     "start_time": "2023-07-02T05:31:24.710655",
     "status": "completed"
    },
    "tags": []
   },
   "outputs": [
    {
     "name": "stdout",
     "output_type": "stream",
     "text": [
      "Deck           A    B    C    D    E     F     G  T\n",
      "Transported                                        \n",
      "False        106  170  188  216  438  1215   945  1\n",
      "True         101  458  399  158  245   937  1028  1\n"
     ]
    }
   ],
   "source": [
    "#クロス集計を行う\n",
    "cross_tab=pd.crosstab(df['Transported'],df['Deck'])\n",
    "print(cross_tab)"
   ]
  },
  {
   "cell_type": "markdown",
   "id": "0a389cf8",
   "metadata": {
    "papermill": {
     "duration": 0.016729,
     "end_time": "2023-07-02T05:31:24.782110",
     "exception": false,
     "start_time": "2023-07-02T05:31:24.765381",
     "status": "completed"
    },
    "tags": []
   },
   "source": [
    "transportedがB,C,Gだとtrueが多い、D,E,Fだとfalseが多い"
   ]
  },
  {
   "cell_type": "code",
   "execution_count": 27,
   "id": "21703038",
   "metadata": {
    "execution": {
     "iopub.execute_input": "2023-07-02T05:31:24.816060Z",
     "iopub.status.busy": "2023-07-02T05:31:24.815764Z",
     "iopub.status.idle": "2023-07-02T05:31:25.054121Z",
     "shell.execute_reply": "2023-07-02T05:31:25.052990Z"
    },
    "papermill": {
     "duration": 0.257817,
     "end_time": "2023-07-02T05:31:25.055911",
     "exception": false,
     "start_time": "2023-07-02T05:31:24.798094",
     "status": "completed"
    },
    "tags": []
   },
   "outputs": [
    {
     "name": "stdout",
     "output_type": "stream",
     "text": [
      "Cabin_num    0  1  10  100  1000  1001  1002  1003  1004  1005  ...  990  991  \\\n",
      "Transported                                                     ...             \n",
      "False        7  3   5    3     3     1     1     1     0     0  ...    2    1   \n",
      "True         5  9   5    7     2     2     2     1     3     2  ...    1    4   \n",
      "\n",
      "Cabin_num    992  993  994  995  996  997  998  999  \n",
      "Transported                                          \n",
      "False          1    1    2    1    0    2    2    0  \n",
      "True           1    1    5    1    1    0    1    4  \n",
      "\n",
      "[2 rows x 1734 columns]\n"
     ]
    }
   ],
   "source": [
    "#クロス集計を行う\n",
    "cross_tab=pd.crosstab(df['Transported'],df['Cabin_num'])\n",
    "print(cross_tab)"
   ]
  },
  {
   "cell_type": "markdown",
   "id": "55228016",
   "metadata": {
    "papermill": {
     "duration": 0.015774,
     "end_time": "2023-07-02T05:31:25.088272",
     "exception": false,
     "start_time": "2023-07-02T05:31:25.072498",
     "status": "completed"
    },
    "tags": []
   },
   "source": [
    "差が生まれにくい。変数が増えるだけなので削除する"
   ]
  },
  {
   "cell_type": "code",
   "execution_count": 28,
   "id": "24528bfd",
   "metadata": {
    "execution": {
     "iopub.execute_input": "2023-07-02T05:31:25.123897Z",
     "iopub.status.busy": "2023-07-02T05:31:25.123551Z",
     "iopub.status.idle": "2023-07-02T05:31:25.139557Z",
     "shell.execute_reply": "2023-07-02T05:31:25.138548Z"
    },
    "papermill": {
     "duration": 0.036878,
     "end_time": "2023-07-02T05:31:25.141595",
     "exception": false,
     "start_time": "2023-07-02T05:31:25.104717",
     "status": "completed"
    },
    "tags": []
   },
   "outputs": [
    {
     "name": "stdout",
     "output_type": "stream",
     "text": [
      "Side            P     S\n",
      "Transported            \n",
      "False        1794  1485\n",
      "True         1467  1860\n"
     ]
    }
   ],
   "source": [
    "#クロス集計を行う\n",
    "cross_tab=pd.crosstab(df['Transported'],df['Side'])\n",
    "print(cross_tab)"
   ]
  },
  {
   "cell_type": "markdown",
   "id": "f539d8b2",
   "metadata": {
    "papermill": {
     "duration": 0.01653,
     "end_time": "2023-07-02T05:31:25.175008",
     "exception": false,
     "start_time": "2023-07-02T05:31:25.158478",
     "status": "completed"
    },
    "tags": []
   },
   "source": [
    "差がないようにも思えるけど、強いていうとpだとfalseになりやすくて、sだとtrueになりやすい"
   ]
  },
  {
   "cell_type": "code",
   "execution_count": 29,
   "id": "ebaddd5a",
   "metadata": {
    "execution": {
     "iopub.execute_input": "2023-07-02T05:31:25.210621Z",
     "iopub.status.busy": "2023-07-02T05:31:25.210276Z",
     "iopub.status.idle": "2023-07-02T05:31:25.216174Z",
     "shell.execute_reply": "2023-07-02T05:31:25.215169Z"
    },
    "papermill": {
     "duration": 0.026586,
     "end_time": "2023-07-02T05:31:25.218692",
     "exception": false,
     "start_time": "2023-07-02T05:31:25.192106",
     "status": "completed"
    },
    "tags": []
   },
   "outputs": [],
   "source": [
    "#Cabin_numは削除してしまう\n",
    "df=df.drop(labels='Cabin_num',axis=1)"
   ]
  },
  {
   "cell_type": "markdown",
   "id": "9d11b6a0",
   "metadata": {
    "papermill": {
     "duration": 0.016139,
     "end_time": "2023-07-02T05:31:25.252631",
     "exception": false,
     "start_time": "2023-07-02T05:31:25.236492",
     "status": "completed"
    },
    "tags": []
   },
   "source": [
    "# ダミー変数に変換する"
   ]
  },
  {
   "cell_type": "code",
   "execution_count": 30,
   "id": "c010ec02",
   "metadata": {
    "execution": {
     "iopub.execute_input": "2023-07-02T05:31:25.286319Z",
     "iopub.status.busy": "2023-07-02T05:31:25.286002Z",
     "iopub.status.idle": "2023-07-02T05:31:25.297232Z",
     "shell.execute_reply": "2023-07-02T05:31:25.296651Z"
    },
    "papermill": {
     "duration": 0.030572,
     "end_time": "2023-07-02T05:31:25.299211",
     "exception": false,
     "start_time": "2023-07-02T05:31:25.268639",
     "status": "completed"
    },
    "tags": []
   },
   "outputs": [
    {
     "data": {
      "text/html": [
       "<div>\n",
       "<style scoped>\n",
       "    .dataframe tbody tr th:only-of-type {\n",
       "        vertical-align: middle;\n",
       "    }\n",
       "\n",
       "    .dataframe tbody tr th {\n",
       "        vertical-align: top;\n",
       "    }\n",
       "\n",
       "    .dataframe thead th {\n",
       "        text-align: right;\n",
       "    }\n",
       "</style>\n",
       "<table border=\"1\" class=\"dataframe\">\n",
       "  <thead>\n",
       "    <tr style=\"text-align: right;\">\n",
       "      <th></th>\n",
       "      <th>HomePlanet</th>\n",
       "      <th>CryoSleep</th>\n",
       "      <th>Destination</th>\n",
       "      <th>VIP</th>\n",
       "      <th>Deck</th>\n",
       "      <th>Side</th>\n",
       "    </tr>\n",
       "  </thead>\n",
       "  <tbody>\n",
       "    <tr>\n",
       "      <th>0</th>\n",
       "      <td>Europa</td>\n",
       "      <td>False</td>\n",
       "      <td>TRAPPIST-1e</td>\n",
       "      <td>False</td>\n",
       "      <td>B</td>\n",
       "      <td>P</td>\n",
       "    </tr>\n",
       "    <tr>\n",
       "      <th>1</th>\n",
       "      <td>Earth</td>\n",
       "      <td>False</td>\n",
       "      <td>TRAPPIST-1e</td>\n",
       "      <td>False</td>\n",
       "      <td>F</td>\n",
       "      <td>S</td>\n",
       "    </tr>\n",
       "    <tr>\n",
       "      <th>2</th>\n",
       "      <td>Europa</td>\n",
       "      <td>False</td>\n",
       "      <td>TRAPPIST-1e</td>\n",
       "      <td>True</td>\n",
       "      <td>A</td>\n",
       "      <td>S</td>\n",
       "    </tr>\n",
       "    <tr>\n",
       "      <th>3</th>\n",
       "      <td>Europa</td>\n",
       "      <td>False</td>\n",
       "      <td>TRAPPIST-1e</td>\n",
       "      <td>False</td>\n",
       "      <td>A</td>\n",
       "      <td>S</td>\n",
       "    </tr>\n",
       "    <tr>\n",
       "      <th>4</th>\n",
       "      <td>Earth</td>\n",
       "      <td>False</td>\n",
       "      <td>TRAPPIST-1e</td>\n",
       "      <td>False</td>\n",
       "      <td>F</td>\n",
       "      <td>S</td>\n",
       "    </tr>\n",
       "  </tbody>\n",
       "</table>\n",
       "</div>"
      ],
      "text/plain": [
       "  HomePlanet CryoSleep  Destination    VIP Deck Side\n",
       "0     Europa     False  TRAPPIST-1e  False    B    P\n",
       "1      Earth     False  TRAPPIST-1e  False    F    S\n",
       "2     Europa     False  TRAPPIST-1e   True    A    S\n",
       "3     Europa     False  TRAPPIST-1e  False    A    S\n",
       "4      Earth     False  TRAPPIST-1e  False    F    S"
      ]
     },
     "execution_count": 30,
     "metadata": {},
     "output_type": "execute_result"
    }
   ],
   "source": [
    "#カテゴリカル変数を含んだデータのみ抽出\n",
    "df_obj=df.select_dtypes(include='object')\n",
    "df_obj.head()"
   ]
  },
  {
   "cell_type": "code",
   "execution_count": 31,
   "id": "031546bd",
   "metadata": {
    "execution": {
     "iopub.execute_input": "2023-07-02T05:31:25.334637Z",
     "iopub.status.busy": "2023-07-02T05:31:25.334228Z",
     "iopub.status.idle": "2023-07-02T05:31:25.343337Z",
     "shell.execute_reply": "2023-07-02T05:31:25.342728Z"
    },
    "papermill": {
     "duration": 0.028753,
     "end_time": "2023-07-02T05:31:25.344838",
     "exception": false,
     "start_time": "2023-07-02T05:31:25.316085",
     "status": "completed"
    },
    "tags": []
   },
   "outputs": [
    {
     "data": {
      "text/plain": [
       "Index(['CryoSleep', 'VIP', 'Side'], dtype='object')"
      ]
     },
     "execution_count": 31,
     "metadata": {},
     "output_type": "execute_result"
    }
   ],
   "source": [
    "#それぞれ別のユニークな値の数\n",
    "df_uni=df_obj.nunique()\n",
    "#ユニークな値の数が2つの入力変数に対してLabel Encodingを適用\n",
    "df_cols=df_uni[df_uni==2].index\n",
    "df_cols"
   ]
  },
  {
   "cell_type": "code",
   "execution_count": 32,
   "id": "11c258b9",
   "metadata": {
    "execution": {
     "iopub.execute_input": "2023-07-02T05:31:25.380560Z",
     "iopub.status.busy": "2023-07-02T05:31:25.379645Z",
     "iopub.status.idle": "2023-07-02T05:31:26.347703Z",
     "shell.execute_reply": "2023-07-02T05:31:26.346575Z"
    },
    "papermill": {
     "duration": 0.988274,
     "end_time": "2023-07-02T05:31:26.349951",
     "exception": false,
     "start_time": "2023-07-02T05:31:25.361677",
     "status": "completed"
    },
    "tags": []
   },
   "outputs": [],
   "source": [
    "from sklearn.preprocessing import LabelEncoder\n",
    "for col in df_cols:\n",
    "    le=LabelEncoder()\n",
    "    le.fit(df[col])\n",
    "    df[col]=le.transform(df[col])"
   ]
  },
  {
   "cell_type": "code",
   "execution_count": 33,
   "id": "69c87162",
   "metadata": {
    "execution": {
     "iopub.execute_input": "2023-07-02T05:31:26.386441Z",
     "iopub.status.busy": "2023-07-02T05:31:26.386007Z",
     "iopub.status.idle": "2023-07-02T05:31:26.396751Z",
     "shell.execute_reply": "2023-07-02T05:31:26.395885Z"
    },
    "papermill": {
     "duration": 0.03126,
     "end_time": "2023-07-02T05:31:26.398475",
     "exception": false,
     "start_time": "2023-07-02T05:31:26.367215",
     "status": "completed"
    },
    "tags": []
   },
   "outputs": [
    {
     "data": {
      "text/html": [
       "<div>\n",
       "<style scoped>\n",
       "    .dataframe tbody tr th:only-of-type {\n",
       "        vertical-align: middle;\n",
       "    }\n",
       "\n",
       "    .dataframe tbody tr th {\n",
       "        vertical-align: top;\n",
       "    }\n",
       "\n",
       "    .dataframe thead th {\n",
       "        text-align: right;\n",
       "    }\n",
       "</style>\n",
       "<table border=\"1\" class=\"dataframe\">\n",
       "  <thead>\n",
       "    <tr style=\"text-align: right;\">\n",
       "      <th></th>\n",
       "      <th>CryoSleep</th>\n",
       "      <th>VIP</th>\n",
       "      <th>Side</th>\n",
       "    </tr>\n",
       "  </thead>\n",
       "  <tbody>\n",
       "    <tr>\n",
       "      <th>0</th>\n",
       "      <td>0</td>\n",
       "      <td>0</td>\n",
       "      <td>0</td>\n",
       "    </tr>\n",
       "    <tr>\n",
       "      <th>1</th>\n",
       "      <td>0</td>\n",
       "      <td>0</td>\n",
       "      <td>1</td>\n",
       "    </tr>\n",
       "    <tr>\n",
       "      <th>2</th>\n",
       "      <td>0</td>\n",
       "      <td>1</td>\n",
       "      <td>1</td>\n",
       "    </tr>\n",
       "    <tr>\n",
       "      <th>3</th>\n",
       "      <td>0</td>\n",
       "      <td>0</td>\n",
       "      <td>1</td>\n",
       "    </tr>\n",
       "    <tr>\n",
       "      <th>4</th>\n",
       "      <td>0</td>\n",
       "      <td>0</td>\n",
       "      <td>1</td>\n",
       "    </tr>\n",
       "  </tbody>\n",
       "</table>\n",
       "</div>"
      ],
      "text/plain": [
       "   CryoSleep  VIP  Side\n",
       "0          0    0     0\n",
       "1          0    0     1\n",
       "2          0    1     1\n",
       "3          0    0     1\n",
       "4          0    0     1"
      ]
     },
     "execution_count": 33,
     "metadata": {},
     "output_type": "execute_result"
    }
   ],
   "source": [
    "#Encodingが完了していることを確認\n",
    "df[df_cols].head()"
   ]
  },
  {
   "cell_type": "code",
   "execution_count": 34,
   "id": "a44d9edf",
   "metadata": {
    "execution": {
     "iopub.execute_input": "2023-07-02T05:31:26.433033Z",
     "iopub.status.busy": "2023-07-02T05:31:26.432705Z",
     "iopub.status.idle": "2023-07-02T05:31:26.443373Z",
     "shell.execute_reply": "2023-07-02T05:31:26.442730Z"
    },
    "papermill": {
     "duration": 0.029748,
     "end_time": "2023-07-02T05:31:26.444934",
     "exception": false,
     "start_time": "2023-07-02T05:31:26.415186",
     "status": "completed"
    },
    "tags": []
   },
   "outputs": [],
   "source": [
    "#その他のカテゴリをダミー変数に変換\n",
    "df=pd.get_dummies(df,drop_first=True)"
   ]
  },
  {
   "cell_type": "markdown",
   "id": "47c3fa3a",
   "metadata": {
    "papermill": {
     "duration": 0.015779,
     "end_time": "2023-07-02T05:31:26.476934",
     "exception": false,
     "start_time": "2023-07-02T05:31:26.461155",
     "status": "completed"
    },
    "tags": []
   },
   "source": [
    "# ランダムフォレストで学習"
   ]
  },
  {
   "cell_type": "code",
   "execution_count": 35,
   "id": "0dfd145a",
   "metadata": {
    "execution": {
     "iopub.execute_input": "2023-07-02T05:31:26.510656Z",
     "iopub.status.busy": "2023-07-02T05:31:26.510319Z",
     "iopub.status.idle": "2023-07-02T05:31:26.529208Z",
     "shell.execute_reply": "2023-07-02T05:31:26.528514Z"
    },
    "papermill": {
     "duration": 0.03778,
     "end_time": "2023-07-02T05:31:26.530785",
     "exception": false,
     "start_time": "2023-07-02T05:31:26.493005",
     "status": "completed"
    },
    "tags": []
   },
   "outputs": [
    {
     "data": {
      "text/html": [
       "<div>\n",
       "<style scoped>\n",
       "    .dataframe tbody tr th:only-of-type {\n",
       "        vertical-align: middle;\n",
       "    }\n",
       "\n",
       "    .dataframe tbody tr th {\n",
       "        vertical-align: top;\n",
       "    }\n",
       "\n",
       "    .dataframe thead th {\n",
       "        text-align: right;\n",
       "    }\n",
       "</style>\n",
       "<table border=\"1\" class=\"dataframe\">\n",
       "  <thead>\n",
       "    <tr style=\"text-align: right;\">\n",
       "      <th></th>\n",
       "      <th>CryoSleep</th>\n",
       "      <th>Age</th>\n",
       "      <th>VIP</th>\n",
       "      <th>RoomService</th>\n",
       "      <th>FoodCourt</th>\n",
       "      <th>ShoppingMall</th>\n",
       "      <th>Spa</th>\n",
       "      <th>VRDeck</th>\n",
       "      <th>Transported</th>\n",
       "      <th>Side</th>\n",
       "      <th>...</th>\n",
       "      <th>HomePlanet_Mars</th>\n",
       "      <th>Destination_PSO J318.5-22</th>\n",
       "      <th>Destination_TRAPPIST-1e</th>\n",
       "      <th>Deck_B</th>\n",
       "      <th>Deck_C</th>\n",
       "      <th>Deck_D</th>\n",
       "      <th>Deck_E</th>\n",
       "      <th>Deck_F</th>\n",
       "      <th>Deck_G</th>\n",
       "      <th>Deck_T</th>\n",
       "    </tr>\n",
       "  </thead>\n",
       "  <tbody>\n",
       "    <tr>\n",
       "      <th>0</th>\n",
       "      <td>0</td>\n",
       "      <td>39.0</td>\n",
       "      <td>0</td>\n",
       "      <td>0.0</td>\n",
       "      <td>0.0</td>\n",
       "      <td>0.0</td>\n",
       "      <td>0.0</td>\n",
       "      <td>0.0</td>\n",
       "      <td>False</td>\n",
       "      <td>0</td>\n",
       "      <td>...</td>\n",
       "      <td>0</td>\n",
       "      <td>0</td>\n",
       "      <td>1</td>\n",
       "      <td>1</td>\n",
       "      <td>0</td>\n",
       "      <td>0</td>\n",
       "      <td>0</td>\n",
       "      <td>0</td>\n",
       "      <td>0</td>\n",
       "      <td>0</td>\n",
       "    </tr>\n",
       "    <tr>\n",
       "      <th>1</th>\n",
       "      <td>0</td>\n",
       "      <td>24.0</td>\n",
       "      <td>0</td>\n",
       "      <td>109.0</td>\n",
       "      <td>9.0</td>\n",
       "      <td>25.0</td>\n",
       "      <td>549.0</td>\n",
       "      <td>44.0</td>\n",
       "      <td>True</td>\n",
       "      <td>1</td>\n",
       "      <td>...</td>\n",
       "      <td>0</td>\n",
       "      <td>0</td>\n",
       "      <td>1</td>\n",
       "      <td>0</td>\n",
       "      <td>0</td>\n",
       "      <td>0</td>\n",
       "      <td>0</td>\n",
       "      <td>1</td>\n",
       "      <td>0</td>\n",
       "      <td>0</td>\n",
       "    </tr>\n",
       "    <tr>\n",
       "      <th>2</th>\n",
       "      <td>0</td>\n",
       "      <td>58.0</td>\n",
       "      <td>1</td>\n",
       "      <td>43.0</td>\n",
       "      <td>3576.0</td>\n",
       "      <td>0.0</td>\n",
       "      <td>6715.0</td>\n",
       "      <td>49.0</td>\n",
       "      <td>False</td>\n",
       "      <td>1</td>\n",
       "      <td>...</td>\n",
       "      <td>0</td>\n",
       "      <td>0</td>\n",
       "      <td>1</td>\n",
       "      <td>0</td>\n",
       "      <td>0</td>\n",
       "      <td>0</td>\n",
       "      <td>0</td>\n",
       "      <td>0</td>\n",
       "      <td>0</td>\n",
       "      <td>0</td>\n",
       "    </tr>\n",
       "    <tr>\n",
       "      <th>3</th>\n",
       "      <td>0</td>\n",
       "      <td>33.0</td>\n",
       "      <td>0</td>\n",
       "      <td>0.0</td>\n",
       "      <td>1283.0</td>\n",
       "      <td>371.0</td>\n",
       "      <td>3329.0</td>\n",
       "      <td>193.0</td>\n",
       "      <td>False</td>\n",
       "      <td>1</td>\n",
       "      <td>...</td>\n",
       "      <td>0</td>\n",
       "      <td>0</td>\n",
       "      <td>1</td>\n",
       "      <td>0</td>\n",
       "      <td>0</td>\n",
       "      <td>0</td>\n",
       "      <td>0</td>\n",
       "      <td>0</td>\n",
       "      <td>0</td>\n",
       "      <td>0</td>\n",
       "    </tr>\n",
       "    <tr>\n",
       "      <th>4</th>\n",
       "      <td>0</td>\n",
       "      <td>16.0</td>\n",
       "      <td>0</td>\n",
       "      <td>303.0</td>\n",
       "      <td>70.0</td>\n",
       "      <td>151.0</td>\n",
       "      <td>565.0</td>\n",
       "      <td>2.0</td>\n",
       "      <td>True</td>\n",
       "      <td>1</td>\n",
       "      <td>...</td>\n",
       "      <td>0</td>\n",
       "      <td>0</td>\n",
       "      <td>1</td>\n",
       "      <td>0</td>\n",
       "      <td>0</td>\n",
       "      <td>0</td>\n",
       "      <td>0</td>\n",
       "      <td>1</td>\n",
       "      <td>0</td>\n",
       "      <td>0</td>\n",
       "    </tr>\n",
       "  </tbody>\n",
       "</table>\n",
       "<p>5 rows × 21 columns</p>\n",
       "</div>"
      ],
      "text/plain": [
       "   CryoSleep   Age  VIP  RoomService  FoodCourt  ShoppingMall     Spa  VRDeck  \\\n",
       "0          0  39.0    0          0.0        0.0           0.0     0.0     0.0   \n",
       "1          0  24.0    0        109.0        9.0          25.0   549.0    44.0   \n",
       "2          0  58.0    1         43.0     3576.0           0.0  6715.0    49.0   \n",
       "3          0  33.0    0          0.0     1283.0         371.0  3329.0   193.0   \n",
       "4          0  16.0    0        303.0       70.0         151.0   565.0     2.0   \n",
       "\n",
       "   Transported  Side  ...  HomePlanet_Mars  Destination_PSO J318.5-22  \\\n",
       "0        False     0  ...                0                          0   \n",
       "1         True     1  ...                0                          0   \n",
       "2        False     1  ...                0                          0   \n",
       "3        False     1  ...                0                          0   \n",
       "4         True     1  ...                0                          0   \n",
       "\n",
       "   Destination_TRAPPIST-1e  Deck_B  Deck_C  Deck_D  Deck_E  Deck_F  Deck_G  \\\n",
       "0                        1       1       0       0       0       0       0   \n",
       "1                        1       0       0       0       0       1       0   \n",
       "2                        1       0       0       0       0       0       0   \n",
       "3                        1       0       0       0       0       0       0   \n",
       "4                        1       0       0       0       0       1       0   \n",
       "\n",
       "   Deck_T  \n",
       "0       0  \n",
       "1       0  \n",
       "2       0  \n",
       "3       0  \n",
       "4       0  \n",
       "\n",
       "[5 rows x 21 columns]"
      ]
     },
     "execution_count": 35,
     "metadata": {},
     "output_type": "execute_result"
    }
   ],
   "source": [
    "df.head()"
   ]
  },
  {
   "cell_type": "code",
   "execution_count": 36,
   "id": "9af78b40",
   "metadata": {
    "execution": {
     "iopub.execute_input": "2023-07-02T05:31:26.568227Z",
     "iopub.status.busy": "2023-07-02T05:31:26.567678Z",
     "iopub.status.idle": "2023-07-02T05:31:26.584959Z",
     "shell.execute_reply": "2023-07-02T05:31:26.584325Z"
    },
    "papermill": {
     "duration": 0.03862,
     "end_time": "2023-07-02T05:31:26.586654",
     "exception": false,
     "start_time": "2023-07-02T05:31:26.548034",
     "status": "completed"
    },
    "tags": []
   },
   "outputs": [
    {
     "data": {
      "text/html": [
       "<div>\n",
       "<style scoped>\n",
       "    .dataframe tbody tr th:only-of-type {\n",
       "        vertical-align: middle;\n",
       "    }\n",
       "\n",
       "    .dataframe tbody tr th {\n",
       "        vertical-align: top;\n",
       "    }\n",
       "\n",
       "    .dataframe thead th {\n",
       "        text-align: right;\n",
       "    }\n",
       "</style>\n",
       "<table border=\"1\" class=\"dataframe\">\n",
       "  <thead>\n",
       "    <tr style=\"text-align: right;\">\n",
       "      <th></th>\n",
       "      <th>CryoSleep</th>\n",
       "      <th>Age</th>\n",
       "      <th>VIP</th>\n",
       "      <th>RoomService</th>\n",
       "      <th>FoodCourt</th>\n",
       "      <th>ShoppingMall</th>\n",
       "      <th>Spa</th>\n",
       "      <th>VRDeck</th>\n",
       "      <th>Transported</th>\n",
       "      <th>Side</th>\n",
       "      <th>...</th>\n",
       "      <th>HomePlanet_Mars</th>\n",
       "      <th>Destination_PSO J318.5-22</th>\n",
       "      <th>Destination_TRAPPIST-1e</th>\n",
       "      <th>Deck_B</th>\n",
       "      <th>Deck_C</th>\n",
       "      <th>Deck_D</th>\n",
       "      <th>Deck_E</th>\n",
       "      <th>Deck_F</th>\n",
       "      <th>Deck_G</th>\n",
       "      <th>Deck_T</th>\n",
       "    </tr>\n",
       "  </thead>\n",
       "  <tbody>\n",
       "    <tr>\n",
       "      <th>0</th>\n",
       "      <td>0</td>\n",
       "      <td>39.0</td>\n",
       "      <td>0</td>\n",
       "      <td>0.0</td>\n",
       "      <td>0.0</td>\n",
       "      <td>0.0</td>\n",
       "      <td>0.0</td>\n",
       "      <td>0.0</td>\n",
       "      <td>0</td>\n",
       "      <td>0</td>\n",
       "      <td>...</td>\n",
       "      <td>0</td>\n",
       "      <td>0</td>\n",
       "      <td>1</td>\n",
       "      <td>1</td>\n",
       "      <td>0</td>\n",
       "      <td>0</td>\n",
       "      <td>0</td>\n",
       "      <td>0</td>\n",
       "      <td>0</td>\n",
       "      <td>0</td>\n",
       "    </tr>\n",
       "    <tr>\n",
       "      <th>1</th>\n",
       "      <td>0</td>\n",
       "      <td>24.0</td>\n",
       "      <td>0</td>\n",
       "      <td>109.0</td>\n",
       "      <td>9.0</td>\n",
       "      <td>25.0</td>\n",
       "      <td>549.0</td>\n",
       "      <td>44.0</td>\n",
       "      <td>1</td>\n",
       "      <td>1</td>\n",
       "      <td>...</td>\n",
       "      <td>0</td>\n",
       "      <td>0</td>\n",
       "      <td>1</td>\n",
       "      <td>0</td>\n",
       "      <td>0</td>\n",
       "      <td>0</td>\n",
       "      <td>0</td>\n",
       "      <td>1</td>\n",
       "      <td>0</td>\n",
       "      <td>0</td>\n",
       "    </tr>\n",
       "    <tr>\n",
       "      <th>2</th>\n",
       "      <td>0</td>\n",
       "      <td>58.0</td>\n",
       "      <td>1</td>\n",
       "      <td>43.0</td>\n",
       "      <td>3576.0</td>\n",
       "      <td>0.0</td>\n",
       "      <td>6715.0</td>\n",
       "      <td>49.0</td>\n",
       "      <td>0</td>\n",
       "      <td>1</td>\n",
       "      <td>...</td>\n",
       "      <td>0</td>\n",
       "      <td>0</td>\n",
       "      <td>1</td>\n",
       "      <td>0</td>\n",
       "      <td>0</td>\n",
       "      <td>0</td>\n",
       "      <td>0</td>\n",
       "      <td>0</td>\n",
       "      <td>0</td>\n",
       "      <td>0</td>\n",
       "    </tr>\n",
       "    <tr>\n",
       "      <th>3</th>\n",
       "      <td>0</td>\n",
       "      <td>33.0</td>\n",
       "      <td>0</td>\n",
       "      <td>0.0</td>\n",
       "      <td>1283.0</td>\n",
       "      <td>371.0</td>\n",
       "      <td>3329.0</td>\n",
       "      <td>193.0</td>\n",
       "      <td>0</td>\n",
       "      <td>1</td>\n",
       "      <td>...</td>\n",
       "      <td>0</td>\n",
       "      <td>0</td>\n",
       "      <td>1</td>\n",
       "      <td>0</td>\n",
       "      <td>0</td>\n",
       "      <td>0</td>\n",
       "      <td>0</td>\n",
       "      <td>0</td>\n",
       "      <td>0</td>\n",
       "      <td>0</td>\n",
       "    </tr>\n",
       "    <tr>\n",
       "      <th>4</th>\n",
       "      <td>0</td>\n",
       "      <td>16.0</td>\n",
       "      <td>0</td>\n",
       "      <td>303.0</td>\n",
       "      <td>70.0</td>\n",
       "      <td>151.0</td>\n",
       "      <td>565.0</td>\n",
       "      <td>2.0</td>\n",
       "      <td>1</td>\n",
       "      <td>1</td>\n",
       "      <td>...</td>\n",
       "      <td>0</td>\n",
       "      <td>0</td>\n",
       "      <td>1</td>\n",
       "      <td>0</td>\n",
       "      <td>0</td>\n",
       "      <td>0</td>\n",
       "      <td>0</td>\n",
       "      <td>1</td>\n",
       "      <td>0</td>\n",
       "      <td>0</td>\n",
       "    </tr>\n",
       "  </tbody>\n",
       "</table>\n",
       "<p>5 rows × 21 columns</p>\n",
       "</div>"
      ],
      "text/plain": [
       "   CryoSleep   Age  VIP  RoomService  FoodCourt  ShoppingMall     Spa  VRDeck  \\\n",
       "0          0  39.0    0          0.0        0.0           0.0     0.0     0.0   \n",
       "1          0  24.0    0        109.0        9.0          25.0   549.0    44.0   \n",
       "2          0  58.0    1         43.0     3576.0           0.0  6715.0    49.0   \n",
       "3          0  33.0    0          0.0     1283.0         371.0  3329.0   193.0   \n",
       "4          0  16.0    0        303.0       70.0         151.0   565.0     2.0   \n",
       "\n",
       "   Transported  Side  ...  HomePlanet_Mars  Destination_PSO J318.5-22  \\\n",
       "0            0     0  ...                0                          0   \n",
       "1            1     1  ...                0                          0   \n",
       "2            0     1  ...                0                          0   \n",
       "3            0     1  ...                0                          0   \n",
       "4            1     1  ...                0                          0   \n",
       "\n",
       "   Destination_TRAPPIST-1e  Deck_B  Deck_C  Deck_D  Deck_E  Deck_F  Deck_G  \\\n",
       "0                        1       1       0       0       0       0       0   \n",
       "1                        1       0       0       0       0       1       0   \n",
       "2                        1       0       0       0       0       0       0   \n",
       "3                        1       0       0       0       0       0       0   \n",
       "4                        1       0       0       0       0       1       0   \n",
       "\n",
       "   Deck_T  \n",
       "0       0  \n",
       "1       0  \n",
       "2       0  \n",
       "3       0  \n",
       "4       0  \n",
       "\n",
       "[5 rows x 21 columns]"
      ]
     },
     "execution_count": 36,
     "metadata": {},
     "output_type": "execute_result"
    }
   ],
   "source": [
    "#Transportedのbool型をint型に変換\n",
    "df['Transported']=df['Transported'].astype(int)\n",
    "df.head()"
   ]
  },
  {
   "cell_type": "code",
   "execution_count": 37,
   "id": "0c6f6819",
   "metadata": {
    "execution": {
     "iopub.execute_input": "2023-07-02T05:31:26.623452Z",
     "iopub.status.busy": "2023-07-02T05:31:26.623084Z",
     "iopub.status.idle": "2023-07-02T05:31:26.629673Z",
     "shell.execute_reply": "2023-07-02T05:31:26.628612Z"
    },
    "papermill": {
     "duration": 0.026346,
     "end_time": "2023-07-02T05:31:26.631195",
     "exception": false,
     "start_time": "2023-07-02T05:31:26.604849",
     "status": "completed"
    },
    "tags": []
   },
   "outputs": [],
   "source": [
    "#説明変数のデータをNumpy配列に格納\n",
    "X = df.iloc[:, list(range(8)) + list(range(9, 21))].values\n",
    "#目的変数のデータをNumpy配列に格納\n",
    "y=df.iloc[:,8].values"
   ]
  },
  {
   "cell_type": "code",
   "execution_count": 38,
   "id": "4e43b395",
   "metadata": {
    "execution": {
     "iopub.execute_input": "2023-07-02T05:31:26.666741Z",
     "iopub.status.busy": "2023-07-02T05:31:26.665873Z",
     "iopub.status.idle": "2023-07-02T05:31:26.768395Z",
     "shell.execute_reply": "2023-07-02T05:31:26.767440Z"
    },
    "papermill": {
     "duration": 0.122969,
     "end_time": "2023-07-02T05:31:26.770890",
     "exception": false,
     "start_time": "2023-07-02T05:31:26.647921",
     "status": "completed"
    },
    "tags": []
   },
   "outputs": [],
   "source": [
    "from sklearn.model_selection import train_test_split\n",
    "#説明変数のデータと目的変数のデータを8:2の割合で分割する\n",
    "X_train,X_test,y_train,y_test=train_test_split(X,y,test_size=0.2,random_state=0)"
   ]
  },
  {
   "cell_type": "code",
   "execution_count": 39,
   "id": "2094a4a3",
   "metadata": {
    "execution": {
     "iopub.execute_input": "2023-07-02T05:31:26.808120Z",
     "iopub.status.busy": "2023-07-02T05:31:26.807779Z",
     "iopub.status.idle": "2023-07-02T05:31:27.723821Z",
     "shell.execute_reply": "2023-07-02T05:31:27.722769Z"
    },
    "papermill": {
     "duration": 0.93685,
     "end_time": "2023-07-02T05:31:27.725674",
     "exception": false,
     "start_time": "2023-07-02T05:31:26.788824",
     "status": "completed"
    },
    "tags": []
   },
   "outputs": [
    {
     "data": {
      "text/html": [
       "<style>#sk-container-id-1 {color: black;background-color: white;}#sk-container-id-1 pre{padding: 0;}#sk-container-id-1 div.sk-toggleable {background-color: white;}#sk-container-id-1 label.sk-toggleable__label {cursor: pointer;display: block;width: 100%;margin-bottom: 0;padding: 0.3em;box-sizing: border-box;text-align: center;}#sk-container-id-1 label.sk-toggleable__label-arrow:before {content: \"▸\";float: left;margin-right: 0.25em;color: #696969;}#sk-container-id-1 label.sk-toggleable__label-arrow:hover:before {color: black;}#sk-container-id-1 div.sk-estimator:hover label.sk-toggleable__label-arrow:before {color: black;}#sk-container-id-1 div.sk-toggleable__content {max-height: 0;max-width: 0;overflow: hidden;text-align: left;background-color: #f0f8ff;}#sk-container-id-1 div.sk-toggleable__content pre {margin: 0.2em;color: black;border-radius: 0.25em;background-color: #f0f8ff;}#sk-container-id-1 input.sk-toggleable__control:checked~div.sk-toggleable__content {max-height: 200px;max-width: 100%;overflow: auto;}#sk-container-id-1 input.sk-toggleable__control:checked~label.sk-toggleable__label-arrow:before {content: \"▾\";}#sk-container-id-1 div.sk-estimator input.sk-toggleable__control:checked~label.sk-toggleable__label {background-color: #d4ebff;}#sk-container-id-1 div.sk-label input.sk-toggleable__control:checked~label.sk-toggleable__label {background-color: #d4ebff;}#sk-container-id-1 input.sk-hidden--visually {border: 0;clip: rect(1px 1px 1px 1px);clip: rect(1px, 1px, 1px, 1px);height: 1px;margin: -1px;overflow: hidden;padding: 0;position: absolute;width: 1px;}#sk-container-id-1 div.sk-estimator {font-family: monospace;background-color: #f0f8ff;border: 1px dotted black;border-radius: 0.25em;box-sizing: border-box;margin-bottom: 0.5em;}#sk-container-id-1 div.sk-estimator:hover {background-color: #d4ebff;}#sk-container-id-1 div.sk-parallel-item::after {content: \"\";width: 100%;border-bottom: 1px solid gray;flex-grow: 1;}#sk-container-id-1 div.sk-label:hover label.sk-toggleable__label {background-color: #d4ebff;}#sk-container-id-1 div.sk-serial::before {content: \"\";position: absolute;border-left: 1px solid gray;box-sizing: border-box;top: 0;bottom: 0;left: 50%;z-index: 0;}#sk-container-id-1 div.sk-serial {display: flex;flex-direction: column;align-items: center;background-color: white;padding-right: 0.2em;padding-left: 0.2em;position: relative;}#sk-container-id-1 div.sk-item {position: relative;z-index: 1;}#sk-container-id-1 div.sk-parallel {display: flex;align-items: stretch;justify-content: center;background-color: white;position: relative;}#sk-container-id-1 div.sk-item::before, #sk-container-id-1 div.sk-parallel-item::before {content: \"\";position: absolute;border-left: 1px solid gray;box-sizing: border-box;top: 0;bottom: 0;left: 50%;z-index: -1;}#sk-container-id-1 div.sk-parallel-item {display: flex;flex-direction: column;z-index: 1;position: relative;background-color: white;}#sk-container-id-1 div.sk-parallel-item:first-child::after {align-self: flex-end;width: 50%;}#sk-container-id-1 div.sk-parallel-item:last-child::after {align-self: flex-start;width: 50%;}#sk-container-id-1 div.sk-parallel-item:only-child::after {width: 0;}#sk-container-id-1 div.sk-dashed-wrapped {border: 1px dashed gray;margin: 0 0.4em 0.5em 0.4em;box-sizing: border-box;padding-bottom: 0.4em;background-color: white;}#sk-container-id-1 div.sk-label label {font-family: monospace;font-weight: bold;display: inline-block;line-height: 1.2em;}#sk-container-id-1 div.sk-label-container {text-align: center;}#sk-container-id-1 div.sk-container {/* jupyter's `normalize.less` sets `[hidden] { display: none; }` but bootstrap.min.css set `[hidden] { display: none !important; }` so we also need the `!important` here to be able to override the default hidden behavior on the sphinx rendered scikit-learn.org. See: https://github.com/scikit-learn/scikit-learn/issues/21755 */display: inline-block !important;position: relative;}#sk-container-id-1 div.sk-text-repr-fallback {display: none;}</style><div id=\"sk-container-id-1\" class=\"sk-top-container\"><div class=\"sk-text-repr-fallback\"><pre>RandomForestClassifier(random_state=0)</pre><b>In a Jupyter environment, please rerun this cell to show the HTML representation or trust the notebook. <br />On GitHub, the HTML representation is unable to render, please try loading this page with nbviewer.org.</b></div><div class=\"sk-container\" hidden><div class=\"sk-item\"><div class=\"sk-estimator sk-toggleable\"><input class=\"sk-toggleable__control sk-hidden--visually\" id=\"sk-estimator-id-1\" type=\"checkbox\" checked><label for=\"sk-estimator-id-1\" class=\"sk-toggleable__label sk-toggleable__label-arrow\">RandomForestClassifier</label><div class=\"sk-toggleable__content\"><pre>RandomForestClassifier(random_state=0)</pre></div></div></div></div></div>"
      ],
      "text/plain": [
       "RandomForestClassifier(random_state=0)"
      ]
     },
     "execution_count": 39,
     "metadata": {},
     "output_type": "execute_result"
    }
   ],
   "source": [
    "from sklearn.ensemble import RandomForestClassifier\n",
    "\n",
    "#ランダムフォレスト分類のモデルを作成\n",
    "model=RandomForestClassifier(random_state=0)\n",
    "#モデルの訓練\n",
    "model.fit(X_train,y_train)"
   ]
  },
  {
   "cell_type": "code",
   "execution_count": 40,
   "id": "e8882d7f",
   "metadata": {
    "execution": {
     "iopub.execute_input": "2023-07-02T05:31:27.766199Z",
     "iopub.status.busy": "2023-07-02T05:31:27.765348Z",
     "iopub.status.idle": "2023-07-02T05:31:27.883381Z",
     "shell.execute_reply": "2023-07-02T05:31:27.882728Z"
    },
    "papermill": {
     "duration": 0.140501,
     "end_time": "2023-07-02T05:31:27.885087",
     "exception": false,
     "start_time": "2023-07-02T05:31:27.744586",
     "status": "completed"
    },
    "tags": []
   },
   "outputs": [
    {
     "name": "stdout",
     "output_type": "stream",
     "text": [
      "acc_train 0.9524981074943225\n",
      "acc_test 0.7866868381240545\n"
     ]
    }
   ],
   "source": [
    "from sklearn.metrics import accuracy_score\n",
    "\n",
    "#訓練データを学習済みモデルに入力して予測値を取得\n",
    "y_train_pred=model.predict(X_train)\n",
    "#テストデータを学習済みモデルに入力して予測値を取得\n",
    "y_test_pred=model.predict(X_test)\n",
    "#訓練データとテストデータの正解率を取得\n",
    "acc_train=accuracy_score(y_train,y_train_pred)\n",
    "acc_test=accuracy_score(y_test,y_test_pred)\n",
    "#正解率を取得\n",
    "print('acc_train',acc_train)\n",
    "print('acc_test',acc_test)"
   ]
  },
  {
   "cell_type": "markdown",
   "id": "3e30b8ff",
   "metadata": {
    "papermill": {
     "duration": 0.016965,
     "end_time": "2023-07-02T05:31:27.919783",
     "exception": false,
     "start_time": "2023-07-02T05:31:27.902818",
     "status": "completed"
    },
    "tags": []
   },
   "source": [
    "若干過学習しています。"
   ]
  },
  {
   "cell_type": "markdown",
   "id": "702c82b3",
   "metadata": {
    "papermill": {
     "duration": 0.017107,
     "end_time": "2023-07-02T05:31:27.954112",
     "exception": false,
     "start_time": "2023-07-02T05:31:27.937005",
     "status": "completed"
    },
    "tags": []
   },
   "source": [
    "# テストデータを前処理する"
   ]
  },
  {
   "cell_type": "code",
   "execution_count": 41,
   "id": "498ae9ba",
   "metadata": {
    "execution": {
     "iopub.execute_input": "2023-07-02T05:31:27.990517Z",
     "iopub.status.busy": "2023-07-02T05:31:27.989751Z",
     "iopub.status.idle": "2023-07-02T05:31:28.020023Z",
     "shell.execute_reply": "2023-07-02T05:31:28.019359Z"
    },
    "papermill": {
     "duration": 0.050582,
     "end_time": "2023-07-02T05:31:28.022002",
     "exception": false,
     "start_time": "2023-07-02T05:31:27.971420",
     "status": "completed"
    },
    "tags": []
   },
   "outputs": [],
   "source": [
    "test_df_1=pd.read_csv('/kaggle/input/spaceship-titanic/test.csv')"
   ]
  },
  {
   "cell_type": "code",
   "execution_count": 42,
   "id": "badcdf49",
   "metadata": {
    "execution": {
     "iopub.execute_input": "2023-07-02T05:31:28.060145Z",
     "iopub.status.busy": "2023-07-02T05:31:28.059821Z",
     "iopub.status.idle": "2023-07-02T05:31:28.074965Z",
     "shell.execute_reply": "2023-07-02T05:31:28.074183Z"
    },
    "papermill": {
     "duration": 0.036606,
     "end_time": "2023-07-02T05:31:28.076735",
     "exception": false,
     "start_time": "2023-07-02T05:31:28.040129",
     "status": "completed"
    },
    "tags": []
   },
   "outputs": [
    {
     "data": {
      "text/html": [
       "<div>\n",
       "<style scoped>\n",
       "    .dataframe tbody tr th:only-of-type {\n",
       "        vertical-align: middle;\n",
       "    }\n",
       "\n",
       "    .dataframe tbody tr th {\n",
       "        vertical-align: top;\n",
       "    }\n",
       "\n",
       "    .dataframe thead th {\n",
       "        text-align: right;\n",
       "    }\n",
       "</style>\n",
       "<table border=\"1\" class=\"dataframe\">\n",
       "  <thead>\n",
       "    <tr style=\"text-align: right;\">\n",
       "      <th></th>\n",
       "      <th>PassengerId</th>\n",
       "      <th>HomePlanet</th>\n",
       "      <th>CryoSleep</th>\n",
       "      <th>Cabin</th>\n",
       "      <th>Destination</th>\n",
       "      <th>Age</th>\n",
       "      <th>VIP</th>\n",
       "      <th>RoomService</th>\n",
       "      <th>FoodCourt</th>\n",
       "      <th>ShoppingMall</th>\n",
       "      <th>Spa</th>\n",
       "      <th>VRDeck</th>\n",
       "      <th>Name</th>\n",
       "    </tr>\n",
       "  </thead>\n",
       "  <tbody>\n",
       "    <tr>\n",
       "      <th>0</th>\n",
       "      <td>0013_01</td>\n",
       "      <td>Earth</td>\n",
       "      <td>True</td>\n",
       "      <td>G/3/S</td>\n",
       "      <td>TRAPPIST-1e</td>\n",
       "      <td>27.0</td>\n",
       "      <td>False</td>\n",
       "      <td>0.0</td>\n",
       "      <td>0.0</td>\n",
       "      <td>0.0</td>\n",
       "      <td>0.0</td>\n",
       "      <td>0.0</td>\n",
       "      <td>Nelly Carsoning</td>\n",
       "    </tr>\n",
       "    <tr>\n",
       "      <th>1</th>\n",
       "      <td>0018_01</td>\n",
       "      <td>Earth</td>\n",
       "      <td>False</td>\n",
       "      <td>F/4/S</td>\n",
       "      <td>TRAPPIST-1e</td>\n",
       "      <td>19.0</td>\n",
       "      <td>False</td>\n",
       "      <td>0.0</td>\n",
       "      <td>9.0</td>\n",
       "      <td>0.0</td>\n",
       "      <td>2823.0</td>\n",
       "      <td>0.0</td>\n",
       "      <td>Lerome Peckers</td>\n",
       "    </tr>\n",
       "    <tr>\n",
       "      <th>2</th>\n",
       "      <td>0019_01</td>\n",
       "      <td>Europa</td>\n",
       "      <td>True</td>\n",
       "      <td>C/0/S</td>\n",
       "      <td>55 Cancri e</td>\n",
       "      <td>31.0</td>\n",
       "      <td>False</td>\n",
       "      <td>0.0</td>\n",
       "      <td>0.0</td>\n",
       "      <td>0.0</td>\n",
       "      <td>0.0</td>\n",
       "      <td>0.0</td>\n",
       "      <td>Sabih Unhearfus</td>\n",
       "    </tr>\n",
       "    <tr>\n",
       "      <th>3</th>\n",
       "      <td>0021_01</td>\n",
       "      <td>Europa</td>\n",
       "      <td>False</td>\n",
       "      <td>C/1/S</td>\n",
       "      <td>TRAPPIST-1e</td>\n",
       "      <td>38.0</td>\n",
       "      <td>False</td>\n",
       "      <td>0.0</td>\n",
       "      <td>6652.0</td>\n",
       "      <td>0.0</td>\n",
       "      <td>181.0</td>\n",
       "      <td>585.0</td>\n",
       "      <td>Meratz Caltilter</td>\n",
       "    </tr>\n",
       "    <tr>\n",
       "      <th>4</th>\n",
       "      <td>0023_01</td>\n",
       "      <td>Earth</td>\n",
       "      <td>False</td>\n",
       "      <td>F/5/S</td>\n",
       "      <td>TRAPPIST-1e</td>\n",
       "      <td>20.0</td>\n",
       "      <td>False</td>\n",
       "      <td>10.0</td>\n",
       "      <td>0.0</td>\n",
       "      <td>635.0</td>\n",
       "      <td>0.0</td>\n",
       "      <td>0.0</td>\n",
       "      <td>Brence Harperez</td>\n",
       "    </tr>\n",
       "  </tbody>\n",
       "</table>\n",
       "</div>"
      ],
      "text/plain": [
       "  PassengerId HomePlanet CryoSleep  Cabin  Destination   Age    VIP  \\\n",
       "0     0013_01      Earth      True  G/3/S  TRAPPIST-1e  27.0  False   \n",
       "1     0018_01      Earth     False  F/4/S  TRAPPIST-1e  19.0  False   \n",
       "2     0019_01     Europa      True  C/0/S  55 Cancri e  31.0  False   \n",
       "3     0021_01     Europa     False  C/1/S  TRAPPIST-1e  38.0  False   \n",
       "4     0023_01      Earth     False  F/5/S  TRAPPIST-1e  20.0  False   \n",
       "\n",
       "   RoomService  FoodCourt  ShoppingMall     Spa  VRDeck              Name  \n",
       "0          0.0        0.0           0.0     0.0     0.0   Nelly Carsoning  \n",
       "1          0.0        9.0           0.0  2823.0     0.0    Lerome Peckers  \n",
       "2          0.0        0.0           0.0     0.0     0.0   Sabih Unhearfus  \n",
       "3          0.0     6652.0           0.0   181.0   585.0  Meratz Caltilter  \n",
       "4         10.0        0.0         635.0     0.0     0.0   Brence Harperez  "
      ]
     },
     "execution_count": 42,
     "metadata": {},
     "output_type": "execute_result"
    }
   ],
   "source": [
    "test_df_1.head()"
   ]
  },
  {
   "cell_type": "code",
   "execution_count": 43,
   "id": "38303802",
   "metadata": {
    "execution": {
     "iopub.execute_input": "2023-07-02T05:31:28.113450Z",
     "iopub.status.busy": "2023-07-02T05:31:28.113150Z",
     "iopub.status.idle": "2023-07-02T05:31:28.129476Z",
     "shell.execute_reply": "2023-07-02T05:31:28.128657Z"
    },
    "papermill": {
     "duration": 0.03616,
     "end_time": "2023-07-02T05:31:28.130966",
     "exception": false,
     "start_time": "2023-07-02T05:31:28.094806",
     "status": "completed"
    },
    "tags": []
   },
   "outputs": [],
   "source": [
    "#PassengerIdとNameの列を削除して、Cabinは\"/\"ごとに分けてCabin列は削除する。\n",
    "#passengerIdとNameの削除\n",
    "test_df=test_df_1.drop(labels='PassengerId',axis=1)\n",
    "test_df=test_df.drop(labels='Name',axis=1)\n",
    "#データを\"/\"ごとに分ける\n",
    "test_df[[\"Deck\", \"Cabin_num\", \"Side\"]] = test_df[\"Cabin\"].str.split(\"/\", expand=True)\n",
    "test_df=test_df.drop(labels='Cabin',axis=1)\n",
    "#Cabin_numは削除してしまう\n",
    "test_df=test_df.drop(labels='Cabin_num',axis=1)"
   ]
  },
  {
   "cell_type": "code",
   "execution_count": 44,
   "id": "26ea3839",
   "metadata": {
    "execution": {
     "iopub.execute_input": "2023-07-02T05:31:28.167124Z",
     "iopub.status.busy": "2023-07-02T05:31:28.166813Z",
     "iopub.status.idle": "2023-07-02T05:31:28.181241Z",
     "shell.execute_reply": "2023-07-02T05:31:28.180446Z"
    },
    "papermill": {
     "duration": 0.034172,
     "end_time": "2023-07-02T05:31:28.182705",
     "exception": false,
     "start_time": "2023-07-02T05:31:28.148533",
     "status": "completed"
    },
    "tags": []
   },
   "outputs": [
    {
     "data": {
      "text/html": [
       "<div>\n",
       "<style scoped>\n",
       "    .dataframe tbody tr th:only-of-type {\n",
       "        vertical-align: middle;\n",
       "    }\n",
       "\n",
       "    .dataframe tbody tr th {\n",
       "        vertical-align: top;\n",
       "    }\n",
       "\n",
       "    .dataframe thead th {\n",
       "        text-align: right;\n",
       "    }\n",
       "</style>\n",
       "<table border=\"1\" class=\"dataframe\">\n",
       "  <thead>\n",
       "    <tr style=\"text-align: right;\">\n",
       "      <th></th>\n",
       "      <th>HomePlanet</th>\n",
       "      <th>CryoSleep</th>\n",
       "      <th>Destination</th>\n",
       "      <th>Age</th>\n",
       "      <th>VIP</th>\n",
       "      <th>RoomService</th>\n",
       "      <th>FoodCourt</th>\n",
       "      <th>ShoppingMall</th>\n",
       "      <th>Spa</th>\n",
       "      <th>VRDeck</th>\n",
       "      <th>Deck</th>\n",
       "      <th>Side</th>\n",
       "    </tr>\n",
       "  </thead>\n",
       "  <tbody>\n",
       "    <tr>\n",
       "      <th>0</th>\n",
       "      <td>Earth</td>\n",
       "      <td>True</td>\n",
       "      <td>TRAPPIST-1e</td>\n",
       "      <td>27.0</td>\n",
       "      <td>False</td>\n",
       "      <td>0.0</td>\n",
       "      <td>0.0</td>\n",
       "      <td>0.0</td>\n",
       "      <td>0.0</td>\n",
       "      <td>0.0</td>\n",
       "      <td>G</td>\n",
       "      <td>S</td>\n",
       "    </tr>\n",
       "    <tr>\n",
       "      <th>1</th>\n",
       "      <td>Earth</td>\n",
       "      <td>False</td>\n",
       "      <td>TRAPPIST-1e</td>\n",
       "      <td>19.0</td>\n",
       "      <td>False</td>\n",
       "      <td>0.0</td>\n",
       "      <td>9.0</td>\n",
       "      <td>0.0</td>\n",
       "      <td>2823.0</td>\n",
       "      <td>0.0</td>\n",
       "      <td>F</td>\n",
       "      <td>S</td>\n",
       "    </tr>\n",
       "    <tr>\n",
       "      <th>2</th>\n",
       "      <td>Europa</td>\n",
       "      <td>True</td>\n",
       "      <td>55 Cancri e</td>\n",
       "      <td>31.0</td>\n",
       "      <td>False</td>\n",
       "      <td>0.0</td>\n",
       "      <td>0.0</td>\n",
       "      <td>0.0</td>\n",
       "      <td>0.0</td>\n",
       "      <td>0.0</td>\n",
       "      <td>C</td>\n",
       "      <td>S</td>\n",
       "    </tr>\n",
       "    <tr>\n",
       "      <th>3</th>\n",
       "      <td>Europa</td>\n",
       "      <td>False</td>\n",
       "      <td>TRAPPIST-1e</td>\n",
       "      <td>38.0</td>\n",
       "      <td>False</td>\n",
       "      <td>0.0</td>\n",
       "      <td>6652.0</td>\n",
       "      <td>0.0</td>\n",
       "      <td>181.0</td>\n",
       "      <td>585.0</td>\n",
       "      <td>C</td>\n",
       "      <td>S</td>\n",
       "    </tr>\n",
       "    <tr>\n",
       "      <th>4</th>\n",
       "      <td>Earth</td>\n",
       "      <td>False</td>\n",
       "      <td>TRAPPIST-1e</td>\n",
       "      <td>20.0</td>\n",
       "      <td>False</td>\n",
       "      <td>10.0</td>\n",
       "      <td>0.0</td>\n",
       "      <td>635.0</td>\n",
       "      <td>0.0</td>\n",
       "      <td>0.0</td>\n",
       "      <td>F</td>\n",
       "      <td>S</td>\n",
       "    </tr>\n",
       "  </tbody>\n",
       "</table>\n",
       "</div>"
      ],
      "text/plain": [
       "  HomePlanet CryoSleep  Destination   Age    VIP  RoomService  FoodCourt  \\\n",
       "0      Earth      True  TRAPPIST-1e  27.0  False          0.0        0.0   \n",
       "1      Earth     False  TRAPPIST-1e  19.0  False          0.0        9.0   \n",
       "2     Europa      True  55 Cancri e  31.0  False          0.0        0.0   \n",
       "3     Europa     False  TRAPPIST-1e  38.0  False          0.0     6652.0   \n",
       "4      Earth     False  TRAPPIST-1e  20.0  False         10.0        0.0   \n",
       "\n",
       "   ShoppingMall     Spa  VRDeck Deck Side  \n",
       "0           0.0     0.0     0.0    G    S  \n",
       "1           0.0  2823.0     0.0    F    S  \n",
       "2           0.0     0.0     0.0    C    S  \n",
       "3           0.0   181.0   585.0    C    S  \n",
       "4         635.0     0.0     0.0    F    S  "
      ]
     },
     "execution_count": 44,
     "metadata": {},
     "output_type": "execute_result"
    }
   ],
   "source": [
    "test_df.head()"
   ]
  },
  {
   "cell_type": "code",
   "execution_count": 45,
   "id": "26c030ee",
   "metadata": {
    "execution": {
     "iopub.execute_input": "2023-07-02T05:31:28.219712Z",
     "iopub.status.busy": "2023-07-02T05:31:28.218957Z",
     "iopub.status.idle": "2023-07-02T05:31:28.229462Z",
     "shell.execute_reply": "2023-07-02T05:31:28.228667Z"
    },
    "papermill": {
     "duration": 0.030548,
     "end_time": "2023-07-02T05:31:28.231128",
     "exception": false,
     "start_time": "2023-07-02T05:31:28.200580",
     "status": "completed"
    },
    "tags": []
   },
   "outputs": [
    {
     "data": {
      "text/plain": [
       "HomePlanet       87\n",
       "CryoSleep        93\n",
       "Destination      92\n",
       "Age              91\n",
       "VIP              93\n",
       "RoomService      82\n",
       "FoodCourt       106\n",
       "ShoppingMall     98\n",
       "Spa             101\n",
       "VRDeck           80\n",
       "Deck            100\n",
       "Side            100\n",
       "dtype: int64"
      ]
     },
     "execution_count": 45,
     "metadata": {},
     "output_type": "execute_result"
    }
   ],
   "source": [
    "#欠損値の確認\n",
    "test_df.isnull().sum()"
   ]
  },
  {
   "cell_type": "code",
   "execution_count": 46,
   "id": "13d7d107",
   "metadata": {
    "execution": {
     "iopub.execute_input": "2023-07-02T05:31:28.268480Z",
     "iopub.status.busy": "2023-07-02T05:31:28.267946Z",
     "iopub.status.idle": "2023-07-02T05:31:28.271057Z",
     "shell.execute_reply": "2023-07-02T05:31:28.270495Z"
    },
    "papermill": {
     "duration": 0.023058,
     "end_time": "2023-07-02T05:31:28.272458",
     "exception": false,
     "start_time": "2023-07-02T05:31:28.249400",
     "status": "completed"
    },
    "tags": []
   },
   "outputs": [],
   "source": [
    "#欠損値は分散の大きさによって平均か、中央値か、最頻値かを変更する\n",
    "#RoomService,FoodCourt,ShoppingMall,Spa,VRDeckは分散が大きいので中央値をとる\n",
    "#VIP,Deck,Sideはobjectなので最頻値に置き換える\n",
    "#HomePlanet,CryoSleep,Destinationもobjectなので最頻値"
   ]
  },
  {
   "cell_type": "code",
   "execution_count": 47,
   "id": "400557b7",
   "metadata": {
    "execution": {
     "iopub.execute_input": "2023-07-02T05:31:28.310231Z",
     "iopub.status.busy": "2023-07-02T05:31:28.309357Z",
     "iopub.status.idle": "2023-07-02T05:31:28.314665Z",
     "shell.execute_reply": "2023-07-02T05:31:28.314083Z"
    },
    "papermill": {
     "duration": 0.025712,
     "end_time": "2023-07-02T05:31:28.316117",
     "exception": false,
     "start_time": "2023-07-02T05:31:28.290405",
     "status": "completed"
    },
    "tags": []
   },
   "outputs": [],
   "source": [
    "#Ageは平均値\n",
    "test_df['Age']=test_df['Age'].fillna(test_df['Age'].mean())"
   ]
  },
  {
   "cell_type": "code",
   "execution_count": 48,
   "id": "0f4432d2",
   "metadata": {
    "execution": {
     "iopub.execute_input": "2023-07-02T05:31:28.353159Z",
     "iopub.status.busy": "2023-07-02T05:31:28.352671Z",
     "iopub.status.idle": "2023-07-02T05:31:28.363102Z",
     "shell.execute_reply": "2023-07-02T05:31:28.362336Z"
    },
    "papermill": {
     "duration": 0.030759,
     "end_time": "2023-07-02T05:31:28.364620",
     "exception": false,
     "start_time": "2023-07-02T05:31:28.333861",
     "status": "completed"
    },
    "tags": []
   },
   "outputs": [
    {
     "data": {
      "text/plain": [
       "HomePlanet       87\n",
       "CryoSleep        93\n",
       "Destination      92\n",
       "Age               0\n",
       "VIP              93\n",
       "RoomService      82\n",
       "FoodCourt       106\n",
       "ShoppingMall     98\n",
       "Spa             101\n",
       "VRDeck           80\n",
       "Deck            100\n",
       "Side            100\n",
       "dtype: int64"
      ]
     },
     "execution_count": 48,
     "metadata": {},
     "output_type": "execute_result"
    }
   ],
   "source": [
    "test_df.isnull().sum()"
   ]
  },
  {
   "cell_type": "markdown",
   "id": "0d517a30",
   "metadata": {
    "papermill": {
     "duration": 0.017318,
     "end_time": "2023-07-02T05:31:28.399610",
     "exception": false,
     "start_time": "2023-07-02T05:31:28.382292",
     "status": "completed"
    },
    "tags": []
   },
   "source": [
    "# ダミー変数に変換"
   ]
  },
  {
   "cell_type": "code",
   "execution_count": 49,
   "id": "b64d189e",
   "metadata": {
    "execution": {
     "iopub.execute_input": "2023-07-02T05:31:28.437061Z",
     "iopub.status.busy": "2023-07-02T05:31:28.436710Z",
     "iopub.status.idle": "2023-07-02T05:31:28.452236Z",
     "shell.execute_reply": "2023-07-02T05:31:28.451541Z"
    },
    "papermill": {
     "duration": 0.036264,
     "end_time": "2023-07-02T05:31:28.453777",
     "exception": false,
     "start_time": "2023-07-02T05:31:28.417513",
     "status": "completed"
    },
    "tags": []
   },
   "outputs": [
    {
     "name": "stdout",
     "output_type": "stream",
     "text": [
      "<class 'pandas.core.frame.DataFrame'>\n",
      "RangeIndex: 4277 entries, 0 to 4276\n",
      "Data columns (total 12 columns):\n",
      " #   Column        Non-Null Count  Dtype  \n",
      "---  ------        --------------  -----  \n",
      " 0   HomePlanet    4190 non-null   object \n",
      " 1   CryoSleep     4184 non-null   object \n",
      " 2   Destination   4185 non-null   object \n",
      " 3   Age           4277 non-null   float64\n",
      " 4   VIP           4184 non-null   object \n",
      " 5   RoomService   4195 non-null   float64\n",
      " 6   FoodCourt     4171 non-null   float64\n",
      " 7   ShoppingMall  4179 non-null   float64\n",
      " 8   Spa           4176 non-null   float64\n",
      " 9   VRDeck        4197 non-null   float64\n",
      " 10  Deck          4177 non-null   object \n",
      " 11  Side          4177 non-null   object \n",
      "dtypes: float64(6), object(6)\n",
      "memory usage: 401.1+ KB\n"
     ]
    }
   ],
   "source": [
    "test_df.info()"
   ]
  },
  {
   "cell_type": "code",
   "execution_count": 50,
   "id": "d2c7203a",
   "metadata": {
    "execution": {
     "iopub.execute_input": "2023-07-02T05:31:28.491607Z",
     "iopub.status.busy": "2023-07-02T05:31:28.490935Z",
     "iopub.status.idle": "2023-07-02T05:31:28.495751Z",
     "shell.execute_reply": "2023-07-02T05:31:28.495024Z"
    },
    "papermill": {
     "duration": 0.025575,
     "end_time": "2023-07-02T05:31:28.497367",
     "exception": false,
     "start_time": "2023-07-02T05:31:28.471792",
     "status": "completed"
    },
    "tags": []
   },
   "outputs": [],
   "source": [
    "#Ageをfloot型に変更\n",
    "test_df['Age']=test_df['Age'].astype(float)"
   ]
  },
  {
   "cell_type": "code",
   "execution_count": 51,
   "id": "53ab8718",
   "metadata": {
    "execution": {
     "iopub.execute_input": "2023-07-02T05:31:28.536051Z",
     "iopub.status.busy": "2023-07-02T05:31:28.534906Z",
     "iopub.status.idle": "2023-07-02T05:31:28.552436Z",
     "shell.execute_reply": "2023-07-02T05:31:28.551622Z"
    },
    "papermill": {
     "duration": 0.03823,
     "end_time": "2023-07-02T05:31:28.554247",
     "exception": false,
     "start_time": "2023-07-02T05:31:28.516017",
     "status": "completed"
    },
    "tags": []
   },
   "outputs": [],
   "source": [
    "#カテゴリカル変数を含んだデータのみ抽出\n",
    "test_df_obj=test_df.select_dtypes(include='object')\n",
    "test_df_obj.head()\n",
    "#それぞれ別のユニークな値の数\n",
    "test_df_uni=test_df_obj.nunique()\n",
    "#ユニークな値の数が2つの入力変数に対してLabel Encodingを適用\n",
    "test_df_cols=test_df_uni[test_df_uni==2].index\n",
    "test_df_cols\n",
    "from sklearn.preprocessing import LabelEncoder\n",
    "for col in df_cols:\n",
    "    le=LabelEncoder()\n",
    "    le.fit(test_df[col])\n",
    "    test_df[col]=le.transform(test_df[col])\n",
    "#その他のカテゴリをダミー変数に変換\n",
    "test_df=pd.get_dummies(test_df,drop_first=True)"
   ]
  },
  {
   "cell_type": "code",
   "execution_count": 52,
   "id": "022bb1ac",
   "metadata": {
    "execution": {
     "iopub.execute_input": "2023-07-02T05:31:28.592320Z",
     "iopub.status.busy": "2023-07-02T05:31:28.591998Z",
     "iopub.status.idle": "2023-07-02T05:31:28.607144Z",
     "shell.execute_reply": "2023-07-02T05:31:28.606223Z"
    },
    "papermill": {
     "duration": 0.035966,
     "end_time": "2023-07-02T05:31:28.608893",
     "exception": false,
     "start_time": "2023-07-02T05:31:28.572927",
     "status": "completed"
    },
    "tags": []
   },
   "outputs": [],
   "source": [
    "#残りの欠損値を中央値で補う\n",
    "test_df.fillna(test_df.median(),inplace=True)"
   ]
  },
  {
   "cell_type": "code",
   "execution_count": 53,
   "id": "028bbf38",
   "metadata": {
    "execution": {
     "iopub.execute_input": "2023-07-02T05:31:28.645921Z",
     "iopub.status.busy": "2023-07-02T05:31:28.645642Z",
     "iopub.status.idle": "2023-07-02T05:31:28.653778Z",
     "shell.execute_reply": "2023-07-02T05:31:28.652947Z"
    },
    "papermill": {
     "duration": 0.028565,
     "end_time": "2023-07-02T05:31:28.655465",
     "exception": false,
     "start_time": "2023-07-02T05:31:28.626900",
     "status": "completed"
    },
    "tags": []
   },
   "outputs": [
    {
     "data": {
      "text/plain": [
       "CryoSleep                    0\n",
       "Age                          0\n",
       "Deck_G                       0\n",
       "Deck_F                       0\n",
       "Deck_E                       0\n",
       "Deck_D                       0\n",
       "Deck_C                       0\n",
       "Deck_B                       0\n",
       "Destination_TRAPPIST-1e      0\n",
       "Destination_PSO J318.5-22    0\n",
       "HomePlanet_Mars              0\n",
       "HomePlanet_Europa            0\n",
       "Side                         0\n",
       "VRDeck                       0\n",
       "Spa                          0\n",
       "ShoppingMall                 0\n",
       "FoodCourt                    0\n",
       "RoomService                  0\n",
       "VIP                          0\n",
       "Deck_T                       0\n",
       "dtype: int64"
      ]
     },
     "execution_count": 53,
     "metadata": {},
     "output_type": "execute_result"
    }
   ],
   "source": [
    "test_df.isnull().sum().sort_values(ascending=False)"
   ]
  },
  {
   "cell_type": "markdown",
   "id": "2297f1a0",
   "metadata": {
    "papermill": {
     "duration": 0.017518,
     "end_time": "2023-07-02T05:31:28.691362",
     "exception": false,
     "start_time": "2023-07-02T05:31:28.673844",
     "status": "completed"
    },
    "tags": []
   },
   "source": [
    "前処理終了"
   ]
  },
  {
   "cell_type": "markdown",
   "id": "95e9f458",
   "metadata": {
    "papermill": {
     "duration": 0.017279,
     "end_time": "2023-07-02T05:31:28.726122",
     "exception": false,
     "start_time": "2023-07-02T05:31:28.708843",
     "status": "completed"
    },
    "tags": []
   },
   "source": [
    "# テストデータの予測"
   ]
  },
  {
   "cell_type": "code",
   "execution_count": 54,
   "id": "96def39d",
   "metadata": {
    "execution": {
     "iopub.execute_input": "2023-07-02T05:31:28.764416Z",
     "iopub.status.busy": "2023-07-02T05:31:28.764054Z",
     "iopub.status.idle": "2023-07-02T05:31:28.774480Z",
     "shell.execute_reply": "2023-07-02T05:31:28.773682Z"
    },
    "papermill": {
     "duration": 0.03097,
     "end_time": "2023-07-02T05:31:28.776118",
     "exception": false,
     "start_time": "2023-07-02T05:31:28.745148",
     "status": "completed"
    },
    "tags": []
   },
   "outputs": [
    {
     "name": "stdout",
     "output_type": "stream",
     "text": [
      "<class 'pandas.core.frame.DataFrame'>\n",
      "Int64Index: 6606 entries, 0 to 8692\n",
      "Data columns (total 21 columns):\n",
      " #   Column                     Non-Null Count  Dtype  \n",
      "---  ------                     --------------  -----  \n",
      " 0   CryoSleep                  6606 non-null   int64  \n",
      " 1   Age                        6606 non-null   float64\n",
      " 2   VIP                        6606 non-null   int64  \n",
      " 3   RoomService                6606 non-null   float64\n",
      " 4   FoodCourt                  6606 non-null   float64\n",
      " 5   ShoppingMall               6606 non-null   float64\n",
      " 6   Spa                        6606 non-null   float64\n",
      " 7   VRDeck                     6606 non-null   float64\n",
      " 8   Transported                6606 non-null   int64  \n",
      " 9   Side                       6606 non-null   int64  \n",
      " 10  HomePlanet_Europa          6606 non-null   uint8  \n",
      " 11  HomePlanet_Mars            6606 non-null   uint8  \n",
      " 12  Destination_PSO J318.5-22  6606 non-null   uint8  \n",
      " 13  Destination_TRAPPIST-1e    6606 non-null   uint8  \n",
      " 14  Deck_B                     6606 non-null   uint8  \n",
      " 15  Deck_C                     6606 non-null   uint8  \n",
      " 16  Deck_D                     6606 non-null   uint8  \n",
      " 17  Deck_E                     6606 non-null   uint8  \n",
      " 18  Deck_F                     6606 non-null   uint8  \n",
      " 19  Deck_G                     6606 non-null   uint8  \n",
      " 20  Deck_T                     6606 non-null   uint8  \n",
      "dtypes: float64(6), int64(4), uint8(11)\n",
      "memory usage: 638.7 KB\n"
     ]
    }
   ],
   "source": [
    "df.info()"
   ]
  },
  {
   "cell_type": "code",
   "execution_count": 55,
   "id": "73dd6b1a",
   "metadata": {
    "execution": {
     "iopub.execute_input": "2023-07-02T05:31:28.815454Z",
     "iopub.status.busy": "2023-07-02T05:31:28.815112Z",
     "iopub.status.idle": "2023-07-02T05:31:28.825060Z",
     "shell.execute_reply": "2023-07-02T05:31:28.824489Z"
    },
    "papermill": {
     "duration": 0.031685,
     "end_time": "2023-07-02T05:31:28.826815",
     "exception": false,
     "start_time": "2023-07-02T05:31:28.795130",
     "status": "completed"
    },
    "tags": []
   },
   "outputs": [
    {
     "name": "stdout",
     "output_type": "stream",
     "text": [
      "<class 'pandas.core.frame.DataFrame'>\n",
      "RangeIndex: 4277 entries, 0 to 4276\n",
      "Data columns (total 20 columns):\n",
      " #   Column                     Non-Null Count  Dtype  \n",
      "---  ------                     --------------  -----  \n",
      " 0   CryoSleep                  4277 non-null   int64  \n",
      " 1   Age                        4277 non-null   float64\n",
      " 2   VIP                        4277 non-null   int64  \n",
      " 3   RoomService                4277 non-null   float64\n",
      " 4   FoodCourt                  4277 non-null   float64\n",
      " 5   ShoppingMall               4277 non-null   float64\n",
      " 6   Spa                        4277 non-null   float64\n",
      " 7   VRDeck                     4277 non-null   float64\n",
      " 8   Side                       4277 non-null   int64  \n",
      " 9   HomePlanet_Europa          4277 non-null   uint8  \n",
      " 10  HomePlanet_Mars            4277 non-null   uint8  \n",
      " 11  Destination_PSO J318.5-22  4277 non-null   uint8  \n",
      " 12  Destination_TRAPPIST-1e    4277 non-null   uint8  \n",
      " 13  Deck_B                     4277 non-null   uint8  \n",
      " 14  Deck_C                     4277 non-null   uint8  \n",
      " 15  Deck_D                     4277 non-null   uint8  \n",
      " 16  Deck_E                     4277 non-null   uint8  \n",
      " 17  Deck_F                     4277 non-null   uint8  \n",
      " 18  Deck_G                     4277 non-null   uint8  \n",
      " 19  Deck_T                     4277 non-null   uint8  \n",
      "dtypes: float64(6), int64(3), uint8(11)\n",
      "memory usage: 346.8 KB\n"
     ]
    }
   ],
   "source": [
    "test_df.info()"
   ]
  },
  {
   "cell_type": "code",
   "execution_count": 56,
   "id": "dd692801",
   "metadata": {
    "execution": {
     "iopub.execute_input": "2023-07-02T05:31:28.864375Z",
     "iopub.status.busy": "2023-07-02T05:31:28.864084Z",
     "iopub.status.idle": "2023-07-02T05:31:28.940555Z",
     "shell.execute_reply": "2023-07-02T05:31:28.939723Z"
    },
    "papermill": {
     "duration": 0.096991,
     "end_time": "2023-07-02T05:31:28.942246",
     "exception": false,
     "start_time": "2023-07-02T05:31:28.845255",
     "status": "completed"
    },
    "tags": []
   },
   "outputs": [
    {
     "name": "stderr",
     "output_type": "stream",
     "text": [
      "/opt/conda/lib/python3.10/site-packages/sklearn/base.py:432: UserWarning: X has feature names, but RandomForestClassifier was fitted without feature names\n",
      "  warnings.warn(\n"
     ]
    },
    {
     "data": {
      "text/plain": [
       "array([1, 0, 1, ..., 1, 1, 1])"
      ]
     },
     "execution_count": 56,
     "metadata": {},
     "output_type": "execute_result"
    }
   ],
   "source": [
    "prediction=model.predict(test_df)\n",
    "prediction"
   ]
  },
  {
   "cell_type": "code",
   "execution_count": 57,
   "id": "833ee2ce",
   "metadata": {
    "execution": {
     "iopub.execute_input": "2023-07-02T05:31:28.980055Z",
     "iopub.status.busy": "2023-07-02T05:31:28.979760Z",
     "iopub.status.idle": "2023-07-02T05:31:28.984891Z",
     "shell.execute_reply": "2023-07-02T05:31:28.984114Z"
    },
    "papermill": {
     "duration": 0.025959,
     "end_time": "2023-07-02T05:31:28.986503",
     "exception": false,
     "start_time": "2023-07-02T05:31:28.960544",
     "status": "completed"
    },
    "tags": []
   },
   "outputs": [],
   "source": [
    "#予測結果を含むDataFrameを作成\n",
    "submission_df=pd.DataFrame({\n",
    "    'PassengerId':test_df_1['PassengerId'],\n",
    "    'Transported':prediction.astype(bool)\n",
    "})\n",
    "#CSVファイルとして保存\n",
    "submission_df.to_csv=('submission.csv')"
   ]
  },
  {
   "cell_type": "code",
   "execution_count": 58,
   "id": "c59dcb94",
   "metadata": {
    "execution": {
     "iopub.execute_input": "2023-07-02T05:31:29.024854Z",
     "iopub.status.busy": "2023-07-02T05:31:29.024539Z",
     "iopub.status.idle": "2023-07-02T05:31:29.032725Z",
     "shell.execute_reply": "2023-07-02T05:31:29.031859Z"
    },
    "papermill": {
     "duration": 0.028985,
     "end_time": "2023-07-02T05:31:29.034233",
     "exception": false,
     "start_time": "2023-07-02T05:31:29.005248",
     "status": "completed"
    },
    "tags": []
   },
   "outputs": [
    {
     "data": {
      "text/html": [
       "<div>\n",
       "<style scoped>\n",
       "    .dataframe tbody tr th:only-of-type {\n",
       "        vertical-align: middle;\n",
       "    }\n",
       "\n",
       "    .dataframe tbody tr th {\n",
       "        vertical-align: top;\n",
       "    }\n",
       "\n",
       "    .dataframe thead th {\n",
       "        text-align: right;\n",
       "    }\n",
       "</style>\n",
       "<table border=\"1\" class=\"dataframe\">\n",
       "  <thead>\n",
       "    <tr style=\"text-align: right;\">\n",
       "      <th></th>\n",
       "      <th>PassengerId</th>\n",
       "      <th>Transported</th>\n",
       "    </tr>\n",
       "  </thead>\n",
       "  <tbody>\n",
       "    <tr>\n",
       "      <th>0</th>\n",
       "      <td>0013_01</td>\n",
       "      <td>True</td>\n",
       "    </tr>\n",
       "    <tr>\n",
       "      <th>1</th>\n",
       "      <td>0018_01</td>\n",
       "      <td>False</td>\n",
       "    </tr>\n",
       "    <tr>\n",
       "      <th>2</th>\n",
       "      <td>0019_01</td>\n",
       "      <td>True</td>\n",
       "    </tr>\n",
       "    <tr>\n",
       "      <th>3</th>\n",
       "      <td>0021_01</td>\n",
       "      <td>True</td>\n",
       "    </tr>\n",
       "    <tr>\n",
       "      <th>4</th>\n",
       "      <td>0023_01</td>\n",
       "      <td>False</td>\n",
       "    </tr>\n",
       "  </tbody>\n",
       "</table>\n",
       "</div>"
      ],
      "text/plain": [
       "  PassengerId  Transported\n",
       "0     0013_01         True\n",
       "1     0018_01        False\n",
       "2     0019_01         True\n",
       "3     0021_01         True\n",
       "4     0023_01        False"
      ]
     },
     "execution_count": 58,
     "metadata": {},
     "output_type": "execute_result"
    }
   ],
   "source": [
    "submission_df.head()"
   ]
  }
 ],
 "metadata": {
  "kernelspec": {
   "display_name": "Python 3",
   "language": "python",
   "name": "python3"
  },
  "language_info": {
   "codemirror_mode": {
    "name": "ipython",
    "version": 3
   },
   "file_extension": ".py",
   "mimetype": "text/x-python",
   "name": "python",
   "nbconvert_exporter": "python",
   "pygments_lexer": "ipython3",
   "version": "3.10.10"
  },
  "papermill": {
   "default_parameters": {},
   "duration": 16.290328,
   "end_time": "2023-07-02T05:31:29.872785",
   "environment_variables": {},
   "exception": null,
   "input_path": "__notebook__.ipynb",
   "output_path": "__notebook__.ipynb",
   "parameters": {},
   "start_time": "2023-07-02T05:31:13.582457",
   "version": "2.4.0"
  }
 },
 "nbformat": 4,
 "nbformat_minor": 5
}
