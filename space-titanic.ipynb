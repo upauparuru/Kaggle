{
 "cells": [
  {
   "cell_type": "markdown",
   "id": "84c7dd6e",
   "metadata": {
    "papermill": {
     "duration": 0.021712,
     "end_time": "2023-07-02T05:53:51.851106",
     "exception": false,
     "start_time": "2023-07-02T05:53:51.829394",
     "status": "completed"
    },
    "tags": []
   },
   "source": [
    "# データのインポート"
   ]
  },
  {
   "cell_type": "code",
   "execution_count": 1,
   "id": "0b7f8466",
   "metadata": {
    "execution": {
     "iopub.execute_input": "2023-07-02T05:53:51.896469Z",
     "iopub.status.busy": "2023-07-02T05:53:51.895769Z",
     "iopub.status.idle": "2023-07-02T05:53:51.972244Z",
     "shell.execute_reply": "2023-07-02T05:53:51.971228Z"
    },
    "papermill": {
     "duration": 0.101977,
     "end_time": "2023-07-02T05:53:51.974916",
     "exception": false,
     "start_time": "2023-07-02T05:53:51.872939",
     "status": "completed"
    },
    "tags": []
   },
   "outputs": [],
   "source": [
    "import pandas as pd\n",
    "df=pd.read_csv('/kaggle/input/spaceship-titanic/train.csv')"
   ]
  },
  {
   "cell_type": "code",
   "execution_count": 2,
   "id": "fea39e12",
   "metadata": {
    "execution": {
     "iopub.execute_input": "2023-07-02T05:53:52.021981Z",
     "iopub.status.busy": "2023-07-02T05:53:52.021605Z",
     "iopub.status.idle": "2023-07-02T05:53:52.063363Z",
     "shell.execute_reply": "2023-07-02T05:53:52.062230Z"
    },
    "papermill": {
     "duration": 0.069465,
     "end_time": "2023-07-02T05:53:52.065783",
     "exception": false,
     "start_time": "2023-07-02T05:53:51.996318",
     "status": "completed"
    },
    "tags": []
   },
   "outputs": [
    {
     "data": {
      "text/html": [
       "<div>\n",
       "<style scoped>\n",
       "    .dataframe tbody tr th:only-of-type {\n",
       "        vertical-align: middle;\n",
       "    }\n",
       "\n",
       "    .dataframe tbody tr th {\n",
       "        vertical-align: top;\n",
       "    }\n",
       "\n",
       "    .dataframe thead th {\n",
       "        text-align: right;\n",
       "    }\n",
       "</style>\n",
       "<table border=\"1\" class=\"dataframe\">\n",
       "  <thead>\n",
       "    <tr style=\"text-align: right;\">\n",
       "      <th></th>\n",
       "      <th>PassengerId</th>\n",
       "      <th>HomePlanet</th>\n",
       "      <th>CryoSleep</th>\n",
       "      <th>Cabin</th>\n",
       "      <th>Destination</th>\n",
       "      <th>Age</th>\n",
       "      <th>VIP</th>\n",
       "      <th>RoomService</th>\n",
       "      <th>FoodCourt</th>\n",
       "      <th>ShoppingMall</th>\n",
       "      <th>Spa</th>\n",
       "      <th>VRDeck</th>\n",
       "      <th>Name</th>\n",
       "      <th>Transported</th>\n",
       "    </tr>\n",
       "  </thead>\n",
       "  <tbody>\n",
       "    <tr>\n",
       "      <th>0</th>\n",
       "      <td>0001_01</td>\n",
       "      <td>Europa</td>\n",
       "      <td>False</td>\n",
       "      <td>B/0/P</td>\n",
       "      <td>TRAPPIST-1e</td>\n",
       "      <td>39.0</td>\n",
       "      <td>False</td>\n",
       "      <td>0.0</td>\n",
       "      <td>0.0</td>\n",
       "      <td>0.0</td>\n",
       "      <td>0.0</td>\n",
       "      <td>0.0</td>\n",
       "      <td>Maham Ofracculy</td>\n",
       "      <td>False</td>\n",
       "    </tr>\n",
       "    <tr>\n",
       "      <th>1</th>\n",
       "      <td>0002_01</td>\n",
       "      <td>Earth</td>\n",
       "      <td>False</td>\n",
       "      <td>F/0/S</td>\n",
       "      <td>TRAPPIST-1e</td>\n",
       "      <td>24.0</td>\n",
       "      <td>False</td>\n",
       "      <td>109.0</td>\n",
       "      <td>9.0</td>\n",
       "      <td>25.0</td>\n",
       "      <td>549.0</td>\n",
       "      <td>44.0</td>\n",
       "      <td>Juanna Vines</td>\n",
       "      <td>True</td>\n",
       "    </tr>\n",
       "    <tr>\n",
       "      <th>2</th>\n",
       "      <td>0003_01</td>\n",
       "      <td>Europa</td>\n",
       "      <td>False</td>\n",
       "      <td>A/0/S</td>\n",
       "      <td>TRAPPIST-1e</td>\n",
       "      <td>58.0</td>\n",
       "      <td>True</td>\n",
       "      <td>43.0</td>\n",
       "      <td>3576.0</td>\n",
       "      <td>0.0</td>\n",
       "      <td>6715.0</td>\n",
       "      <td>49.0</td>\n",
       "      <td>Altark Susent</td>\n",
       "      <td>False</td>\n",
       "    </tr>\n",
       "    <tr>\n",
       "      <th>3</th>\n",
       "      <td>0003_02</td>\n",
       "      <td>Europa</td>\n",
       "      <td>False</td>\n",
       "      <td>A/0/S</td>\n",
       "      <td>TRAPPIST-1e</td>\n",
       "      <td>33.0</td>\n",
       "      <td>False</td>\n",
       "      <td>0.0</td>\n",
       "      <td>1283.0</td>\n",
       "      <td>371.0</td>\n",
       "      <td>3329.0</td>\n",
       "      <td>193.0</td>\n",
       "      <td>Solam Susent</td>\n",
       "      <td>False</td>\n",
       "    </tr>\n",
       "    <tr>\n",
       "      <th>4</th>\n",
       "      <td>0004_01</td>\n",
       "      <td>Earth</td>\n",
       "      <td>False</td>\n",
       "      <td>F/1/S</td>\n",
       "      <td>TRAPPIST-1e</td>\n",
       "      <td>16.0</td>\n",
       "      <td>False</td>\n",
       "      <td>303.0</td>\n",
       "      <td>70.0</td>\n",
       "      <td>151.0</td>\n",
       "      <td>565.0</td>\n",
       "      <td>2.0</td>\n",
       "      <td>Willy Santantines</td>\n",
       "      <td>True</td>\n",
       "    </tr>\n",
       "  </tbody>\n",
       "</table>\n",
       "</div>"
      ],
      "text/plain": [
       "  PassengerId HomePlanet CryoSleep  Cabin  Destination   Age    VIP  \\\n",
       "0     0001_01     Europa     False  B/0/P  TRAPPIST-1e  39.0  False   \n",
       "1     0002_01      Earth     False  F/0/S  TRAPPIST-1e  24.0  False   \n",
       "2     0003_01     Europa     False  A/0/S  TRAPPIST-1e  58.0   True   \n",
       "3     0003_02     Europa     False  A/0/S  TRAPPIST-1e  33.0  False   \n",
       "4     0004_01      Earth     False  F/1/S  TRAPPIST-1e  16.0  False   \n",
       "\n",
       "   RoomService  FoodCourt  ShoppingMall     Spa  VRDeck               Name  \\\n",
       "0          0.0        0.0           0.0     0.0     0.0    Maham Ofracculy   \n",
       "1        109.0        9.0          25.0   549.0    44.0       Juanna Vines   \n",
       "2         43.0     3576.0           0.0  6715.0    49.0      Altark Susent   \n",
       "3          0.0     1283.0         371.0  3329.0   193.0       Solam Susent   \n",
       "4        303.0       70.0         151.0   565.0     2.0  Willy Santantines   \n",
       "\n",
       "   Transported  \n",
       "0        False  \n",
       "1         True  \n",
       "2        False  \n",
       "3        False  \n",
       "4         True  "
      ]
     },
     "execution_count": 2,
     "metadata": {},
     "output_type": "execute_result"
    }
   ],
   "source": [
    "df.head()"
   ]
  },
  {
   "cell_type": "code",
   "execution_count": 3,
   "id": "2700a31c",
   "metadata": {
    "execution": {
     "iopub.execute_input": "2023-07-02T05:53:52.114127Z",
     "iopub.status.busy": "2023-07-02T05:53:52.113680Z",
     "iopub.status.idle": "2023-07-02T05:53:52.163506Z",
     "shell.execute_reply": "2023-07-02T05:53:52.162178Z"
    },
    "papermill": {
     "duration": 0.078781,
     "end_time": "2023-07-02T05:53:52.166221",
     "exception": false,
     "start_time": "2023-07-02T05:53:52.087440",
     "status": "completed"
    },
    "tags": []
   },
   "outputs": [
    {
     "name": "stdout",
     "output_type": "stream",
     "text": [
      "<class 'pandas.core.frame.DataFrame'>\n",
      "RangeIndex: 8693 entries, 0 to 8692\n",
      "Data columns (total 14 columns):\n",
      " #   Column        Non-Null Count  Dtype  \n",
      "---  ------        --------------  -----  \n",
      " 0   PassengerId   8693 non-null   object \n",
      " 1   HomePlanet    8492 non-null   object \n",
      " 2   CryoSleep     8476 non-null   object \n",
      " 3   Cabin         8494 non-null   object \n",
      " 4   Destination   8511 non-null   object \n",
      " 5   Age           8514 non-null   float64\n",
      " 6   VIP           8490 non-null   object \n",
      " 7   RoomService   8512 non-null   float64\n",
      " 8   FoodCourt     8510 non-null   float64\n",
      " 9   ShoppingMall  8485 non-null   float64\n",
      " 10  Spa           8510 non-null   float64\n",
      " 11  VRDeck        8505 non-null   float64\n",
      " 12  Name          8493 non-null   object \n",
      " 13  Transported   8693 non-null   bool   \n",
      "dtypes: bool(1), float64(6), object(7)\n",
      "memory usage: 891.5+ KB\n"
     ]
    }
   ],
   "source": [
    "df.info()"
   ]
  },
  {
   "cell_type": "code",
   "execution_count": 4,
   "id": "38fce02f",
   "metadata": {
    "execution": {
     "iopub.execute_input": "2023-07-02T05:53:52.213367Z",
     "iopub.status.busy": "2023-07-02T05:53:52.212953Z",
     "iopub.status.idle": "2023-07-02T05:53:52.251517Z",
     "shell.execute_reply": "2023-07-02T05:53:52.250396Z"
    },
    "papermill": {
     "duration": 0.065482,
     "end_time": "2023-07-02T05:53:52.254234",
     "exception": false,
     "start_time": "2023-07-02T05:53:52.188752",
     "status": "completed"
    },
    "tags": []
   },
   "outputs": [
    {
     "data": {
      "text/html": [
       "<div>\n",
       "<style scoped>\n",
       "    .dataframe tbody tr th:only-of-type {\n",
       "        vertical-align: middle;\n",
       "    }\n",
       "\n",
       "    .dataframe tbody tr th {\n",
       "        vertical-align: top;\n",
       "    }\n",
       "\n",
       "    .dataframe thead th {\n",
       "        text-align: right;\n",
       "    }\n",
       "</style>\n",
       "<table border=\"1\" class=\"dataframe\">\n",
       "  <thead>\n",
       "    <tr style=\"text-align: right;\">\n",
       "      <th></th>\n",
       "      <th>Age</th>\n",
       "      <th>RoomService</th>\n",
       "      <th>FoodCourt</th>\n",
       "      <th>ShoppingMall</th>\n",
       "      <th>Spa</th>\n",
       "      <th>VRDeck</th>\n",
       "    </tr>\n",
       "  </thead>\n",
       "  <tbody>\n",
       "    <tr>\n",
       "      <th>count</th>\n",
       "      <td>8514.000000</td>\n",
       "      <td>8512.000000</td>\n",
       "      <td>8510.000000</td>\n",
       "      <td>8485.000000</td>\n",
       "      <td>8510.000000</td>\n",
       "      <td>8505.000000</td>\n",
       "    </tr>\n",
       "    <tr>\n",
       "      <th>mean</th>\n",
       "      <td>28.827930</td>\n",
       "      <td>224.687617</td>\n",
       "      <td>458.077203</td>\n",
       "      <td>173.729169</td>\n",
       "      <td>311.138778</td>\n",
       "      <td>304.854791</td>\n",
       "    </tr>\n",
       "    <tr>\n",
       "      <th>std</th>\n",
       "      <td>14.489021</td>\n",
       "      <td>666.717663</td>\n",
       "      <td>1611.489240</td>\n",
       "      <td>604.696458</td>\n",
       "      <td>1136.705535</td>\n",
       "      <td>1145.717189</td>\n",
       "    </tr>\n",
       "    <tr>\n",
       "      <th>min</th>\n",
       "      <td>0.000000</td>\n",
       "      <td>0.000000</td>\n",
       "      <td>0.000000</td>\n",
       "      <td>0.000000</td>\n",
       "      <td>0.000000</td>\n",
       "      <td>0.000000</td>\n",
       "    </tr>\n",
       "    <tr>\n",
       "      <th>25%</th>\n",
       "      <td>19.000000</td>\n",
       "      <td>0.000000</td>\n",
       "      <td>0.000000</td>\n",
       "      <td>0.000000</td>\n",
       "      <td>0.000000</td>\n",
       "      <td>0.000000</td>\n",
       "    </tr>\n",
       "    <tr>\n",
       "      <th>50%</th>\n",
       "      <td>27.000000</td>\n",
       "      <td>0.000000</td>\n",
       "      <td>0.000000</td>\n",
       "      <td>0.000000</td>\n",
       "      <td>0.000000</td>\n",
       "      <td>0.000000</td>\n",
       "    </tr>\n",
       "    <tr>\n",
       "      <th>75%</th>\n",
       "      <td>38.000000</td>\n",
       "      <td>47.000000</td>\n",
       "      <td>76.000000</td>\n",
       "      <td>27.000000</td>\n",
       "      <td>59.000000</td>\n",
       "      <td>46.000000</td>\n",
       "    </tr>\n",
       "    <tr>\n",
       "      <th>max</th>\n",
       "      <td>79.000000</td>\n",
       "      <td>14327.000000</td>\n",
       "      <td>29813.000000</td>\n",
       "      <td>23492.000000</td>\n",
       "      <td>22408.000000</td>\n",
       "      <td>24133.000000</td>\n",
       "    </tr>\n",
       "  </tbody>\n",
       "</table>\n",
       "</div>"
      ],
      "text/plain": [
       "               Age   RoomService     FoodCourt  ShoppingMall           Spa  \\\n",
       "count  8514.000000   8512.000000   8510.000000   8485.000000   8510.000000   \n",
       "mean     28.827930    224.687617    458.077203    173.729169    311.138778   \n",
       "std      14.489021    666.717663   1611.489240    604.696458   1136.705535   \n",
       "min       0.000000      0.000000      0.000000      0.000000      0.000000   \n",
       "25%      19.000000      0.000000      0.000000      0.000000      0.000000   \n",
       "50%      27.000000      0.000000      0.000000      0.000000      0.000000   \n",
       "75%      38.000000     47.000000     76.000000     27.000000     59.000000   \n",
       "max      79.000000  14327.000000  29813.000000  23492.000000  22408.000000   \n",
       "\n",
       "             VRDeck  \n",
       "count   8505.000000  \n",
       "mean     304.854791  \n",
       "std     1145.717189  \n",
       "min        0.000000  \n",
       "25%        0.000000  \n",
       "50%        0.000000  \n",
       "75%       46.000000  \n",
       "max    24133.000000  "
      ]
     },
     "execution_count": 4,
     "metadata": {},
     "output_type": "execute_result"
    }
   ],
   "source": [
    "df.describe()"
   ]
  },
  {
   "cell_type": "markdown",
   "id": "f01a85ad",
   "metadata": {
    "papermill": {
     "duration": 0.021884,
     "end_time": "2023-07-02T05:53:52.298421",
     "exception": false,
     "start_time": "2023-07-02T05:53:52.276537",
     "status": "completed"
    },
    "tags": []
   },
   "source": [
    "# 前処理"
   ]
  },
  {
   "cell_type": "code",
   "execution_count": 5,
   "id": "7fab2748",
   "metadata": {
    "execution": {
     "iopub.execute_input": "2023-07-02T05:53:52.346160Z",
     "iopub.status.busy": "2023-07-02T05:53:52.345741Z",
     "iopub.status.idle": "2023-07-02T05:53:52.377276Z",
     "shell.execute_reply": "2023-07-02T05:53:52.376269Z"
    },
    "papermill": {
     "duration": 0.058169,
     "end_time": "2023-07-02T05:53:52.379629",
     "exception": false,
     "start_time": "2023-07-02T05:53:52.321460",
     "status": "completed"
    },
    "tags": []
   },
   "outputs": [
    {
     "data": {
      "text/plain": [
       "0       False\n",
       "1       False\n",
       "2       False\n",
       "3       False\n",
       "4       False\n",
       "        ...  \n",
       "8688    False\n",
       "8689    False\n",
       "8690    False\n",
       "8691    False\n",
       "8692    False\n",
       "Length: 8693, dtype: bool"
      ]
     },
     "execution_count": 5,
     "metadata": {},
     "output_type": "execute_result"
    }
   ],
   "source": [
    "#重複の確認\n",
    "df.duplicated()"
   ]
  },
  {
   "cell_type": "markdown",
   "id": "5493a34a",
   "metadata": {
    "papermill": {
     "duration": 0.022543,
     "end_time": "2023-07-02T05:53:52.424644",
     "exception": false,
     "start_time": "2023-07-02T05:53:52.402101",
     "status": "completed"
    },
    "tags": []
   },
   "source": [
    "欠損値の確認"
   ]
  },
  {
   "cell_type": "code",
   "execution_count": 6,
   "id": "eb2c94af",
   "metadata": {
    "execution": {
     "iopub.execute_input": "2023-07-02T05:53:52.471542Z",
     "iopub.status.busy": "2023-07-02T05:53:52.470420Z",
     "iopub.status.idle": "2023-07-02T05:53:52.499507Z",
     "shell.execute_reply": "2023-07-02T05:53:52.498340Z"
    },
    "papermill": {
     "duration": 0.05536,
     "end_time": "2023-07-02T05:53:52.502243",
     "exception": false,
     "start_time": "2023-07-02T05:53:52.446883",
     "status": "completed"
    },
    "tags": []
   },
   "outputs": [
    {
     "data": {
      "text/plain": [
       "PassengerId       0\n",
       "HomePlanet      201\n",
       "CryoSleep       217\n",
       "Cabin           199\n",
       "Destination     182\n",
       "Age             179\n",
       "VIP             203\n",
       "RoomService     181\n",
       "FoodCourt       183\n",
       "ShoppingMall    208\n",
       "Spa             183\n",
       "VRDeck          188\n",
       "Name            200\n",
       "Transported       0\n",
       "dtype: int64"
      ]
     },
     "execution_count": 6,
     "metadata": {},
     "output_type": "execute_result"
    }
   ],
   "source": [
    "#欠損値の総和\n",
    "df.isnull().sum()"
   ]
  },
  {
   "cell_type": "code",
   "execution_count": 7,
   "id": "987a4c5b",
   "metadata": {
    "execution": {
     "iopub.execute_input": "2023-07-02T05:53:52.550927Z",
     "iopub.status.busy": "2023-07-02T05:53:52.550210Z",
     "iopub.status.idle": "2023-07-02T05:53:52.578385Z",
     "shell.execute_reply": "2023-07-02T05:53:52.576976Z"
    },
    "papermill": {
     "duration": 0.055827,
     "end_time": "2023-07-02T05:53:52.581192",
     "exception": false,
     "start_time": "2023-07-02T05:53:52.525365",
     "status": "completed"
    },
    "tags": []
   },
   "outputs": [],
   "source": [
    "#欠損値が含むデータを行ごと消去\n",
    "df=df.dropna()"
   ]
  },
  {
   "cell_type": "code",
   "execution_count": 8,
   "id": "460a6055",
   "metadata": {
    "execution": {
     "iopub.execute_input": "2023-07-02T05:53:52.628090Z",
     "iopub.status.busy": "2023-07-02T05:53:52.627725Z",
     "iopub.status.idle": "2023-07-02T05:53:52.652537Z",
     "shell.execute_reply": "2023-07-02T05:53:52.651441Z"
    },
    "papermill": {
     "duration": 0.05101,
     "end_time": "2023-07-02T05:53:52.654687",
     "exception": false,
     "start_time": "2023-07-02T05:53:52.603677",
     "status": "completed"
    },
    "tags": []
   },
   "outputs": [
    {
     "data": {
      "text/plain": [
       "PassengerId     0\n",
       "HomePlanet      0\n",
       "CryoSleep       0\n",
       "Cabin           0\n",
       "Destination     0\n",
       "Age             0\n",
       "VIP             0\n",
       "RoomService     0\n",
       "FoodCourt       0\n",
       "ShoppingMall    0\n",
       "Spa             0\n",
       "VRDeck          0\n",
       "Name            0\n",
       "Transported     0\n",
       "dtype: int64"
      ]
     },
     "execution_count": 8,
     "metadata": {},
     "output_type": "execute_result"
    }
   ],
   "source": [
    "#欠損値の総和の確認\n",
    "df.isnull().sum()"
   ]
  },
  {
   "cell_type": "code",
   "execution_count": 9,
   "id": "dda4cbfd",
   "metadata": {
    "execution": {
     "iopub.execute_input": "2023-07-02T05:53:52.702302Z",
     "iopub.status.busy": "2023-07-02T05:53:52.701560Z",
     "iopub.status.idle": "2023-07-02T05:53:52.716362Z",
     "shell.execute_reply": "2023-07-02T05:53:52.714927Z"
    },
    "papermill": {
     "duration": 0.041752,
     "end_time": "2023-07-02T05:53:52.719130",
     "exception": false,
     "start_time": "2023-07-02T05:53:52.677378",
     "status": "completed"
    },
    "tags": []
   },
   "outputs": [
    {
     "data": {
      "text/html": [
       "<div>\n",
       "<style scoped>\n",
       "    .dataframe tbody tr th:only-of-type {\n",
       "        vertical-align: middle;\n",
       "    }\n",
       "\n",
       "    .dataframe tbody tr th {\n",
       "        vertical-align: top;\n",
       "    }\n",
       "\n",
       "    .dataframe thead th {\n",
       "        text-align: right;\n",
       "    }\n",
       "</style>\n",
       "<table border=\"1\" class=\"dataframe\">\n",
       "  <thead>\n",
       "    <tr style=\"text-align: right;\">\n",
       "      <th></th>\n",
       "      <th>PassengerId</th>\n",
       "      <th>HomePlanet</th>\n",
       "      <th>CryoSleep</th>\n",
       "      <th>Cabin</th>\n",
       "      <th>Destination</th>\n",
       "      <th>VIP</th>\n",
       "      <th>Name</th>\n",
       "    </tr>\n",
       "  </thead>\n",
       "  <tbody>\n",
       "    <tr>\n",
       "      <th>0</th>\n",
       "      <td>0001_01</td>\n",
       "      <td>Europa</td>\n",
       "      <td>False</td>\n",
       "      <td>B/0/P</td>\n",
       "      <td>TRAPPIST-1e</td>\n",
       "      <td>False</td>\n",
       "      <td>Maham Ofracculy</td>\n",
       "    </tr>\n",
       "    <tr>\n",
       "      <th>1</th>\n",
       "      <td>0002_01</td>\n",
       "      <td>Earth</td>\n",
       "      <td>False</td>\n",
       "      <td>F/0/S</td>\n",
       "      <td>TRAPPIST-1e</td>\n",
       "      <td>False</td>\n",
       "      <td>Juanna Vines</td>\n",
       "    </tr>\n",
       "    <tr>\n",
       "      <th>2</th>\n",
       "      <td>0003_01</td>\n",
       "      <td>Europa</td>\n",
       "      <td>False</td>\n",
       "      <td>A/0/S</td>\n",
       "      <td>TRAPPIST-1e</td>\n",
       "      <td>True</td>\n",
       "      <td>Altark Susent</td>\n",
       "    </tr>\n",
       "    <tr>\n",
       "      <th>3</th>\n",
       "      <td>0003_02</td>\n",
       "      <td>Europa</td>\n",
       "      <td>False</td>\n",
       "      <td>A/0/S</td>\n",
       "      <td>TRAPPIST-1e</td>\n",
       "      <td>False</td>\n",
       "      <td>Solam Susent</td>\n",
       "    </tr>\n",
       "    <tr>\n",
       "      <th>4</th>\n",
       "      <td>0004_01</td>\n",
       "      <td>Earth</td>\n",
       "      <td>False</td>\n",
       "      <td>F/1/S</td>\n",
       "      <td>TRAPPIST-1e</td>\n",
       "      <td>False</td>\n",
       "      <td>Willy Santantines</td>\n",
       "    </tr>\n",
       "  </tbody>\n",
       "</table>\n",
       "</div>"
      ],
      "text/plain": [
       "  PassengerId HomePlanet CryoSleep  Cabin  Destination    VIP  \\\n",
       "0     0001_01     Europa     False  B/0/P  TRAPPIST-1e  False   \n",
       "1     0002_01      Earth     False  F/0/S  TRAPPIST-1e  False   \n",
       "2     0003_01     Europa     False  A/0/S  TRAPPIST-1e   True   \n",
       "3     0003_02     Europa     False  A/0/S  TRAPPIST-1e  False   \n",
       "4     0004_01      Earth     False  F/1/S  TRAPPIST-1e  False   \n",
       "\n",
       "                Name  \n",
       "0    Maham Ofracculy  \n",
       "1       Juanna Vines  \n",
       "2      Altark Susent  \n",
       "3       Solam Susent  \n",
       "4  Willy Santantines  "
      ]
     },
     "execution_count": 9,
     "metadata": {},
     "output_type": "execute_result"
    }
   ],
   "source": [
    "#objectの列だけ取得\n",
    "df_obj=df.select_dtypes(include='object')\n",
    "df_obj.head()"
   ]
  },
  {
   "cell_type": "code",
   "execution_count": 10,
   "id": "295e466c",
   "metadata": {
    "execution": {
     "iopub.execute_input": "2023-07-02T05:53:52.767333Z",
     "iopub.status.busy": "2023-07-02T05:53:52.766902Z",
     "iopub.status.idle": "2023-07-02T05:53:52.784697Z",
     "shell.execute_reply": "2023-07-02T05:53:52.783626Z"
    },
    "papermill": {
     "duration": 0.044847,
     "end_time": "2023-07-02T05:53:52.787332",
     "exception": false,
     "start_time": "2023-07-02T05:53:52.742485",
     "status": "completed"
    },
    "tags": []
   },
   "outputs": [
    {
     "data": {
      "text/plain": [
       "PassengerId    6606\n",
       "HomePlanet        3\n",
       "CryoSleep         2\n",
       "Cabin          5305\n",
       "Destination       3\n",
       "VIP               2\n",
       "Name           6590\n",
       "dtype: int64"
      ]
     },
     "execution_count": 10,
     "metadata": {},
     "output_type": "execute_result"
    }
   ],
   "source": [
    "#それぞれのユニークの数の確認\n",
    "df_uni=df_obj.nunique()\n",
    "df_uni"
   ]
  },
  {
   "cell_type": "code",
   "execution_count": 11,
   "id": "52be275c",
   "metadata": {
    "execution": {
     "iopub.execute_input": "2023-07-02T05:53:52.835048Z",
     "iopub.status.busy": "2023-07-02T05:53:52.834680Z",
     "iopub.status.idle": "2023-07-02T05:53:52.845494Z",
     "shell.execute_reply": "2023-07-02T05:53:52.844497Z"
    },
    "papermill": {
     "duration": 0.037641,
     "end_time": "2023-07-02T05:53:52.847947",
     "exception": false,
     "start_time": "2023-07-02T05:53:52.810306",
     "status": "completed"
    },
    "tags": []
   },
   "outputs": [],
   "source": [
    "#passengerIdとNameの削除\n",
    "df=df.drop(labels='PassengerId',axis=1)\n",
    "df=df.drop(labels='Name',axis=1)"
   ]
  },
  {
   "cell_type": "code",
   "execution_count": 12,
   "id": "1aba6530",
   "metadata": {
    "execution": {
     "iopub.execute_input": "2023-07-02T05:53:52.896784Z",
     "iopub.status.busy": "2023-07-02T05:53:52.895753Z",
     "iopub.status.idle": "2023-07-02T05:53:52.910435Z",
     "shell.execute_reply": "2023-07-02T05:53:52.909301Z"
    },
    "papermill": {
     "duration": 0.041992,
     "end_time": "2023-07-02T05:53:52.912765",
     "exception": false,
     "start_time": "2023-07-02T05:53:52.870773",
     "status": "completed"
    },
    "tags": []
   },
   "outputs": [
    {
     "data": {
      "text/plain": [
       "HomePlanet        3\n",
       "CryoSleep         2\n",
       "Cabin          5305\n",
       "Destination       3\n",
       "VIP               2\n",
       "dtype: int64"
      ]
     },
     "execution_count": 12,
     "metadata": {},
     "output_type": "execute_result"
    }
   ],
   "source": [
    "#objectの列だけ取得\n",
    "df_obj=df.select_dtypes(include='object')\n",
    "#それぞれのユニークの数の確認\n",
    "df_uni=df_obj.nunique()\n",
    "df_uni"
   ]
  },
  {
   "cell_type": "markdown",
   "id": "95b36602",
   "metadata": {
    "papermill": {
     "duration": 0.02271,
     "end_time": "2023-07-02T05:53:52.958625",
     "exception": false,
     "start_time": "2023-07-02T05:53:52.935915",
     "status": "completed"
    },
    "tags": []
   },
   "source": [
    "# 探索的データ分析"
   ]
  },
  {
   "cell_type": "code",
   "execution_count": 13,
   "id": "3ceac7f9",
   "metadata": {
    "execution": {
     "iopub.execute_input": "2023-07-02T05:53:53.007336Z",
     "iopub.status.busy": "2023-07-02T05:53:53.006581Z",
     "iopub.status.idle": "2023-07-02T05:53:53.026545Z",
     "shell.execute_reply": "2023-07-02T05:53:53.025674Z"
    },
    "papermill": {
     "duration": 0.047107,
     "end_time": "2023-07-02T05:53:53.028807",
     "exception": false,
     "start_time": "2023-07-02T05:53:52.981700",
     "status": "completed"
    },
    "tags": []
   },
   "outputs": [
    {
     "data": {
      "text/html": [
       "<div>\n",
       "<style scoped>\n",
       "    .dataframe tbody tr th:only-of-type {\n",
       "        vertical-align: middle;\n",
       "    }\n",
       "\n",
       "    .dataframe tbody tr th {\n",
       "        vertical-align: top;\n",
       "    }\n",
       "\n",
       "    .dataframe thead th {\n",
       "        text-align: right;\n",
       "    }\n",
       "</style>\n",
       "<table border=\"1\" class=\"dataframe\">\n",
       "  <thead>\n",
       "    <tr style=\"text-align: right;\">\n",
       "      <th></th>\n",
       "      <th>HomePlanet</th>\n",
       "      <th>CryoSleep</th>\n",
       "      <th>Cabin</th>\n",
       "      <th>Destination</th>\n",
       "      <th>Age</th>\n",
       "      <th>VIP</th>\n",
       "      <th>RoomService</th>\n",
       "      <th>FoodCourt</th>\n",
       "      <th>ShoppingMall</th>\n",
       "      <th>Spa</th>\n",
       "      <th>VRDeck</th>\n",
       "      <th>Transported</th>\n",
       "    </tr>\n",
       "  </thead>\n",
       "  <tbody>\n",
       "    <tr>\n",
       "      <th>0</th>\n",
       "      <td>Europa</td>\n",
       "      <td>False</td>\n",
       "      <td>B/0/P</td>\n",
       "      <td>TRAPPIST-1e</td>\n",
       "      <td>39.0</td>\n",
       "      <td>False</td>\n",
       "      <td>0.0</td>\n",
       "      <td>0.0</td>\n",
       "      <td>0.0</td>\n",
       "      <td>0.0</td>\n",
       "      <td>0.0</td>\n",
       "      <td>False</td>\n",
       "    </tr>\n",
       "    <tr>\n",
       "      <th>1</th>\n",
       "      <td>Earth</td>\n",
       "      <td>False</td>\n",
       "      <td>F/0/S</td>\n",
       "      <td>TRAPPIST-1e</td>\n",
       "      <td>24.0</td>\n",
       "      <td>False</td>\n",
       "      <td>109.0</td>\n",
       "      <td>9.0</td>\n",
       "      <td>25.0</td>\n",
       "      <td>549.0</td>\n",
       "      <td>44.0</td>\n",
       "      <td>True</td>\n",
       "    </tr>\n",
       "    <tr>\n",
       "      <th>2</th>\n",
       "      <td>Europa</td>\n",
       "      <td>False</td>\n",
       "      <td>A/0/S</td>\n",
       "      <td>TRAPPIST-1e</td>\n",
       "      <td>58.0</td>\n",
       "      <td>True</td>\n",
       "      <td>43.0</td>\n",
       "      <td>3576.0</td>\n",
       "      <td>0.0</td>\n",
       "      <td>6715.0</td>\n",
       "      <td>49.0</td>\n",
       "      <td>False</td>\n",
       "    </tr>\n",
       "    <tr>\n",
       "      <th>3</th>\n",
       "      <td>Europa</td>\n",
       "      <td>False</td>\n",
       "      <td>A/0/S</td>\n",
       "      <td>TRAPPIST-1e</td>\n",
       "      <td>33.0</td>\n",
       "      <td>False</td>\n",
       "      <td>0.0</td>\n",
       "      <td>1283.0</td>\n",
       "      <td>371.0</td>\n",
       "      <td>3329.0</td>\n",
       "      <td>193.0</td>\n",
       "      <td>False</td>\n",
       "    </tr>\n",
       "    <tr>\n",
       "      <th>4</th>\n",
       "      <td>Earth</td>\n",
       "      <td>False</td>\n",
       "      <td>F/1/S</td>\n",
       "      <td>TRAPPIST-1e</td>\n",
       "      <td>16.0</td>\n",
       "      <td>False</td>\n",
       "      <td>303.0</td>\n",
       "      <td>70.0</td>\n",
       "      <td>151.0</td>\n",
       "      <td>565.0</td>\n",
       "      <td>2.0</td>\n",
       "      <td>True</td>\n",
       "    </tr>\n",
       "  </tbody>\n",
       "</table>\n",
       "</div>"
      ],
      "text/plain": [
       "  HomePlanet CryoSleep  Cabin  Destination   Age    VIP  RoomService  \\\n",
       "0     Europa     False  B/0/P  TRAPPIST-1e  39.0  False          0.0   \n",
       "1      Earth     False  F/0/S  TRAPPIST-1e  24.0  False        109.0   \n",
       "2     Europa     False  A/0/S  TRAPPIST-1e  58.0   True         43.0   \n",
       "3     Europa     False  A/0/S  TRAPPIST-1e  33.0  False          0.0   \n",
       "4      Earth     False  F/1/S  TRAPPIST-1e  16.0  False        303.0   \n",
       "\n",
       "   FoodCourt  ShoppingMall     Spa  VRDeck  Transported  \n",
       "0        0.0           0.0     0.0     0.0        False  \n",
       "1        9.0          25.0   549.0    44.0         True  \n",
       "2     3576.0           0.0  6715.0    49.0        False  \n",
       "3     1283.0         371.0  3329.0   193.0        False  \n",
       "4       70.0         151.0   565.0     2.0         True  "
      ]
     },
     "execution_count": 13,
     "metadata": {},
     "output_type": "execute_result"
    }
   ],
   "source": [
    "df.head()"
   ]
  },
  {
   "cell_type": "code",
   "execution_count": 14,
   "id": "28258e43",
   "metadata": {
    "execution": {
     "iopub.execute_input": "2023-07-02T05:53:53.077503Z",
     "iopub.status.busy": "2023-07-02T05:53:53.077067Z",
     "iopub.status.idle": "2023-07-02T05:53:53.098415Z",
     "shell.execute_reply": "2023-07-02T05:53:53.096518Z"
    },
    "papermill": {
     "duration": 0.048729,
     "end_time": "2023-07-02T05:53:53.100755",
     "exception": false,
     "start_time": "2023-07-02T05:53:53.052026",
     "status": "completed"
    },
    "tags": []
   },
   "outputs": [
    {
     "name": "stdout",
     "output_type": "stream",
     "text": [
      "Transported\n",
      "False    30.102470\n",
      "True     27.703036\n",
      "Name: Age, dtype: float64\n",
      "Transported\n",
      "False    383.642269\n",
      "True      64.658852\n",
      "Name: RoomService, dtype: float64\n",
      "Transported\n",
      "False    385.928027\n",
      "True     570.646829\n",
      "Name: FoodCourt, dtype: float64\n",
      "Transported\n",
      "False    171.621836\n",
      "True     184.993989\n",
      "Name: ShoppingMall, dtype: float64\n",
      "Transported\n",
      "False    566.493443\n",
      "True      63.484521\n",
      "Name: Spa, dtype: float64\n",
      "Transported\n",
      "False    539.860323\n",
      "True      71.105801\n",
      "Name: VRDeck, dtype: float64\n"
     ]
    }
   ],
   "source": [
    "#質的変数(Transported)と量的変数を比較：平均\n",
    "mean_comparison_age=df.groupby('Transported')['Age'].mean()\n",
    "mean_comparison_room=df.groupby('Transported')['RoomService'].mean()\n",
    "mean_comparison_food=df.groupby('Transported')['FoodCourt'].mean()\n",
    "mean_comparison_shop=df.groupby('Transported')['ShoppingMall'].mean()\n",
    "mean_comparison_spa=df.groupby('Transported')['Spa'].mean()\n",
    "mean_comparison_vr=df.groupby('Transported')['VRDeck'].mean()\n",
    "print(mean_comparison_age)\n",
    "print(mean_comparison_room)\n",
    "print(mean_comparison_food)\n",
    "print(mean_comparison_shop)\n",
    "print(mean_comparison_spa)\n",
    "print(mean_comparison_vr)"
   ]
  },
  {
   "cell_type": "markdown",
   "id": "df68f106",
   "metadata": {
    "papermill": {
     "duration": 0.023976,
     "end_time": "2023-07-02T05:53:53.149203",
     "exception": false,
     "start_time": "2023-07-02T05:53:53.125227",
     "status": "completed"
    },
    "tags": []
   },
   "source": [
    "上の結果から極端に平均値に差が出ているのは、「RoomService」「Spa」「VRDeck」"
   ]
  },
  {
   "cell_type": "code",
   "execution_count": 15,
   "id": "c49165d4",
   "metadata": {
    "execution": {
     "iopub.execute_input": "2023-07-02T05:53:53.199138Z",
     "iopub.status.busy": "2023-07-02T05:53:53.197825Z",
     "iopub.status.idle": "2023-07-02T05:53:53.218716Z",
     "shell.execute_reply": "2023-07-02T05:53:53.217059Z"
    },
    "papermill": {
     "duration": 0.048582,
     "end_time": "2023-07-02T05:53:53.221465",
     "exception": false,
     "start_time": "2023-07-02T05:53:53.172883",
     "status": "completed"
    },
    "tags": []
   },
   "outputs": [
    {
     "name": "stdout",
     "output_type": "stream",
     "text": [
      "Transported\n",
      "False    186.217074\n",
      "True     233.068130\n",
      "Name: Age, dtype: float64\n",
      "Transported\n",
      "False    705926.104753\n",
      "True      79881.123811\n",
      "Name: RoomService, dtype: float64\n",
      "Transported\n",
      "False    1.485877e+06\n",
      "True     4.114152e+06\n",
      "Name: FoodCourt, dtype: float64\n",
      "Transported\n",
      "False    229612.285258\n",
      "True     433227.799723\n",
      "Name: ShoppingMall, dtype: float64\n",
      "Transported\n",
      "False    2.438636e+06\n",
      "True     6.998215e+04\n",
      "Name: Spa, dtype: float64\n",
      "Transported\n",
      "False    2.360910e+06\n",
      "True     8.700851e+04\n",
      "Name: VRDeck, dtype: float64\n"
     ]
    }
   ],
   "source": [
    "#質的変数(Transported)と量的変数を比較：分散\n",
    "var_comparison_age=df.groupby('Transported')['Age'].var()\n",
    "var_comparison_room=df.groupby('Transported')['RoomService'].var()\n",
    "var_comparison_food=df.groupby('Transported')['FoodCourt'].var()\n",
    "var_comparison_shop=df.groupby('Transported')['ShoppingMall'].var()\n",
    "var_comparison_spa=df.groupby('Transported')['Spa'].var()\n",
    "var_comparison_vr=df.groupby('Transported')['VRDeck'].var()\n",
    "print(var_comparison_age)\n",
    "print(var_comparison_room)\n",
    "print(var_comparison_food)\n",
    "print(var_comparison_shop)\n",
    "print(var_comparison_spa)\n",
    "print(var_comparison_vr)"
   ]
  },
  {
   "cell_type": "markdown",
   "id": "6d668cdf",
   "metadata": {
    "papermill": {
     "duration": 0.023172,
     "end_time": "2023-07-02T05:53:53.268692",
     "exception": false,
     "start_time": "2023-07-02T05:53:53.245520",
     "status": "completed"
    },
    "tags": []
   },
   "source": [
    "上の平均がずれていたもの(「RoomService」「Spa」「VRDeck」)を見ると、RoomServiceの分散はFalseが極端に大きい。SpaとVRDeckは小さいのでこの二つは見やすいかもしれない"
   ]
  },
  {
   "cell_type": "code",
   "execution_count": 16,
   "id": "86144721",
   "metadata": {
    "execution": {
     "iopub.execute_input": "2023-07-02T05:53:53.317994Z",
     "iopub.status.busy": "2023-07-02T05:53:53.317259Z",
     "iopub.status.idle": "2023-07-02T05:53:53.893717Z",
     "shell.execute_reply": "2023-07-02T05:53:53.892582Z"
    },
    "papermill": {
     "duration": 0.603824,
     "end_time": "2023-07-02T05:53:53.896193",
     "exception": false,
     "start_time": "2023-07-02T05:53:53.292369",
     "status": "completed"
    },
    "tags": []
   },
   "outputs": [
    {
     "data": {
      "image/png": "[encoded data removed]",
      "text/plain": [
       "<Figure size 640x480 with 1 Axes>"
      ]
     },
     "metadata": {},
     "output_type": "display_data"
    },
    {
     "data": {
      "image/png": "[encoded data removed]",
      "text/plain": [
       "<Figure size 640x480 with 1 Axes>"
      ]
     },
     "metadata": {},
     "output_type": "display_data"
    }
   ],
   "source": [
    "#ヒストグラムでみてみる\n",
    "import matplotlib.pyplot as plt\n",
    "#Transportedのデータをグループ化\n",
    "grouped=df.groupby('Transported')\n",
    "\n",
    "for group_name,group_data in grouped:\n",
    "    plt.figure()\n",
    "    plt.hist(group_data['RoomService'],bins=20,alpha=0.5,label='RoomService')\n",
    "    plt.show()"
   ]
  },
  {
   "cell_type": "code",
   "execution_count": 17,
   "id": "4be255f2",
   "metadata": {
    "execution": {
     "iopub.execute_input": "2023-07-02T05:53:53.947490Z",
     "iopub.status.busy": "2023-07-02T05:53:53.946337Z",
     "iopub.status.idle": "2023-07-02T05:53:54.597938Z",
     "shell.execute_reply": "2023-07-02T05:53:54.596816Z"
    },
    "papermill": {
     "duration": 0.679744,
     "end_time": "2023-07-02T05:53:54.600683",
     "exception": false,
     "start_time": "2023-07-02T05:53:53.920939",
     "status": "completed"
    },
    "tags": []
   },
   "outputs": [
    {
     "data": {
      "image/png": "[encoded data removed]",
      "text/plain": [
       "<Figure size 640x480 with 1 Axes>"
      ]
     },
     "metadata": {},
     "output_type": "display_data"
    },
    {
     "data": {
      "image/png": "[encoded data removed]",
      "text/plain": [
       "<Figure size 640x480 with 1 Axes>"
      ]
     },
     "metadata": {},
     "output_type": "display_data"
    }
   ],
   "source": [
    "#ヒストグラムでみてみる\n",
    "import matplotlib.pyplot as plt\n",
    "#Transportedのデータをグループ化\n",
    "grouped=df.groupby('Transported')\n",
    "\n",
    "for group_name,group_data in grouped:\n",
    "    plt.figure()\n",
    "    plt.hist(group_data['Spa'],bins=20,alpha=0.5,label='Spa')\n",
    "    plt.show()"
   ]
  },
  {
   "cell_type": "code",
   "execution_count": 18,
   "id": "a6008ed8",
   "metadata": {
    "execution": {
     "iopub.execute_input": "2023-07-02T05:53:54.652969Z",
     "iopub.status.busy": "2023-07-02T05:53:54.652187Z",
     "iopub.status.idle": "2023-07-02T05:53:55.203504Z",
     "shell.execute_reply": "2023-07-02T05:53:55.202203Z"
    },
    "papermill": {
     "duration": 0.580397,
     "end_time": "2023-07-02T05:53:55.206020",
     "exception": false,
     "start_time": "2023-07-02T05:53:54.625623",
     "status": "completed"
    },
    "tags": []
   },
   "outputs": [
    {
     "data": {
      "image/png": "[encoded data removed]",
      "text/plain": [
       "<Figure size 640x480 with 1 Axes>"
      ]
     },
     "metadata": {},
     "output_type": "display_data"
    },
    {
     "data": {
      "image/png": "[encoded data removed]",
      "text/plain": [
       "<Figure size 640x480 with 1 Axes>"
      ]
     },
     "metadata": {},
     "output_type": "display_data"
    }
   ],
   "source": [
    "#ヒストグラムでみてみる\n",
    "import matplotlib.pyplot as plt\n",
    "#Transportedのデータをグループ化\n",
    "grouped=df.groupby('Transported')\n",
    "\n",
    "for group_name,group_data in grouped:\n",
    "    plt.figure()\n",
    "    plt.hist(group_data['VRDeck'],bins=20,alpha=0.5,label='VRDeck')\n",
    "    plt.show()"
   ]
  },
  {
   "cell_type": "markdown",
   "id": "61bb13e0",
   "metadata": {
    "papermill": {
     "duration": 0.025071,
     "end_time": "2023-07-02T05:53:55.257060",
     "exception": false,
     "start_time": "2023-07-02T05:53:55.231989",
     "status": "completed"
    },
    "tags": []
   },
   "source": [
    "どれも平均に近く分布していて、多く使っている人がいる。対数変換して見てみるのもありだと思う。"
   ]
  },
  {
   "cell_type": "code",
   "execution_count": 19,
   "id": "0ec51659",
   "metadata": {
    "execution": {
     "iopub.execute_input": "2023-07-02T05:53:55.310546Z",
     "iopub.status.busy": "2023-07-02T05:53:55.309395Z",
     "iopub.status.idle": "2023-07-02T05:53:55.342295Z",
     "shell.execute_reply": "2023-07-02T05:53:55.340999Z"
    },
    "papermill": {
     "duration": 0.062332,
     "end_time": "2023-07-02T05:53:55.344751",
     "exception": false,
     "start_time": "2023-07-02T05:53:55.282419",
     "status": "completed"
    },
    "tags": []
   },
   "outputs": [
    {
     "name": "stdout",
     "output_type": "stream",
     "text": [
      "CryoSleep    False  True \n",
      "Transported              \n",
      "False         2852    427\n",
      "True          1422   1905\n"
     ]
    }
   ],
   "source": [
    "#質的変数(Transported)と質的変数を比較：クロス集計\n",
    "#クロス集計を行う\n",
    "cross_tab=pd.crosstab(df['Transported'],df['CryoSleep'])\n",
    "print(cross_tab)"
   ]
  },
  {
   "cell_type": "markdown",
   "id": "cf7ac5f4",
   "metadata": {
    "papermill": {
     "duration": 0.026095,
     "end_time": "2023-07-02T05:53:55.396614",
     "exception": false,
     "start_time": "2023-07-02T05:53:55.370519",
     "status": "completed"
    },
    "tags": []
   },
   "source": [
    "CryoSleepしている人は転送されやすくなっている。\n",
    "してない人は転送されていない人が多い"
   ]
  },
  {
   "cell_type": "code",
   "execution_count": 20,
   "id": "5177b917",
   "metadata": {
    "execution": {
     "iopub.execute_input": "2023-07-02T05:53:55.450344Z",
     "iopub.status.busy": "2023-07-02T05:53:55.449190Z",
     "iopub.status.idle": "2023-07-02T05:53:55.466598Z",
     "shell.execute_reply": "2023-07-02T05:53:55.465462Z"
    },
    "papermill": {
     "duration": 0.047078,
     "end_time": "2023-07-02T05:53:55.469406",
     "exception": false,
     "start_time": "2023-07-02T05:53:55.422328",
     "status": "completed"
    },
    "tags": []
   },
   "outputs": [
    {
     "name": "stdout",
     "output_type": "stream",
     "text": [
      "HomePlanet   Earth  Europa  Mars\n",
      "Transported                     \n",
      "False         2048     569   662\n",
      "True          1518    1104   705\n"
     ]
    }
   ],
   "source": [
    "#クロス集計を行う\n",
    "cross_tab=pd.crosstab(df['Transported'],df['HomePlanet'])\n",
    "print(cross_tab)"
   ]
  },
  {
   "cell_type": "markdown",
   "id": "f058b3b8",
   "metadata": {
    "papermill": {
     "duration": 0.025409,
     "end_time": "2023-07-02T05:53:55.521361",
     "exception": false,
     "start_time": "2023-07-02T05:53:55.495952",
     "status": "completed"
    },
    "tags": []
   },
   "source": [
    "Earthから出発した乗客は転送されていない人が多い。\n",
    "Europaからだと、転送された人が多い。\n",
    "Marsは同数"
   ]
  },
  {
   "cell_type": "code",
   "execution_count": 21,
   "id": "ea17480f",
   "metadata": {
    "execution": {
     "iopub.execute_input": "2023-07-02T05:53:55.575239Z",
     "iopub.status.busy": "2023-07-02T05:53:55.574831Z",
     "iopub.status.idle": "2023-07-02T05:53:55.593576Z",
     "shell.execute_reply": "2023-07-02T05:53:55.592179Z"
    },
    "papermill": {
     "duration": 0.048763,
     "end_time": "2023-07-02T05:53:55.596168",
     "exception": false,
     "start_time": "2023-07-02T05:53:55.547405",
     "status": "completed"
    },
    "tags": []
   },
   "outputs": [
    {
     "name": "stdout",
     "output_type": "stream",
     "text": [
      "Destination  55 Cancri e  PSO J318.5-22  TRAPPIST-1e\n",
      "Transported                                         \n",
      "False                531            308         2440\n",
      "True                 876            315         2136\n"
     ]
    }
   ],
   "source": [
    "#クロス集計を行う\n",
    "cross_tab=pd.crosstab(df['Transported'],df['Destination'])\n",
    "print(cross_tab)"
   ]
  },
  {
   "cell_type": "markdown",
   "id": "b28cfd35",
   "metadata": {
    "papermill": {
     "duration": 0.025346,
     "end_time": "2023-07-02T05:53:55.647784",
     "exception": false,
     "start_time": "2023-07-02T05:53:55.622438",
     "status": "completed"
    },
    "tags": []
   },
   "source": [
    "55 Cancri eに差が出ているくらい"
   ]
  },
  {
   "cell_type": "code",
   "execution_count": 22,
   "id": "9c5ed754",
   "metadata": {
    "execution": {
     "iopub.execute_input": "2023-07-02T05:53:55.701730Z",
     "iopub.status.busy": "2023-07-02T05:53:55.701353Z",
     "iopub.status.idle": "2023-07-02T05:53:55.718987Z",
     "shell.execute_reply": "2023-07-02T05:53:55.717671Z"
    },
    "papermill": {
     "duration": 0.047444,
     "end_time": "2023-07-02T05:53:55.721129",
     "exception": false,
     "start_time": "2023-07-02T05:53:55.673685",
     "status": "completed"
    },
    "tags": []
   },
   "outputs": [
    {
     "name": "stdout",
     "output_type": "stream",
     "text": [
      "VIP          False  True \n",
      "Transported              \n",
      "False         3177    102\n",
      "True          3267     60\n"
     ]
    }
   ],
   "source": [
    "#クロス集計を行う\n",
    "cross_tab=pd.crosstab(df['Transported'],df['VIP'])\n",
    "print(cross_tab)"
   ]
  },
  {
   "cell_type": "markdown",
   "id": "9e385c3f",
   "metadata": {
    "papermill": {
     "duration": 0.026562,
     "end_time": "2023-07-02T05:53:55.773703",
     "exception": false,
     "start_time": "2023-07-02T05:53:55.747141",
     "status": "completed"
    },
    "tags": []
   },
   "source": [
    "ほぼ同数"
   ]
  },
  {
   "cell_type": "code",
   "execution_count": 23,
   "id": "e7f79d4c",
   "metadata": {
    "execution": {
     "iopub.execute_input": "2023-07-02T05:53:55.827743Z",
     "iopub.status.busy": "2023-07-02T05:53:55.827134Z",
     "iopub.status.idle": "2023-07-02T05:53:55.847439Z",
     "shell.execute_reply": "2023-07-02T05:53:55.846270Z"
    },
    "papermill": {
     "duration": 0.050304,
     "end_time": "2023-07-02T05:53:55.850196",
     "exception": false,
     "start_time": "2023-07-02T05:53:55.799892",
     "status": "completed"
    },
    "tags": []
   },
   "outputs": [],
   "source": [
    "#データを\"/\"ごとに分ける\n",
    "df[[\"Deck\", \"Cabin_num\", \"Side\"]] = df[\"Cabin\"].str.split(\"/\", expand=True)"
   ]
  },
  {
   "cell_type": "code",
   "execution_count": 24,
   "id": "d2180911",
   "metadata": {
    "execution": {
     "iopub.execute_input": "2023-07-02T05:53:55.904067Z",
     "iopub.status.busy": "2023-07-02T05:53:55.903437Z",
     "iopub.status.idle": "2023-07-02T05:53:55.910023Z",
     "shell.execute_reply": "2023-07-02T05:53:55.909233Z"
    },
    "papermill": {
     "duration": 0.036111,
     "end_time": "2023-07-02T05:53:55.912315",
     "exception": false,
     "start_time": "2023-07-02T05:53:55.876204",
     "status": "completed"
    },
    "tags": []
   },
   "outputs": [],
   "source": [
    "df=df.drop(labels='Cabin',axis=1)"
   ]
  },
  {
   "cell_type": "code",
   "execution_count": 25,
   "id": "3c8459f8",
   "metadata": {
    "execution": {
     "iopub.execute_input": "2023-07-02T05:53:55.965975Z",
     "iopub.status.busy": "2023-07-02T05:53:55.965368Z",
     "iopub.status.idle": "2023-07-02T05:53:55.986652Z",
     "shell.execute_reply": "2023-07-02T05:53:55.985582Z"
    },
    "papermill": {
     "duration": 0.050667,
     "end_time": "2023-07-02T05:53:55.988907",
     "exception": false,
     "start_time": "2023-07-02T05:53:55.938240",
     "status": "completed"
    },
    "tags": []
   },
   "outputs": [
    {
     "data": {
      "text/html": [
       "<div>\n",
       "<style scoped>\n",
       "    .dataframe tbody tr th:only-of-type {\n",
       "        vertical-align: middle;\n",
       "    }\n",
       "\n",
       "    .dataframe tbody tr th {\n",
       "        vertical-align: top;\n",
       "    }\n",
       "\n",
       "    .dataframe thead th {\n",
       "        text-align: right;\n",
       "    }\n",
       "</style>\n",
       "<table border=\"1\" class=\"dataframe\">\n",
       "  <thead>\n",
       "    <tr style=\"text-align: right;\">\n",
       "      <th></th>\n",
       "      <th>HomePlanet</th>\n",
       "      <th>CryoSleep</th>\n",
       "      <th>Destination</th>\n",
       "      <th>Age</th>\n",
       "      <th>VIP</th>\n",
       "      <th>RoomService</th>\n",
       "      <th>FoodCourt</th>\n",
       "      <th>ShoppingMall</th>\n",
       "      <th>Spa</th>\n",
       "      <th>VRDeck</th>\n",
       "      <th>Transported</th>\n",
       "      <th>Deck</th>\n",
       "      <th>Cabin_num</th>\n",
       "      <th>Side</th>\n",
       "    </tr>\n",
       "  </thead>\n",
       "  <tbody>\n",
       "    <tr>\n",
       "      <th>0</th>\n",
       "      <td>Europa</td>\n",
       "      <td>False</td>\n",
       "      <td>TRAPPIST-1e</td>\n",
       "      <td>39.0</td>\n",
       "      <td>False</td>\n",
       "      <td>0.0</td>\n",
       "      <td>0.0</td>\n",
       "      <td>0.0</td>\n",
       "      <td>0.0</td>\n",
       "      <td>0.0</td>\n",
       "      <td>False</td>\n",
       "      <td>B</td>\n",
       "      <td>0</td>\n",
       "      <td>P</td>\n",
       "    </tr>\n",
       "    <tr>\n",
       "      <th>1</th>\n",
       "      <td>Earth</td>\n",
       "      <td>False</td>\n",
       "      <td>TRAPPIST-1e</td>\n",
       "      <td>24.0</td>\n",
       "      <td>False</td>\n",
       "      <td>109.0</td>\n",
       "      <td>9.0</td>\n",
       "      <td>25.0</td>\n",
       "      <td>549.0</td>\n",
       "      <td>44.0</td>\n",
       "      <td>True</td>\n",
       "      <td>F</td>\n",
       "      <td>0</td>\n",
       "      <td>S</td>\n",
       "    </tr>\n",
       "    <tr>\n",
       "      <th>2</th>\n",
       "      <td>Europa</td>\n",
       "      <td>False</td>\n",
       "      <td>TRAPPIST-1e</td>\n",
       "      <td>58.0</td>\n",
       "      <td>True</td>\n",
       "      <td>43.0</td>\n",
       "      <td>3576.0</td>\n",
       "      <td>0.0</td>\n",
       "      <td>6715.0</td>\n",
       "      <td>49.0</td>\n",
       "      <td>False</td>\n",
       "      <td>A</td>\n",
       "      <td>0</td>\n",
       "      <td>S</td>\n",
       "    </tr>\n",
       "    <tr>\n",
       "      <th>3</th>\n",
       "      <td>Europa</td>\n",
       "      <td>False</td>\n",
       "      <td>TRAPPIST-1e</td>\n",
       "      <td>33.0</td>\n",
       "      <td>False</td>\n",
       "      <td>0.0</td>\n",
       "      <td>1283.0</td>\n",
       "      <td>371.0</td>\n",
       "      <td>3329.0</td>\n",
       "      <td>193.0</td>\n",
       "      <td>False</td>\n",
       "      <td>A</td>\n",
       "      <td>0</td>\n",
       "      <td>S</td>\n",
       "    </tr>\n",
       "    <tr>\n",
       "      <th>4</th>\n",
       "      <td>Earth</td>\n",
       "      <td>False</td>\n",
       "      <td>TRAPPIST-1e</td>\n",
       "      <td>16.0</td>\n",
       "      <td>False</td>\n",
       "      <td>303.0</td>\n",
       "      <td>70.0</td>\n",
       "      <td>151.0</td>\n",
       "      <td>565.0</td>\n",
       "      <td>2.0</td>\n",
       "      <td>True</td>\n",
       "      <td>F</td>\n",
       "      <td>1</td>\n",
       "      <td>S</td>\n",
       "    </tr>\n",
       "  </tbody>\n",
       "</table>\n",
       "</div>"
      ],
      "text/plain": [
       "  HomePlanet CryoSleep  Destination   Age    VIP  RoomService  FoodCourt  \\\n",
       "0     Europa     False  TRAPPIST-1e  39.0  False          0.0        0.0   \n",
       "1      Earth     False  TRAPPIST-1e  24.0  False        109.0        9.0   \n",
       "2     Europa     False  TRAPPIST-1e  58.0   True         43.0     3576.0   \n",
       "3     Europa     False  TRAPPIST-1e  33.0  False          0.0     1283.0   \n",
       "4      Earth     False  TRAPPIST-1e  16.0  False        303.0       70.0   \n",
       "\n",
       "   ShoppingMall     Spa  VRDeck  Transported Deck Cabin_num Side  \n",
       "0           0.0     0.0     0.0        False    B         0    P  \n",
       "1          25.0   549.0    44.0         True    F         0    S  \n",
       "2           0.0  6715.0    49.0        False    A         0    S  \n",
       "3         371.0  3329.0   193.0        False    A         0    S  \n",
       "4         151.0   565.0     2.0         True    F         1    S  "
      ]
     },
     "execution_count": 25,
     "metadata": {},
     "output_type": "execute_result"
    }
   ],
   "source": [
    "#Cabin列がなくなって、Deck、Cabin_num,Sideが増えたことを確認\n",
    "df.head()"
   ]
  },
  {
   "cell_type": "code",
   "execution_count": 26,
   "id": "b07ef123",
   "metadata": {
    "execution": {
     "iopub.execute_input": "2023-07-02T05:53:56.044839Z",
     "iopub.status.busy": "2023-07-02T05:53:56.044174Z",
     "iopub.status.idle": "2023-07-02T05:53:56.063508Z",
     "shell.execute_reply": "2023-07-02T05:53:56.062094Z"
    },
    "papermill": {
     "duration": 0.050219,
     "end_time": "2023-07-02T05:53:56.065815",
     "exception": false,
     "start_time": "2023-07-02T05:53:56.015596",
     "status": "completed"
    },
    "tags": []
   },
   "outputs": [
    {
     "name": "stdout",
     "output_type": "stream",
     "text": [
      "Deck           A    B    C    D    E     F     G  T\n",
      "Transported                                        \n",
      "False        106  170  188  216  438  1215   945  1\n",
      "True         101  458  399  158  245   937  1028  1\n"
     ]
    }
   ],
   "source": [
    "#クロス集計を行う\n",
    "cross_tab=pd.crosstab(df['Transported'],df['Deck'])\n",
    "print(cross_tab)"
   ]
  },
  {
   "cell_type": "markdown",
   "id": "bcbd78e5",
   "metadata": {
    "papermill": {
     "duration": 0.027686,
     "end_time": "2023-07-02T05:53:56.119723",
     "exception": false,
     "start_time": "2023-07-02T05:53:56.092037",
     "status": "completed"
    },
    "tags": []
   },
   "source": [
    "transportedがB,C,Gだとtrueが多い、D,E,Fだとfalseが多い"
   ]
  },
  {
   "cell_type": "code",
   "execution_count": 27,
   "id": "21ab1150",
   "metadata": {
    "execution": {
     "iopub.execute_input": "2023-07-02T05:53:56.175299Z",
     "iopub.status.busy": "2023-07-02T05:53:56.174554Z",
     "iopub.status.idle": "2023-07-02T05:53:56.516374Z",
     "shell.execute_reply": "2023-07-02T05:53:56.515207Z"
    },
    "papermill": {
     "duration": 0.372729,
     "end_time": "2023-07-02T05:53:56.519182",
     "exception": false,
     "start_time": "2023-07-02T05:53:56.146453",
     "status": "completed"
    },
    "tags": []
   },
   "outputs": [
    {
     "name": "stdout",
     "output_type": "stream",
     "text": [
      "Cabin_num    0  1  10  100  1000  1001  1002  1003  1004  1005  ...  990  991  \\\n",
      "Transported                                                     ...             \n",
      "False        7  3   5    3     3     1     1     1     0     0  ...    2    1   \n",
      "True         5  9   5    7     2     2     2     1     3     2  ...    1    4   \n",
      "\n",
      "Cabin_num    992  993  994  995  996  997  998  999  \n",
      "Transported                                          \n",
      "False          1    1    2    1    0    2    2    0  \n",
      "True           1    1    5    1    1    0    1    4  \n",
      "\n",
      "[2 rows x 1734 columns]\n"
     ]
    }
   ],
   "source": [
    "#クロス集計を行う\n",
    "cross_tab=pd.crosstab(df['Transported'],df['Cabin_num'])\n",
    "print(cross_tab)"
   ]
  },
  {
   "cell_type": "markdown",
   "id": "c4a12165",
   "metadata": {
    "papermill": {
     "duration": 0.026141,
     "end_time": "2023-07-02T05:53:56.572904",
     "exception": false,
     "start_time": "2023-07-02T05:53:56.546763",
     "status": "completed"
    },
    "tags": []
   },
   "source": [
    "差が生まれにくい。変数が増えるだけなので削除する"
   ]
  },
  {
   "cell_type": "code",
   "execution_count": 28,
   "id": "32b500d5",
   "metadata": {
    "execution": {
     "iopub.execute_input": "2023-07-02T05:53:56.627753Z",
     "iopub.status.busy": "2023-07-02T05:53:56.627105Z",
     "iopub.status.idle": "2023-07-02T05:53:56.645144Z",
     "shell.execute_reply": "2023-07-02T05:53:56.643577Z"
    },
    "papermill": {
     "duration": 0.048031,
     "end_time": "2023-07-02T05:53:56.647565",
     "exception": false,
     "start_time": "2023-07-02T05:53:56.599534",
     "status": "completed"
    },
    "tags": []
   },
   "outputs": [
    {
     "name": "stdout",
     "output_type": "stream",
     "text": [
      "Side            P     S\n",
      "Transported            \n",
      "False        1794  1485\n",
      "True         1467  1860\n"
     ]
    }
   ],
   "source": [
    "#クロス集計を行う\n",
    "cross_tab=pd.crosstab(df['Transported'],df['Side'])\n",
    "print(cross_tab)"
   ]
  },
  {
   "cell_type": "markdown",
   "id": "a38fc59b",
   "metadata": {
    "papermill": {
     "duration": 0.026144,
     "end_time": "2023-07-02T05:53:56.700679",
     "exception": false,
     "start_time": "2023-07-02T05:53:56.674535",
     "status": "completed"
    },
    "tags": []
   },
   "source": [
    "差がないようにも思えるけど、強いていうとpだとfalseになりやすくて、sだとtrueになりやすい"
   ]
  },
  {
   "cell_type": "code",
   "execution_count": 29,
   "id": "aff9d281",
   "metadata": {
    "execution": {
     "iopub.execute_input": "2023-07-02T05:53:56.755951Z",
     "iopub.status.busy": "2023-07-02T05:53:56.755321Z",
     "iopub.status.idle": "2023-07-02T05:53:56.761009Z",
     "shell.execute_reply": "2023-07-02T05:53:56.760198Z"
    },
    "papermill": {
     "duration": 0.036097,
     "end_time": "2023-07-02T05:53:56.763379",
     "exception": false,
     "start_time": "2023-07-02T05:53:56.727282",
     "status": "completed"
    },
    "tags": []
   },
   "outputs": [],
   "source": [
    "#Cabin_numは削除してしまう\n",
    "df=df.drop(labels='Cabin_num',axis=1)"
   ]
  },
  {
   "cell_type": "markdown",
   "id": "02ff4d2d",
   "metadata": {
    "papermill": {
     "duration": 0.026457,
     "end_time": "2023-07-02T05:53:56.816587",
     "exception": false,
     "start_time": "2023-07-02T05:53:56.790130",
     "status": "completed"
    },
    "tags": []
   },
   "source": [
    "# ダミー変数に変換する"
   ]
  },
  {
   "cell_type": "code",
   "execution_count": 30,
   "id": "433ea7b7",
   "metadata": {
    "execution": {
     "iopub.execute_input": "2023-07-02T05:53:56.872903Z",
     "iopub.status.busy": "2023-07-02T05:53:56.872223Z",
     "iopub.status.idle": "2023-07-02T05:53:56.887851Z",
     "shell.execute_reply": "2023-07-02T05:53:56.886774Z"
    },
    "papermill": {
     "duration": 0.047014,
     "end_time": "2023-07-02T05:53:56.890280",
     "exception": false,
     "start_time": "2023-07-02T05:53:56.843266",
     "status": "completed"
    },
    "tags": []
   },
   "outputs": [
    {
     "data": {
      "text/html": [
       "<div>\n",
       "<style scoped>\n",
       "    .dataframe tbody tr th:only-of-type {\n",
       "        vertical-align: middle;\n",
       "    }\n",
       "\n",
       "    .dataframe tbody tr th {\n",
       "        vertical-align: top;\n",
       "    }\n",
       "\n",
       "    .dataframe thead th {\n",
       "        text-align: right;\n",
       "    }\n",
       "</style>\n",
       "<table border=\"1\" class=\"dataframe\">\n",
       "  <thead>\n",
       "    <tr style=\"text-align: right;\">\n",
       "      <th></th>\n",
       "      <th>HomePlanet</th>\n",
       "      <th>CryoSleep</th>\n",
       "      <th>Destination</th>\n",
       "      <th>VIP</th>\n",
       "      <th>Deck</th>\n",
       "      <th>Side</th>\n",
       "    </tr>\n",
       "  </thead>\n",
       "  <tbody>\n",
       "    <tr>\n",
       "      <th>0</th>\n",
       "      <td>Europa</td>\n",
       "      <td>False</td>\n",
       "      <td>TRAPPIST-1e</td>\n",
       "      <td>False</td>\n",
       "      <td>B</td>\n",
       "      <td>P</td>\n",
       "    </tr>\n",
       "    <tr>\n",
       "      <th>1</th>\n",
       "      <td>Earth</td>\n",
       "      <td>False</td>\n",
       "      <td>TRAPPIST-1e</td>\n",
       "      <td>False</td>\n",
       "      <td>F</td>\n",
       "      <td>S</td>\n",
       "    </tr>\n",
       "    <tr>\n",
       "      <th>2</th>\n",
       "      <td>Europa</td>\n",
       "      <td>False</td>\n",
       "      <td>TRAPPIST-1e</td>\n",
       "      <td>True</td>\n",
       "      <td>A</td>\n",
       "      <td>S</td>\n",
       "    </tr>\n",
       "    <tr>\n",
       "      <th>3</th>\n",
       "      <td>Europa</td>\n",
       "      <td>False</td>\n",
       "      <td>TRAPPIST-1e</td>\n",
       "      <td>False</td>\n",
       "      <td>A</td>\n",
       "      <td>S</td>\n",
       "    </tr>\n",
       "    <tr>\n",
       "      <th>4</th>\n",
       "      <td>Earth</td>\n",
       "      <td>False</td>\n",
       "      <td>TRAPPIST-1e</td>\n",
       "      <td>False</td>\n",
       "      <td>F</td>\n",
       "      <td>S</td>\n",
       "    </tr>\n",
       "  </tbody>\n",
       "</table>\n",
       "</div>"
      ],
      "text/plain": [
       "  HomePlanet CryoSleep  Destination    VIP Deck Side\n",
       "0     Europa     False  TRAPPIST-1e  False    B    P\n",
       "1      Earth     False  TRAPPIST-1e  False    F    S\n",
       "2     Europa     False  TRAPPIST-1e   True    A    S\n",
       "3     Europa     False  TRAPPIST-1e  False    A    S\n",
       "4      Earth     False  TRAPPIST-1e  False    F    S"
      ]
     },
     "execution_count": 30,
     "metadata": {},
     "output_type": "execute_result"
    }
   ],
   "source": [
    "#カテゴリカル変数を含んだデータのみ抽出\n",
    "df_obj=df.select_dtypes(include='object')\n",
    "df_obj.head()"
   ]
  },
  {
   "cell_type": "code",
   "execution_count": 31,
   "id": "7b6549c0",
   "metadata": {
    "execution": {
     "iopub.execute_input": "2023-07-02T05:53:56.946258Z",
     "iopub.status.busy": "2023-07-02T05:53:56.945459Z",
     "iopub.status.idle": "2023-07-02T05:53:56.958177Z",
     "shell.execute_reply": "2023-07-02T05:53:56.957162Z"
    },
    "papermill": {
     "duration": 0.043388,
     "end_time": "2023-07-02T05:53:56.960434",
     "exception": false,
     "start_time": "2023-07-02T05:53:56.917046",
     "status": "completed"
    },
    "tags": []
   },
   "outputs": [
    {
     "data": {
      "text/plain": [
       "Index(['CryoSleep', 'VIP', 'Side'], dtype='object')"
      ]
     },
     "execution_count": 31,
     "metadata": {},
     "output_type": "execute_result"
    }
   ],
   "source": [
    "#それぞれ別のユニークな値の数\n",
    "df_uni=df_obj.nunique()\n",
    "#ユニークな値の数が2つの入力変数に対してLabel Encodingを適用\n",
    "df_cols=df_uni[df_uni==2].index\n",
    "df_cols"
   ]
  },
  {
   "cell_type": "code",
   "execution_count": 32,
   "id": "a3f173aa",
   "metadata": {
    "execution": {
     "iopub.execute_input": "2023-07-02T05:53:57.017382Z",
     "iopub.status.busy": "2023-07-02T05:53:57.016565Z",
     "iopub.status.idle": "2023-07-02T05:53:58.340867Z",
     "shell.execute_reply": "2023-07-02T05:53:58.339708Z"
    },
    "papermill": {
     "duration": 1.356726,
     "end_time": "2023-07-02T05:53:58.343695",
     "exception": false,
     "start_time": "2023-07-02T05:53:56.986969",
     "status": "completed"
    },
    "tags": []
   },
   "outputs": [],
   "source": [
    "from sklearn.preprocessing import LabelEncoder\n",
    "for col in df_cols:\n",
    "    le=LabelEncoder()\n",
    "    le.fit(df[col])\n",
    "    df[col]=le.transform(df[col])"
   ]
  },
  {
   "cell_type": "code",
   "execution_count": 33,
   "id": "b4f2e7da",
   "metadata": {
    "execution": {
     "iopub.execute_input": "2023-07-02T05:53:58.399423Z",
     "iopub.status.busy": "2023-07-02T05:53:58.399015Z",
     "iopub.status.idle": "2023-07-02T05:53:58.411601Z",
     "shell.execute_reply": "2023-07-02T05:53:58.410760Z"
    },
    "papermill": {
     "duration": 0.042936,
     "end_time": "2023-07-02T05:53:58.413669",
     "exception": false,
     "start_time": "2023-07-02T05:53:58.370733",
     "status": "completed"
    },
    "tags": []
   },
   "outputs": [
    {
     "data": {
      "text/html": [
       "<div>\n",
       "<style scoped>\n",
       "    .dataframe tbody tr th:only-of-type {\n",
       "        vertical-align: middle;\n",
       "    }\n",
       "\n",
       "    .dataframe tbody tr th {\n",
       "        vertical-align: top;\n",
       "    }\n",
       "\n",
       "    .dataframe thead th {\n",
       "        text-align: right;\n",
       "    }\n",
       "</style>\n",
       "<table border=\"1\" class=\"dataframe\">\n",
       "  <thead>\n",
       "    <tr style=\"text-align: right;\">\n",
       "      <th></th>\n",
       "      <th>CryoSleep</th>\n",
       "      <th>VIP</th>\n",
       "      <th>Side</th>\n",
       "    </tr>\n",
       "  </thead>\n",
       "  <tbody>\n",
       "    <tr>\n",
       "      <th>0</th>\n",
       "      <td>0</td>\n",
       "      <td>0</td>\n",
       "      <td>0</td>\n",
       "    </tr>\n",
       "    <tr>\n",
       "      <th>1</th>\n",
       "      <td>0</td>\n",
       "      <td>0</td>\n",
       "      <td>1</td>\n",
       "    </tr>\n",
       "    <tr>\n",
       "      <th>2</th>\n",
       "      <td>0</td>\n",
       "      <td>1</td>\n",
       "      <td>1</td>\n",
       "    </tr>\n",
       "    <tr>\n",
       "      <th>3</th>\n",
       "      <td>0</td>\n",
       "      <td>0</td>\n",
       "      <td>1</td>\n",
       "    </tr>\n",
       "    <tr>\n",
       "      <th>4</th>\n",
       "      <td>0</td>\n",
       "      <td>0</td>\n",
       "      <td>1</td>\n",
       "    </tr>\n",
       "  </tbody>\n",
       "</table>\n",
       "</div>"
      ],
      "text/plain": [
       "   CryoSleep  VIP  Side\n",
       "0          0    0     0\n",
       "1          0    0     1\n",
       "2          0    1     1\n",
       "3          0    0     1\n",
       "4          0    0     1"
      ]
     },
     "execution_count": 33,
     "metadata": {},
     "output_type": "execute_result"
    }
   ],
   "source": [
    "#Encodingが完了していることを確認\n",
    "df[df_cols].head()"
   ]
  },
  {
   "cell_type": "code",
   "execution_count": 34,
   "id": "8c75f4d9",
   "metadata": {
    "execution": {
     "iopub.execute_input": "2023-07-02T05:53:58.470186Z",
     "iopub.status.busy": "2023-07-02T05:53:58.469418Z",
     "iopub.status.idle": "2023-07-02T05:53:58.482441Z",
     "shell.execute_reply": "2023-07-02T05:53:58.481293Z"
    },
    "papermill": {
     "duration": 0.044573,
     "end_time": "2023-07-02T05:53:58.485427",
     "exception": false,
     "start_time": "2023-07-02T05:53:58.440854",
     "status": "completed"
    },
    "tags": []
   },
   "outputs": [],
   "source": [
    "#その他のカテゴリをダミー変数に変換\n",
    "df=pd.get_dummies(df,drop_first=True)"
   ]
  },
  {
   "cell_type": "markdown",
   "id": "94e9c425",
   "metadata": {
    "papermill": {
     "duration": 0.026821,
     "end_time": "2023-07-02T05:53:58.539740",
     "exception": false,
     "start_time": "2023-07-02T05:53:58.512919",
     "status": "completed"
    },
    "tags": []
   },
   "source": [
    "# ランダムフォレストで学習"
   ]
  },
  {
   "cell_type": "code",
   "execution_count": 35,
   "id": "89a35fba",
   "metadata": {
    "execution": {
     "iopub.execute_input": "2023-07-02T05:53:58.596048Z",
     "iopub.status.busy": "2023-07-02T05:53:58.595628Z",
     "iopub.status.idle": "2023-07-02T05:53:58.623464Z",
     "shell.execute_reply": "2023-07-02T05:53:58.622361Z"
    },
    "papermill": {
     "duration": 0.058616,
     "end_time": "2023-07-02T05:53:58.625809",
     "exception": false,
     "start_time": "2023-07-02T05:53:58.567193",
     "status": "completed"
    },
    "tags": []
   },
   "outputs": [
    {
     "data": {
      "text/html": [
       "<div>\n",
       "<style scoped>\n",
       "    .dataframe tbody tr th:only-of-type {\n",
       "        vertical-align: middle;\n",
       "    }\n",
       "\n",
       "    .dataframe tbody tr th {\n",
       "        vertical-align: top;\n",
       "    }\n",
       "\n",
       "    .dataframe thead th {\n",
       "        text-align: right;\n",
       "    }\n",
       "</style>\n",
       "<table border=\"1\" class=\"dataframe\">\n",
       "  <thead>\n",
       "    <tr style=\"text-align: right;\">\n",
       "      <th></th>\n",
       "      <th>CryoSleep</th>\n",
       "      <th>Age</th>\n",
       "      <th>VIP</th>\n",
       "      <th>RoomService</th>\n",
       "      <th>FoodCourt</th>\n",
       "      <th>ShoppingMall</th>\n",
       "      <th>Spa</th>\n",
       "      <th>VRDeck</th>\n",
       "      <th>Transported</th>\n",
       "      <th>Side</th>\n",
       "      <th>...</th>\n",
       "      <th>HomePlanet_Mars</th>\n",
       "      <th>Destination_PSO J318.5-22</th>\n",
       "      <th>Destination_TRAPPIST-1e</th>\n",
       "      <th>Deck_B</th>\n",
       "      <th>Deck_C</th>\n",
       "      <th>Deck_D</th>\n",
       "      <th>Deck_E</th>\n",
       "      <th>Deck_F</th>\n",
       "      <th>Deck_G</th>\n",
       "      <th>Deck_T</th>\n",
       "    </tr>\n",
       "  </thead>\n",
       "  <tbody>\n",
       "    <tr>\n",
       "      <th>0</th>\n",
       "      <td>0</td>\n",
       "      <td>39.0</td>\n",
       "      <td>0</td>\n",
       "      <td>0.0</td>\n",
       "      <td>0.0</td>\n",
       "      <td>0.0</td>\n",
       "      <td>0.0</td>\n",
       "      <td>0.0</td>\n",
       "      <td>False</td>\n",
       "      <td>0</td>\n",
       "      <td>...</td>\n",
       "      <td>0</td>\n",
       "      <td>0</td>\n",
       "      <td>1</td>\n",
       "      <td>1</td>\n",
       "      <td>0</td>\n",
       "      <td>0</td>\n",
       "      <td>0</td>\n",
       "      <td>0</td>\n",
       "      <td>0</td>\n",
       "      <td>0</td>\n",
       "    </tr>\n",
       "    <tr>\n",
       "      <th>1</th>\n",
       "      <td>0</td>\n",
       "      <td>24.0</td>\n",
       "      <td>0</td>\n",
       "      <td>109.0</td>\n",
       "      <td>9.0</td>\n",
       "      <td>25.0</td>\n",
       "      <td>549.0</td>\n",
       "      <td>44.0</td>\n",
       "      <td>True</td>\n",
       "      <td>1</td>\n",
       "      <td>...</td>\n",
       "      <td>0</td>\n",
       "      <td>0</td>\n",
       "      <td>1</td>\n",
       "      <td>0</td>\n",
       "      <td>0</td>\n",
       "      <td>0</td>\n",
       "      <td>0</td>\n",
       "      <td>1</td>\n",
       "      <td>0</td>\n",
       "      <td>0</td>\n",
       "    </tr>\n",
       "    <tr>\n",
       "      <th>2</th>\n",
       "      <td>0</td>\n",
       "      <td>58.0</td>\n",
       "      <td>1</td>\n",
       "      <td>43.0</td>\n",
       "      <td>3576.0</td>\n",
       "      <td>0.0</td>\n",
       "      <td>6715.0</td>\n",
       "      <td>49.0</td>\n",
       "      <td>False</td>\n",
       "      <td>1</td>\n",
       "      <td>...</td>\n",
       "      <td>0</td>\n",
       "      <td>0</td>\n",
       "      <td>1</td>\n",
       "      <td>0</td>\n",
       "      <td>0</td>\n",
       "      <td>0</td>\n",
       "      <td>0</td>\n",
       "      <td>0</td>\n",
       "      <td>0</td>\n",
       "      <td>0</td>\n",
       "    </tr>\n",
       "    <tr>\n",
       "      <th>3</th>\n",
       "      <td>0</td>\n",
       "      <td>33.0</td>\n",
       "      <td>0</td>\n",
       "      <td>0.0</td>\n",
       "      <td>1283.0</td>\n",
       "      <td>371.0</td>\n",
       "      <td>3329.0</td>\n",
       "      <td>193.0</td>\n",
       "      <td>False</td>\n",
       "      <td>1</td>\n",
       "      <td>...</td>\n",
       "      <td>0</td>\n",
       "      <td>0</td>\n",
       "      <td>1</td>\n",
       "      <td>0</td>\n",
       "      <td>0</td>\n",
       "      <td>0</td>\n",
       "      <td>0</td>\n",
       "      <td>0</td>\n",
       "      <td>0</td>\n",
       "      <td>0</td>\n",
       "    </tr>\n",
       "    <tr>\n",
       "      <th>4</th>\n",
       "      <td>0</td>\n",
       "      <td>16.0</td>\n",
       "      <td>0</td>\n",
       "      <td>303.0</td>\n",
       "      <td>70.0</td>\n",
       "      <td>151.0</td>\n",
       "      <td>565.0</td>\n",
       "      <td>2.0</td>\n",
       "      <td>True</td>\n",
       "      <td>1</td>\n",
       "      <td>...</td>\n",
       "      <td>0</td>\n",
       "      <td>0</td>\n",
       "      <td>1</td>\n",
       "      <td>0</td>\n",
       "      <td>0</td>\n",
       "      <td>0</td>\n",
       "      <td>0</td>\n",
       "      <td>1</td>\n",
       "      <td>0</td>\n",
       "      <td>0</td>\n",
       "    </tr>\n",
       "  </tbody>\n",
       "</table>\n",
       "<p>5 rows × 21 columns</p>\n",
       "</div>"
      ],
      "text/plain": [
       "   CryoSleep   Age  VIP  RoomService  FoodCourt  ShoppingMall     Spa  VRDeck  \\\n",
       "0          0  39.0    0          0.0        0.0           0.0     0.0     0.0   \n",
       "1          0  24.0    0        109.0        9.0          25.0   549.0    44.0   \n",
       "2          0  58.0    1         43.0     3576.0           0.0  6715.0    49.0   \n",
       "3          0  33.0    0          0.0     1283.0         371.0  3329.0   193.0   \n",
       "4          0  16.0    0        303.0       70.0         151.0   565.0     2.0   \n",
       "\n",
       "   Transported  Side  ...  HomePlanet_Mars  Destination_PSO J318.5-22  \\\n",
       "0        False     0  ...                0                          0   \n",
       "1         True     1  ...                0                          0   \n",
       "2        False     1  ...                0                          0   \n",
       "3        False     1  ...                0                          0   \n",
       "4         True     1  ...                0                          0   \n",
       "\n",
       "   Destination_TRAPPIST-1e  Deck_B  Deck_C  Deck_D  Deck_E  Deck_F  Deck_G  \\\n",
       "0                        1       1       0       0       0       0       0   \n",
       "1                        1       0       0       0       0       1       0   \n",
       "2                        1       0       0       0       0       0       0   \n",
       "3                        1       0       0       0       0       0       0   \n",
       "4                        1       0       0       0       0       1       0   \n",
       "\n",
       "   Deck_T  \n",
       "0       0  \n",
       "1       0  \n",
       "2       0  \n",
       "3       0  \n",
       "4       0  \n",
       "\n",
       "[5 rows x 21 columns]"
      ]
     },
     "execution_count": 35,
     "metadata": {},
     "output_type": "execute_result"
    }
   ],
   "source": [
    "df.head()"
   ]
  },
  {
   "cell_type": "code",
   "execution_count": 36,
   "id": "ccff04ed",
   "metadata": {
    "execution": {
     "iopub.execute_input": "2023-07-02T05:53:58.683770Z",
     "iopub.status.busy": "2023-07-02T05:53:58.682950Z",
     "iopub.status.idle": "2023-07-02T05:53:58.708562Z",
     "shell.execute_reply": "2023-07-02T05:53:58.707478Z"
    },
    "papermill": {
     "duration": 0.057351,
     "end_time": "2023-07-02T05:53:58.710813",
     "exception": false,
     "start_time": "2023-07-02T05:53:58.653462",
     "status": "completed"
    },
    "tags": []
   },
   "outputs": [
    {
     "data": {
      "text/html": [
       "<div>\n",
       "<style scoped>\n",
       "    .dataframe tbody tr th:only-of-type {\n",
       "        vertical-align: middle;\n",
       "    }\n",
       "\n",
       "    .dataframe tbody tr th {\n",
       "        vertical-align: top;\n",
       "    }\n",
       "\n",
       "    .dataframe thead th {\n",
       "        text-align: right;\n",
       "    }\n",
       "</style>\n",
       "<table border=\"1\" class=\"dataframe\">\n",
       "  <thead>\n",
       "    <tr style=\"text-align: right;\">\n",
       "      <th></th>\n",
       "      <th>CryoSleep</th>\n",
       "      <th>Age</th>\n",
       "      <th>VIP</th>\n",
       "      <th>RoomService</th>\n",
       "      <th>FoodCourt</th>\n",
       "      <th>ShoppingMall</th>\n",
       "      <th>Spa</th>\n",
       "      <th>VRDeck</th>\n",
       "      <th>Transported</th>\n",
       "      <th>Side</th>\n",
       "      <th>...</th>\n",
       "      <th>HomePlanet_Mars</th>\n",
       "      <th>Destination_PSO J318.5-22</th>\n",
       "      <th>Destination_TRAPPIST-1e</th>\n",
       "      <th>Deck_B</th>\n",
       "      <th>Deck_C</th>\n",
       "      <th>Deck_D</th>\n",
       "      <th>Deck_E</th>\n",
       "      <th>Deck_F</th>\n",
       "      <th>Deck_G</th>\n",
       "      <th>Deck_T</th>\n",
       "    </tr>\n",
       "  </thead>\n",
       "  <tbody>\n",
       "    <tr>\n",
       "      <th>0</th>\n",
       "      <td>0</td>\n",
       "      <td>39.0</td>\n",
       "      <td>0</td>\n",
       "      <td>0.0</td>\n",
       "      <td>0.0</td>\n",
       "      <td>0.0</td>\n",
       "      <td>0.0</td>\n",
       "      <td>0.0</td>\n",
       "      <td>0</td>\n",
       "      <td>0</td>\n",
       "      <td>...</td>\n",
       "      <td>0</td>\n",
       "      <td>0</td>\n",
       "      <td>1</td>\n",
       "      <td>1</td>\n",
       "      <td>0</td>\n",
       "      <td>0</td>\n",
       "      <td>0</td>\n",
       "      <td>0</td>\n",
       "      <td>0</td>\n",
       "      <td>0</td>\n",
       "    </tr>\n",
       "    <tr>\n",
       "      <th>1</th>\n",
       "      <td>0</td>\n",
       "      <td>24.0</td>\n",
       "      <td>0</td>\n",
       "      <td>109.0</td>\n",
       "      <td>9.0</td>\n",
       "      <td>25.0</td>\n",
       "      <td>549.0</td>\n",
       "      <td>44.0</td>\n",
       "      <td>1</td>\n",
       "      <td>1</td>\n",
       "      <td>...</td>\n",
       "      <td>0</td>\n",
       "      <td>0</td>\n",
       "      <td>1</td>\n",
       "      <td>0</td>\n",
       "      <td>0</td>\n",
       "      <td>0</td>\n",
       "      <td>0</td>\n",
       "      <td>1</td>\n",
       "      <td>0</td>\n",
       "      <td>0</td>\n",
       "    </tr>\n",
       "    <tr>\n",
       "      <th>2</th>\n",
       "      <td>0</td>\n",
       "      <td>58.0</td>\n",
       "      <td>1</td>\n",
       "      <td>43.0</td>\n",
       "      <td>3576.0</td>\n",
       "      <td>0.0</td>\n",
       "      <td>6715.0</td>\n",
       "      <td>49.0</td>\n",
       "      <td>0</td>\n",
       "      <td>1</td>\n",
       "      <td>...</td>\n",
       "      <td>0</td>\n",
       "      <td>0</td>\n",
       "      <td>1</td>\n",
       "      <td>0</td>\n",
       "      <td>0</td>\n",
       "      <td>0</td>\n",
       "      <td>0</td>\n",
       "      <td>0</td>\n",
       "      <td>0</td>\n",
       "      <td>0</td>\n",
       "    </tr>\n",
       "    <tr>\n",
       "      <th>3</th>\n",
       "      <td>0</td>\n",
       "      <td>33.0</td>\n",
       "      <td>0</td>\n",
       "      <td>0.0</td>\n",
       "      <td>1283.0</td>\n",
       "      <td>371.0</td>\n",
       "      <td>3329.0</td>\n",
       "      <td>193.0</td>\n",
       "      <td>0</td>\n",
       "      <td>1</td>\n",
       "      <td>...</td>\n",
       "      <td>0</td>\n",
       "      <td>0</td>\n",
       "      <td>1</td>\n",
       "      <td>0</td>\n",
       "      <td>0</td>\n",
       "      <td>0</td>\n",
       "      <td>0</td>\n",
       "      <td>0</td>\n",
       "      <td>0</td>\n",
       "      <td>0</td>\n",
       "    </tr>\n",
       "    <tr>\n",
       "      <th>4</th>\n",
       "      <td>0</td>\n",
       "      <td>16.0</td>\n",
       "      <td>0</td>\n",
       "      <td>303.0</td>\n",
       "      <td>70.0</td>\n",
       "      <td>151.0</td>\n",
       "      <td>565.0</td>\n",
       "      <td>2.0</td>\n",
       "      <td>1</td>\n",
       "      <td>1</td>\n",
       "      <td>...</td>\n",
       "      <td>0</td>\n",
       "      <td>0</td>\n",
       "      <td>1</td>\n",
       "      <td>0</td>\n",
       "      <td>0</td>\n",
       "      <td>0</td>\n",
       "      <td>0</td>\n",
       "      <td>1</td>\n",
       "      <td>0</td>\n",
       "      <td>0</td>\n",
       "    </tr>\n",
       "  </tbody>\n",
       "</table>\n",
       "<p>5 rows × 21 columns</p>\n",
       "</div>"
      ],
      "text/plain": [
       "   CryoSleep   Age  VIP  RoomService  FoodCourt  ShoppingMall     Spa  VRDeck  \\\n",
       "0          0  39.0    0          0.0        0.0           0.0     0.0     0.0   \n",
       "1          0  24.0    0        109.0        9.0          25.0   549.0    44.0   \n",
       "2          0  58.0    1         43.0     3576.0           0.0  6715.0    49.0   \n",
       "3          0  33.0    0          0.0     1283.0         371.0  3329.0   193.0   \n",
       "4          0  16.0    0        303.0       70.0         151.0   565.0     2.0   \n",
       "\n",
       "   Transported  Side  ...  HomePlanet_Mars  Destination_PSO J318.5-22  \\\n",
       "0            0     0  ...                0                          0   \n",
       "1            1     1  ...                0                          0   \n",
       "2            0     1  ...                0                          0   \n",
       "3            0     1  ...                0                          0   \n",
       "4            1     1  ...                0                          0   \n",
       "\n",
       "   Destination_TRAPPIST-1e  Deck_B  Deck_C  Deck_D  Deck_E  Deck_F  Deck_G  \\\n",
       "0                        1       1       0       0       0       0       0   \n",
       "1                        1       0       0       0       0       1       0   \n",
       "2                        1       0       0       0       0       0       0   \n",
       "3                        1       0       0       0       0       0       0   \n",
       "4                        1       0       0       0       0       1       0   \n",
       "\n",
       "   Deck_T  \n",
       "0       0  \n",
       "1       0  \n",
       "2       0  \n",
       "3       0  \n",
       "4       0  \n",
       "\n",
       "[5 rows x 21 columns]"
      ]
     },
     "execution_count": 36,
     "metadata": {},
     "output_type": "execute_result"
    }
   ],
   "source": [
    "#Transportedのbool型をint型に変換\n",
    "df['Transported']=df['Transported'].astype(int)\n",
    "df.head()"
   ]
  },
  {
   "cell_type": "code",
   "execution_count": 37,
   "id": "f5d87506",
   "metadata": {
    "execution": {
     "iopub.execute_input": "2023-07-02T05:53:58.768895Z",
     "iopub.status.busy": "2023-07-02T05:53:58.767925Z",
     "iopub.status.idle": "2023-07-02T05:53:58.776505Z",
     "shell.execute_reply": "2023-07-02T05:53:58.775642Z"
    },
    "papermill": {
     "duration": 0.040154,
     "end_time": "2023-07-02T05:53:58.778930",
     "exception": false,
     "start_time": "2023-07-02T05:53:58.738776",
     "status": "completed"
    },
    "tags": []
   },
   "outputs": [],
   "source": [
    "#説明変数のデータをNumpy配列に格納\n",
    "X = df.iloc[:, list(range(8)) + list(range(9, 21))].values\n",
    "#目的変数のデータをNumpy配列に格納\n",
    "y=df.iloc[:,8].values"
   ]
  },
  {
   "cell_type": "code",
   "execution_count": 38,
   "id": "62418db0",
   "metadata": {
    "execution": {
     "iopub.execute_input": "2023-07-02T05:53:58.837602Z",
     "iopub.status.busy": "2023-07-02T05:53:58.836893Z",
     "iopub.status.idle": "2023-07-02T05:53:58.959764Z",
     "shell.execute_reply": "2023-07-02T05:53:58.958692Z"
    },
    "papermill": {
     "duration": 0.154929,
     "end_time": "2023-07-02T05:53:58.962597",
     "exception": false,
     "start_time": "2023-07-02T05:53:58.807668",
     "status": "completed"
    },
    "tags": []
   },
   "outputs": [],
   "source": [
    "from sklearn.model_selection import train_test_split\n",
    "#説明変数のデータと目的変数のデータを8:2の割合で分割する\n",
    "X_train,X_test,y_train,y_test=train_test_split(X,y,test_size=0.2,random_state=0)"
   ]
  },
  {
   "cell_type": "code",
   "execution_count": 39,
   "id": "08050b14",
   "metadata": {
    "execution": {
     "iopub.execute_input": "2023-07-02T05:53:59.020861Z",
     "iopub.status.busy": "2023-07-02T05:53:59.020485Z",
     "iopub.status.idle": "2023-07-02T05:54:00.228129Z",
     "shell.execute_reply": "2023-07-02T05:54:00.227136Z"
    },
    "papermill": {
     "duration": 1.240241,
     "end_time": "2023-07-02T05:54:00.230560",
     "exception": false,
     "start_time": "2023-07-02T05:53:58.990319",
     "status": "completed"
    },
    "tags": []
   },
   "outputs": [
    {
     "data": {
      "text/html": [
       "<style>#sk-container-id-1 {color: black;background-color: white;}#sk-container-id-1 pre{padding: 0;}#sk-container-id-1 div.sk-toggleable {background-color: white;}#sk-container-id-1 label.sk-toggleable__label {cursor: pointer;display: block;width: 100%;margin-bottom: 0;padding: 0.3em;box-sizing: border-box;text-align: center;}#sk-container-id-1 label.sk-toggleable__label-arrow:before {content: \"▸\";float: left;margin-right: 0.25em;color: #696969;}#sk-container-id-1 label.sk-toggleable__label-arrow:hover:before {color: black;}#sk-container-id-1 div.sk-estimator:hover label.sk-toggleable__label-arrow:before {color: black;}#sk-container-id-1 div.sk-toggleable__content {max-height: 0;max-width: 0;overflow: hidden;text-align: left;background-color: #f0f8ff;}#sk-container-id-1 div.sk-toggleable__content pre {margin: 0.2em;color: black;border-radius: 0.25em;background-color: #f0f8ff;}#sk-container-id-1 input.sk-toggleable__control:checked~div.sk-toggleable__content {max-height: 200px;max-width: 100%;overflow: auto;}#sk-container-id-1 input.sk-toggleable__control:checked~label.sk-toggleable__label-arrow:before {content: \"▾\";}#sk-container-id-1 div.sk-estimator input.sk-toggleable__control:checked~label.sk-toggleable__label {background-color: #d4ebff;}#sk-container-id-1 div.sk-label input.sk-toggleable__control:checked~label.sk-toggleable__label {background-color: #d4ebff;}#sk-container-id-1 input.sk-hidden--visually {border: 0;clip: rect(1px 1px 1px 1px);clip: rect(1px, 1px, 1px, 1px);height: 1px;margin: -1px;overflow: hidden;padding: 0;position: absolute;width: 1px;}#sk-container-id-1 div.sk-estimator {font-family: monospace;background-color: #f0f8ff;border: 1px dotted black;border-radius: 0.25em;box-sizing: border-box;margin-bottom: 0.5em;}#sk-container-id-1 div.sk-estimator:hover {background-color: #d4ebff;}#sk-container-id-1 div.sk-parallel-item::after {content: \"\";width: 100%;border-bottom: 1px solid gray;flex-grow: 1;}#sk-container-id-1 div.sk-label:hover label.sk-toggleable__label {background-color: #d4ebff;}#sk-container-id-1 div.sk-serial::before {content: \"\";position: absolute;border-left: 1px solid gray;box-sizing: border-box;top: 0;bottom: 0;left: 50%;z-index: 0;}#sk-container-id-1 div.sk-serial {display: flex;flex-direction: column;align-items: center;background-color: white;padding-right: 0.2em;padding-left: 0.2em;position: relative;}#sk-container-id-1 div.sk-item {position: relative;z-index: 1;}#sk-container-id-1 div.sk-parallel {display: flex;align-items: stretch;justify-content: center;background-color: white;position: relative;}#sk-container-id-1 div.sk-item::before, #sk-container-id-1 div.sk-parallel-item::before {content: \"\";position: absolute;border-left: 1px solid gray;box-sizing: border-box;top: 0;bottom: 0;left: 50%;z-index: -1;}#sk-container-id-1 div.sk-parallel-item {display: flex;flex-direction: column;z-index: 1;position: relative;background-color: white;}#sk-container-id-1 div.sk-parallel-item:first-child::after {align-self: flex-end;width: 50%;}#sk-container-id-1 div.sk-parallel-item:last-child::after {align-self: flex-start;width: 50%;}#sk-container-id-1 div.sk-parallel-item:only-child::after {width: 0;}#sk-container-id-1 div.sk-dashed-wrapped {border: 1px dashed gray;margin: 0 0.4em 0.5em 0.4em;box-sizing: border-box;padding-bottom: 0.4em;background-color: white;}#sk-container-id-1 div.sk-label label {font-family: monospace;font-weight: bold;display: inline-block;line-height: 1.2em;}#sk-container-id-1 div.sk-label-container {text-align: center;}#sk-container-id-1 div.sk-container {/* jupyter's `normalize.less` sets `[hidden] { display: none; }` but bootstrap.min.css set `[hidden] { display: none !important; }` so we also need the `!important` here to be able to override the default hidden behavior on the sphinx rendered scikit-learn.org. See: https://github.com/scikit-learn/scikit-learn/issues/21755 */display: inline-block !important;position: relative;}#sk-container-id-1 div.sk-text-repr-fallback {display: none;}</style><div id=\"sk-container-id-1\" class=\"sk-top-container\"><div class=\"sk-text-repr-fallback\"><pre>RandomForestClassifier(random_state=0)</pre><b>In a Jupyter environment, please rerun this cell to show the HTML representation or trust the notebook. <br />On GitHub, the HTML representation is unable to render, please try loading this page with nbviewer.org.</b></div><div class=\"sk-container\" hidden><div class=\"sk-item\"><div class=\"sk-estimator sk-toggleable\"><input class=\"sk-toggleable__control sk-hidden--visually\" id=\"sk-estimator-id-1\" type=\"checkbox\" checked><label for=\"sk-estimator-id-1\" class=\"sk-toggleable__label sk-toggleable__label-arrow\">RandomForestClassifier</label><div class=\"sk-toggleable__content\"><pre>RandomForestClassifier(random_state=0)</pre></div></div></div></div></div>"
      ],
      "text/plain": [
       "RandomForestClassifier(random_state=0)"
      ]
     },
     "execution_count": 39,
     "metadata": {},
     "output_type": "execute_result"
    }
   ],
   "source": [
    "from sklearn.ensemble import RandomForestClassifier\n",
    "\n",
    "#ランダムフォレスト分類のモデルを作成\n",
    "model=RandomForestClassifier(random_state=0)\n",
    "#モデルの訓練\n",
    "model.fit(X_train,y_train)"
   ]
  },
  {
   "cell_type": "code",
   "execution_count": 40,
   "id": "f6639c5a",
   "metadata": {
    "execution": {
     "iopub.execute_input": "2023-07-02T05:54:00.290245Z",
     "iopub.status.busy": "2023-07-02T05:54:00.289521Z",
     "iopub.status.idle": "2023-07-02T05:54:00.450287Z",
     "shell.execute_reply": "2023-07-02T05:54:00.448883Z"
    },
    "papermill": {
     "duration": 0.192934,
     "end_time": "2023-07-02T05:54:00.452689",
     "exception": false,
     "start_time": "2023-07-02T05:54:00.259755",
     "status": "completed"
    },
    "tags": []
   },
   "outputs": [
    {
     "name": "stdout",
     "output_type": "stream",
     "text": [
      "acc_train 0.9524981074943225\n",
      "acc_test 0.7866868381240545\n"
     ]
    }
   ],
   "source": [
    "from sklearn.metrics import accuracy_score\n",
    "\n",
    "#訓練データを学習済みモデルに入力して予測値を取得\n",
    "y_train_pred=model.predict(X_train)\n",
    "#テストデータを学習済みモデルに入力して予測値を取得\n",
    "y_test_pred=model.predict(X_test)\n",
    "#訓練データとテストデータの正解率を取得\n",
    "acc_train=accuracy_score(y_train,y_train_pred)\n",
    "acc_test=accuracy_score(y_test,y_test_pred)\n",
    "#正解率を取得\n",
    "print('acc_train',acc_train)\n",
    "print('acc_test',acc_test)"
   ]
  },
  {
   "cell_type": "markdown",
   "id": "32dbc9ae",
   "metadata": {
    "papermill": {
     "duration": 0.028706,
     "end_time": "2023-07-02T05:54:00.509632",
     "exception": false,
     "start_time": "2023-07-02T05:54:00.480926",
     "status": "completed"
    },
    "tags": []
   },
   "source": [
    "若干過学習しています。"
   ]
  },
  {
   "cell_type": "markdown",
   "id": "3083cd98",
   "metadata": {
    "papermill": {
     "duration": 0.028363,
     "end_time": "2023-07-02T05:54:00.566230",
     "exception": false,
     "start_time": "2023-07-02T05:54:00.537867",
     "status": "completed"
    },
    "tags": []
   },
   "source": [
    "# テストデータを前処理する"
   ]
  },
  {
   "cell_type": "code",
   "execution_count": 41,
   "id": "12938d37",
   "metadata": {
    "execution": {
     "iopub.execute_input": "2023-07-02T05:54:00.624700Z",
     "iopub.status.busy": "2023-07-02T05:54:00.624291Z",
     "iopub.status.idle": "2023-07-02T05:54:00.658153Z",
     "shell.execute_reply": "2023-07-02T05:54:00.657274Z"
    },
    "papermill": {
     "duration": 0.06614,
     "end_time": "2023-07-02T05:54:00.660750",
     "exception": false,
     "start_time": "2023-07-02T05:54:00.594610",
     "status": "completed"
    },
    "tags": []
   },
   "outputs": [],
   "source": [
    "test_df_1=pd.read_csv('/kaggle/input/spaceship-titanic/test.csv')"
   ]
  },
  {
   "cell_type": "code",
   "execution_count": 42,
   "id": "d5de5349",
   "metadata": {
    "execution": {
     "iopub.execute_input": "2023-07-02T05:54:00.720831Z",
     "iopub.status.busy": "2023-07-02T05:54:00.720073Z",
     "iopub.status.idle": "2023-07-02T05:54:00.741098Z",
     "shell.execute_reply": "2023-07-02T05:54:00.739944Z"
    },
    "papermill": {
     "duration": 0.053902,
     "end_time": "2023-07-02T05:54:00.743824",
     "exception": false,
     "start_time": "2023-07-02T05:54:00.689922",
     "status": "completed"
    },
    "tags": []
   },
   "outputs": [
    {
     "data": {
      "text/html": [
       "<div>\n",
       "<style scoped>\n",
       "    .dataframe tbody tr th:only-of-type {\n",
       "        vertical-align: middle;\n",
       "    }\n",
       "\n",
       "    .dataframe tbody tr th {\n",
       "        vertical-align: top;\n",
       "    }\n",
       "\n",
       "    .dataframe thead th {\n",
       "        text-align: right;\n",
       "    }\n",
       "</style>\n",
       "<table border=\"1\" class=\"dataframe\">\n",
       "  <thead>\n",
       "    <tr style=\"text-align: right;\">\n",
       "      <th></th>\n",
       "      <th>PassengerId</th>\n",
       "      <th>HomePlanet</th>\n",
       "      <th>CryoSleep</th>\n",
       "      <th>Cabin</th>\n",
       "      <th>Destination</th>\n",
       "      <th>Age</th>\n",
       "      <th>VIP</th>\n",
       "      <th>RoomService</th>\n",
       "      <th>FoodCourt</th>\n",
       "      <th>ShoppingMall</th>\n",
       "      <th>Spa</th>\n",
       "      <th>VRDeck</th>\n",
       "      <th>Name</th>\n",
       "    </tr>\n",
       "  </thead>\n",
       "  <tbody>\n",
       "    <tr>\n",
       "      <th>0</th>\n",
       "      <td>0013_01</td>\n",
       "      <td>Earth</td>\n",
       "      <td>True</td>\n",
       "      <td>G/3/S</td>\n",
       "      <td>TRAPPIST-1e</td>\n",
       "      <td>27.0</td>\n",
       "      <td>False</td>\n",
       "      <td>0.0</td>\n",
       "      <td>0.0</td>\n",
       "      <td>0.0</td>\n",
       "      <td>0.0</td>\n",
       "      <td>0.0</td>\n",
       "      <td>Nelly Carsoning</td>\n",
       "    </tr>\n",
       "    <tr>\n",
       "      <th>1</th>\n",
       "      <td>0018_01</td>\n",
       "      <td>Earth</td>\n",
       "      <td>False</td>\n",
       "      <td>F/4/S</td>\n",
       "      <td>TRAPPIST-1e</td>\n",
       "      <td>19.0</td>\n",
       "      <td>False</td>\n",
       "      <td>0.0</td>\n",
       "      <td>9.0</td>\n",
       "      <td>0.0</td>\n",
       "      <td>2823.0</td>\n",
       "      <td>0.0</td>\n",
       "      <td>Lerome Peckers</td>\n",
       "    </tr>\n",
       "    <tr>\n",
       "      <th>2</th>\n",
       "      <td>0019_01</td>\n",
       "      <td>Europa</td>\n",
       "      <td>True</td>\n",
       "      <td>C/0/S</td>\n",
       "      <td>55 Cancri e</td>\n",
       "      <td>31.0</td>\n",
       "      <td>False</td>\n",
       "      <td>0.0</td>\n",
       "      <td>0.0</td>\n",
       "      <td>0.0</td>\n",
       "      <td>0.0</td>\n",
       "      <td>0.0</td>\n",
       "      <td>Sabih Unhearfus</td>\n",
       "    </tr>\n",
       "    <tr>\n",
       "      <th>3</th>\n",
       "      <td>0021_01</td>\n",
       "      <td>Europa</td>\n",
       "      <td>False</td>\n",
       "      <td>C/1/S</td>\n",
       "      <td>TRAPPIST-1e</td>\n",
       "      <td>38.0</td>\n",
       "      <td>False</td>\n",
       "      <td>0.0</td>\n",
       "      <td>6652.0</td>\n",
       "      <td>0.0</td>\n",
       "      <td>181.0</td>\n",
       "      <td>585.0</td>\n",
       "      <td>Meratz Caltilter</td>\n",
       "    </tr>\n",
       "    <tr>\n",
       "      <th>4</th>\n",
       "      <td>0023_01</td>\n",
       "      <td>Earth</td>\n",
       "      <td>False</td>\n",
       "      <td>F/5/S</td>\n",
       "      <td>TRAPPIST-1e</td>\n",
       "      <td>20.0</td>\n",
       "      <td>False</td>\n",
       "      <td>10.0</td>\n",
       "      <td>0.0</td>\n",
       "      <td>635.0</td>\n",
       "      <td>0.0</td>\n",
       "      <td>0.0</td>\n",
       "      <td>Brence Harperez</td>\n",
       "    </tr>\n",
       "  </tbody>\n",
       "</table>\n",
       "</div>"
      ],
      "text/plain": [
       "  PassengerId HomePlanet CryoSleep  Cabin  Destination   Age    VIP  \\\n",
       "0     0013_01      Earth      True  G/3/S  TRAPPIST-1e  27.0  False   \n",
       "1     0018_01      Earth     False  F/4/S  TRAPPIST-1e  19.0  False   \n",
       "2     0019_01     Europa      True  C/0/S  55 Cancri e  31.0  False   \n",
       "3     0021_01     Europa     False  C/1/S  TRAPPIST-1e  38.0  False   \n",
       "4     0023_01      Earth     False  F/5/S  TRAPPIST-1e  20.0  False   \n",
       "\n",
       "   RoomService  FoodCourt  ShoppingMall     Spa  VRDeck              Name  \n",
       "0          0.0        0.0           0.0     0.0     0.0   Nelly Carsoning  \n",
       "1          0.0        9.0           0.0  2823.0     0.0    Lerome Peckers  \n",
       "2          0.0        0.0           0.0     0.0     0.0   Sabih Unhearfus  \n",
       "3          0.0     6652.0           0.0   181.0   585.0  Meratz Caltilter  \n",
       "4         10.0        0.0         635.0     0.0     0.0   Brence Harperez  "
      ]
     },
     "execution_count": 42,
     "metadata": {},
     "output_type": "execute_result"
    }
   ],
   "source": [
    "test_df_1.head()"
   ]
  },
  {
   "cell_type": "code",
   "execution_count": 43,
   "id": "cc47ec81",
   "metadata": {
    "execution": {
     "iopub.execute_input": "2023-07-02T05:54:00.804881Z",
     "iopub.status.busy": "2023-07-02T05:54:00.804222Z",
     "iopub.status.idle": "2023-07-02T05:54:00.828311Z",
     "shell.execute_reply": "2023-07-02T05:54:00.827193Z"
    },
    "papermill": {
     "duration": 0.0581,
     "end_time": "2023-07-02T05:54:00.831355",
     "exception": false,
     "start_time": "2023-07-02T05:54:00.773255",
     "status": "completed"
    },
    "tags": []
   },
   "outputs": [],
   "source": [
    "#PassengerIdとNameの列を削除して、Cabinは\"/\"ごとに分けてCabin列は削除する。\n",
    "#passengerIdとNameの削除\n",
    "test_df=test_df_1.drop(labels='PassengerId',axis=1)\n",
    "test_df=test_df.drop(labels='Name',axis=1)\n",
    "#データを\"/\"ごとに分ける\n",
    "test_df[[\"Deck\", \"Cabin_num\", \"Side\"]] = test_df[\"Cabin\"].str.split(\"/\", expand=True)\n",
    "test_df=test_df.drop(labels='Cabin',axis=1)\n",
    "#Cabin_numは削除してしまう\n",
    "test_df=test_df.drop(labels='Cabin_num',axis=1)"
   ]
  },
  {
   "cell_type": "code",
   "execution_count": 44,
   "id": "988e4d5e",
   "metadata": {
    "execution": {
     "iopub.execute_input": "2023-07-02T05:54:00.891033Z",
     "iopub.status.busy": "2023-07-02T05:54:00.890662Z",
     "iopub.status.idle": "2023-07-02T05:54:00.912654Z",
     "shell.execute_reply": "2023-07-02T05:54:00.911334Z"
    },
    "papermill": {
     "duration": 0.055301,
     "end_time": "2023-07-02T05:54:00.915320",
     "exception": false,
     "start_time": "2023-07-02T05:54:00.860019",
     "status": "completed"
    },
    "tags": []
   },
   "outputs": [
    {
     "data": {
      "text/html": [
       "<div>\n",
       "<style scoped>\n",
       "    .dataframe tbody tr th:only-of-type {\n",
       "        vertical-align: middle;\n",
       "    }\n",
       "\n",
       "    .dataframe tbody tr th {\n",
       "        vertical-align: top;\n",
       "    }\n",
       "\n",
       "    .dataframe thead th {\n",
       "        text-align: right;\n",
       "    }\n",
       "</style>\n",
       "<table border=\"1\" class=\"dataframe\">\n",
       "  <thead>\n",
       "    <tr style=\"text-align: right;\">\n",
       "      <th></th>\n",
       "      <th>HomePlanet</th>\n",
       "      <th>CryoSleep</th>\n",
       "      <th>Destination</th>\n",
       "      <th>Age</th>\n",
       "      <th>VIP</th>\n",
       "      <th>RoomService</th>\n",
       "      <th>FoodCourt</th>\n",
       "      <th>ShoppingMall</th>\n",
       "      <th>Spa</th>\n",
       "      <th>VRDeck</th>\n",
       "      <th>Deck</th>\n",
       "      <th>Side</th>\n",
       "    </tr>\n",
       "  </thead>\n",
       "  <tbody>\n",
       "    <tr>\n",
       "      <th>0</th>\n",
       "      <td>Earth</td>\n",
       "      <td>True</td>\n",
       "      <td>TRAPPIST-1e</td>\n",
       "      <td>27.0</td>\n",
       "      <td>False</td>\n",
       "      <td>0.0</td>\n",
       "      <td>0.0</td>\n",
       "      <td>0.0</td>\n",
       "      <td>0.0</td>\n",
       "      <td>0.0</td>\n",
       "      <td>G</td>\n",
       "      <td>S</td>\n",
       "    </tr>\n",
       "    <tr>\n",
       "      <th>1</th>\n",
       "      <td>Earth</td>\n",
       "      <td>False</td>\n",
       "      <td>TRAPPIST-1e</td>\n",
       "      <td>19.0</td>\n",
       "      <td>False</td>\n",
       "      <td>0.0</td>\n",
       "      <td>9.0</td>\n",
       "      <td>0.0</td>\n",
       "      <td>2823.0</td>\n",
       "      <td>0.0</td>\n",
       "      <td>F</td>\n",
       "      <td>S</td>\n",
       "    </tr>\n",
       "    <tr>\n",
       "      <th>2</th>\n",
       "      <td>Europa</td>\n",
       "      <td>True</td>\n",
       "      <td>55 Cancri e</td>\n",
       "      <td>31.0</td>\n",
       "      <td>False</td>\n",
       "      <td>0.0</td>\n",
       "      <td>0.0</td>\n",
       "      <td>0.0</td>\n",
       "      <td>0.0</td>\n",
       "      <td>0.0</td>\n",
       "      <td>C</td>\n",
       "      <td>S</td>\n",
       "    </tr>\n",
       "    <tr>\n",
       "      <th>3</th>\n",
       "      <td>Europa</td>\n",
       "      <td>False</td>\n",
       "      <td>TRAPPIST-1e</td>\n",
       "      <td>38.0</td>\n",
       "      <td>False</td>\n",
       "      <td>0.0</td>\n",
       "      <td>6652.0</td>\n",
       "      <td>0.0</td>\n",
       "      <td>181.0</td>\n",
       "      <td>585.0</td>\n",
       "      <td>C</td>\n",
       "      <td>S</td>\n",
       "    </tr>\n",
       "    <tr>\n",
       "      <th>4</th>\n",
       "      <td>Earth</td>\n",
       "      <td>False</td>\n",
       "      <td>TRAPPIST-1e</td>\n",
       "      <td>20.0</td>\n",
       "      <td>False</td>\n",
       "      <td>10.0</td>\n",
       "      <td>0.0</td>\n",
       "      <td>635.0</td>\n",
       "      <td>0.0</td>\n",
       "      <td>0.0</td>\n",
       "      <td>F</td>\n",
       "      <td>S</td>\n",
       "    </tr>\n",
       "  </tbody>\n",
       "</table>\n",
       "</div>"
      ],
      "text/plain": [
       "  HomePlanet CryoSleep  Destination   Age    VIP  RoomService  FoodCourt  \\\n",
       "0      Earth      True  TRAPPIST-1e  27.0  False          0.0        0.0   \n",
       "1      Earth     False  TRAPPIST-1e  19.0  False          0.0        9.0   \n",
       "2     Europa      True  55 Cancri e  31.0  False          0.0        0.0   \n",
       "3     Europa     False  TRAPPIST-1e  38.0  False          0.0     6652.0   \n",
       "4      Earth     False  TRAPPIST-1e  20.0  False         10.0        0.0   \n",
       "\n",
       "   ShoppingMall     Spa  VRDeck Deck Side  \n",
       "0           0.0     0.0     0.0    G    S  \n",
       "1           0.0  2823.0     0.0    F    S  \n",
       "2           0.0     0.0     0.0    C    S  \n",
       "3           0.0   181.0   585.0    C    S  \n",
       "4         635.0     0.0     0.0    F    S  "
      ]
     },
     "execution_count": 44,
     "metadata": {},
     "output_type": "execute_result"
    }
   ],
   "source": [
    "test_df.head()"
   ]
  },
  {
   "cell_type": "code",
   "execution_count": 45,
   "id": "c805a353",
   "metadata": {
    "execution": {
     "iopub.execute_input": "2023-07-02T05:54:00.974826Z",
     "iopub.status.busy": "2023-07-02T05:54:00.974446Z",
     "iopub.status.idle": "2023-07-02T05:54:00.992260Z",
     "shell.execute_reply": "2023-07-02T05:54:00.991109Z"
    },
    "papermill": {
     "duration": 0.050431,
     "end_time": "2023-07-02T05:54:00.994636",
     "exception": false,
     "start_time": "2023-07-02T05:54:00.944205",
     "status": "completed"
    },
    "tags": []
   },
   "outputs": [
    {
     "data": {
      "text/plain": [
       "HomePlanet       87\n",
       "CryoSleep        93\n",
       "Destination      92\n",
       "Age              91\n",
       "VIP              93\n",
       "RoomService      82\n",
       "FoodCourt       106\n",
       "ShoppingMall     98\n",
       "Spa             101\n",
       "VRDeck           80\n",
       "Deck            100\n",
       "Side            100\n",
       "dtype: int64"
      ]
     },
     "execution_count": 45,
     "metadata": {},
     "output_type": "execute_result"
    }
   ],
   "source": [
    "#欠損値の確認\n",
    "test_df.isnull().sum()"
   ]
  },
  {
   "cell_type": "code",
   "execution_count": 46,
   "id": "c01c0001",
   "metadata": {
    "execution": {
     "iopub.execute_input": "2023-07-02T05:54:01.056651Z",
     "iopub.status.busy": "2023-07-02T05:54:01.056257Z",
     "iopub.status.idle": "2023-07-02T05:54:01.061216Z",
     "shell.execute_reply": "2023-07-02T05:54:01.060014Z"
    },
    "papermill": {
     "duration": 0.037779,
     "end_time": "2023-07-02T05:54:01.063613",
     "exception": false,
     "start_time": "2023-07-02T05:54:01.025834",
     "status": "completed"
    },
    "tags": []
   },
   "outputs": [],
   "source": [
    "#欠損値は分散の大きさによって平均か、中央値か、最頻値かを変更する\n",
    "#RoomService,FoodCourt,ShoppingMall,Spa,VRDeckは分散が大きいので中央値をとる\n",
    "#VIP,Deck,Sideはobjectなので最頻値に置き換える\n",
    "#HomePlanet,CryoSleep,Destinationもobjectなので最頻値"
   ]
  },
  {
   "cell_type": "code",
   "execution_count": 47,
   "id": "fb949011",
   "metadata": {
    "execution": {
     "iopub.execute_input": "2023-07-02T05:54:01.126314Z",
     "iopub.status.busy": "2023-07-02T05:54:01.124980Z",
     "iopub.status.idle": "2023-07-02T05:54:01.131439Z",
     "shell.execute_reply": "2023-07-02T05:54:01.130441Z"
    },
    "papermill": {
     "duration": 0.0402,
     "end_time": "2023-07-02T05:54:01.134003",
     "exception": false,
     "start_time": "2023-07-02T05:54:01.093803",
     "status": "completed"
    },
    "tags": []
   },
   "outputs": [],
   "source": [
    "#Ageは平均値\n",
    "test_df['Age']=test_df['Age'].fillna(test_df['Age'].mean())"
   ]
  },
  {
   "cell_type": "code",
   "execution_count": 48,
   "id": "088dd59e",
   "metadata": {
    "execution": {
     "iopub.execute_input": "2023-07-02T05:54:01.197736Z",
     "iopub.status.busy": "2023-07-02T05:54:01.196802Z",
     "iopub.status.idle": "2023-07-02T05:54:01.215541Z",
     "shell.execute_reply": "2023-07-02T05:54:01.214201Z"
    },
    "papermill": {
     "duration": 0.051826,
     "end_time": "2023-07-02T05:54:01.218312",
     "exception": false,
     "start_time": "2023-07-02T05:54:01.166486",
     "status": "completed"
    },
    "tags": []
   },
   "outputs": [
    {
     "data": {
      "text/plain": [
       "HomePlanet       87\n",
       "CryoSleep        93\n",
       "Destination      92\n",
       "Age               0\n",
       "VIP              93\n",
       "RoomService      82\n",
       "FoodCourt       106\n",
       "ShoppingMall     98\n",
       "Spa             101\n",
       "VRDeck           80\n",
       "Deck            100\n",
       "Side            100\n",
       "dtype: int64"
      ]
     },
     "execution_count": 48,
     "metadata": {},
     "output_type": "execute_result"
    }
   ],
   "source": [
    "test_df.isnull().sum()"
   ]
  },
  {
   "cell_type": "markdown",
   "id": "17327fe5",
   "metadata": {
    "papermill": {
     "duration": 0.02935,
     "end_time": "2023-07-02T05:54:01.277894",
     "exception": false,
     "start_time": "2023-07-02T05:54:01.248544",
     "status": "completed"
    },
    "tags": []
   },
   "source": [
    "# ダミー変数に変換"
   ]
  },
  {
   "cell_type": "code",
   "execution_count": 49,
   "id": "1b34da67",
   "metadata": {
    "execution": {
     "iopub.execute_input": "2023-07-02T05:54:01.338230Z",
     "iopub.status.busy": "2023-07-02T05:54:01.337806Z",
     "iopub.status.idle": "2023-07-02T05:54:01.359359Z",
     "shell.execute_reply": "2023-07-02T05:54:01.358232Z"
    },
    "papermill": {
     "duration": 0.054723,
     "end_time": "2023-07-02T05:54:01.361795",
     "exception": false,
     "start_time": "2023-07-02T05:54:01.307072",
     "status": "completed"
    },
    "tags": []
   },
   "outputs": [
    {
     "name": "stdout",
     "output_type": "stream",
     "text": [
      "<class 'pandas.core.frame.DataFrame'>\n",
      "RangeIndex: 4277 entries, 0 to 4276\n",
      "Data columns (total 12 columns):\n",
      " #   Column        Non-Null Count  Dtype  \n",
      "---  ------        --------------  -----  \n",
      " 0   HomePlanet    4190 non-null   object \n",
      " 1   CryoSleep     4184 non-null   object \n",
      " 2   Destination   4185 non-null   object \n",
      " 3   Age           4277 non-null   float64\n",
      " 4   VIP           4184 non-null   object \n",
      " 5   RoomService   4195 non-null   float64\n",
      " 6   FoodCourt     4171 non-null   float64\n",
      " 7   ShoppingMall  4179 non-null   float64\n",
      " 8   Spa           4176 non-null   float64\n",
      " 9   VRDeck        4197 non-null   float64\n",
      " 10  Deck          4177 non-null   object \n",
      " 11  Side          4177 non-null   object \n",
      "dtypes: float64(6), object(6)\n",
      "memory usage: 401.1+ KB\n"
     ]
    }
   ],
   "source": [
    "test_df.info()"
   ]
  },
  {
   "cell_type": "code",
   "execution_count": 50,
   "id": "7f298fbe",
   "metadata": {
    "execution": {
     "iopub.execute_input": "2023-07-02T05:54:01.423682Z",
     "iopub.status.busy": "2023-07-02T05:54:01.423276Z",
     "iopub.status.idle": "2023-07-02T05:54:01.428900Z",
     "shell.execute_reply": "2023-07-02T05:54:01.427852Z"
    },
    "papermill": {
     "duration": 0.039279,
     "end_time": "2023-07-02T05:54:01.431082",
     "exception": false,
     "start_time": "2023-07-02T05:54:01.391803",
     "status": "completed"
    },
    "tags": []
   },
   "outputs": [],
   "source": [
    "#Ageをfloot型に変更\n",
    "test_df['Age']=test_df['Age'].astype(float)"
   ]
  },
  {
   "cell_type": "code",
   "execution_count": 51,
   "id": "27ae5ea5",
   "metadata": {
    "execution": {
     "iopub.execute_input": "2023-07-02T05:54:01.492165Z",
     "iopub.status.busy": "2023-07-02T05:54:01.491416Z",
     "iopub.status.idle": "2023-07-02T05:54:01.516171Z",
     "shell.execute_reply": "2023-07-02T05:54:01.515308Z"
    },
    "papermill": {
     "duration": 0.058034,
     "end_time": "2023-07-02T05:54:01.518619",
     "exception": false,
     "start_time": "2023-07-02T05:54:01.460585",
     "status": "completed"
    },
    "tags": []
   },
   "outputs": [],
   "source": [
    "#カテゴリカル変数を含んだデータのみ抽出\n",
    "test_df_obj=test_df.select_dtypes(include='object')\n",
    "test_df_obj.head()\n",
    "#それぞれ別のユニークな値の数\n",
    "test_df_uni=test_df_obj.nunique()\n",
    "#ユニークな値の数が2つの入力変数に対してLabel Encodingを適用\n",
    "test_df_cols=test_df_uni[test_df_uni==2].index\n",
    "test_df_cols\n",
    "from sklearn.preprocessing import LabelEncoder\n",
    "for col in df_cols:\n",
    "    le=LabelEncoder()\n",
    "    le.fit(test_df[col])\n",
    "    test_df[col]=le.transform(test_df[col])\n",
    "#その他のカテゴリをダミー変数に変換\n",
    "test_df=pd.get_dummies(test_df,drop_first=True)"
   ]
  },
  {
   "cell_type": "code",
   "execution_count": 52,
   "id": "c7c5f903",
   "metadata": {
    "execution": {
     "iopub.execute_input": "2023-07-02T05:54:01.580927Z",
     "iopub.status.busy": "2023-07-02T05:54:01.580212Z",
     "iopub.status.idle": "2023-07-02T05:54:01.598792Z",
     "shell.execute_reply": "2023-07-02T05:54:01.597659Z"
    },
    "papermill": {
     "duration": 0.052865,
     "end_time": "2023-07-02T05:54:01.601604",
     "exception": false,
     "start_time": "2023-07-02T05:54:01.548739",
     "status": "completed"
    },
    "tags": []
   },
   "outputs": [],
   "source": [
    "#残りの欠損値を中央値で補う\n",
    "test_df.fillna(test_df.median(),inplace=True)"
   ]
  },
  {
   "cell_type": "code",
   "execution_count": 53,
   "id": "9f98459e",
   "metadata": {
    "execution": {
     "iopub.execute_input": "2023-07-02T05:54:01.662774Z",
     "iopub.status.busy": "2023-07-02T05:54:01.662006Z",
     "iopub.status.idle": "2023-07-02T05:54:01.672276Z",
     "shell.execute_reply": "2023-07-02T05:54:01.671273Z"
    },
    "papermill": {
     "duration": 0.043639,
     "end_time": "2023-07-02T05:54:01.674603",
     "exception": false,
     "start_time": "2023-07-02T05:54:01.630964",
     "status": "completed"
    },
    "tags": []
   },
   "outputs": [
    {
     "data": {
      "text/plain": [
       "CryoSleep                    0\n",
       "Age                          0\n",
       "Deck_G                       0\n",
       "Deck_F                       0\n",
       "Deck_E                       0\n",
       "Deck_D                       0\n",
       "Deck_C                       0\n",
       "Deck_B                       0\n",
       "Destination_TRAPPIST-1e      0\n",
       "Destination_PSO J318.5-22    0\n",
       "HomePlanet_Mars              0\n",
       "HomePlanet_Europa            0\n",
       "Side                         0\n",
       "VRDeck                       0\n",
       "Spa                          0\n",
       "ShoppingMall                 0\n",
       "FoodCourt                    0\n",
       "RoomService                  0\n",
       "VIP                          0\n",
       "Deck_T                       0\n",
       "dtype: int64"
      ]
     },
     "execution_count": 53,
     "metadata": {},
     "output_type": "execute_result"
    }
   ],
   "source": [
    "test_df.isnull().sum().sort_values(ascending=False)"
   ]
  },
  {
   "cell_type": "markdown",
   "id": "5eafa3d4",
   "metadata": {
    "papermill": {
     "duration": 0.029194,
     "end_time": "2023-07-02T05:54:01.733332",
     "exception": false,
     "start_time": "2023-07-02T05:54:01.704138",
     "status": "completed"
    },
    "tags": []
   },
   "source": [
    "前処理終了"
   ]
  },
  {
   "cell_type": "markdown",
   "id": "2674e0f9",
   "metadata": {
    "papermill": {
     "duration": 0.029204,
     "end_time": "2023-07-02T05:54:01.792141",
     "exception": false,
     "start_time": "2023-07-02T05:54:01.762937",
     "status": "completed"
    },
    "tags": []
   },
   "source": [
    "# テストデータの予測"
   ]
  },
  {
   "cell_type": "code",
   "execution_count": 54,
   "id": "910db1d1",
   "metadata": {
    "execution": {
     "iopub.execute_input": "2023-07-02T05:54:01.854154Z",
     "iopub.status.busy": "2023-07-02T05:54:01.853726Z",
     "iopub.status.idle": "2023-07-02T05:54:01.866684Z",
     "shell.execute_reply": "2023-07-02T05:54:01.865938Z"
    },
    "papermill": {
     "duration": 0.046235,
     "end_time": "2023-07-02T05:54:01.869143",
     "exception": false,
     "start_time": "2023-07-02T05:54:01.822908",
     "status": "completed"
    },
    "tags": []
   },
   "outputs": [
    {
     "name": "stdout",
     "output_type": "stream",
     "text": [
      "<class 'pandas.core.frame.DataFrame'>\n",
      "Int64Index: 6606 entries, 0 to 8692\n",
      "Data columns (total 21 columns):\n",
      " #   Column                     Non-Null Count  Dtype  \n",
      "---  ------                     --------------  -----  \n",
      " 0   CryoSleep                  6606 non-null   int64  \n",
      " 1   Age                        6606 non-null   float64\n",
      " 2   VIP                        6606 non-null   int64  \n",
      " 3   RoomService                6606 non-null   float64\n",
      " 4   FoodCourt                  6606 non-null   float64\n",
      " 5   ShoppingMall               6606 non-null   float64\n",
      " 6   Spa                        6606 non-null   float64\n",
      " 7   VRDeck                     6606 non-null   float64\n",
      " 8   Transported                6606 non-null   int64  \n",
      " 9   Side                       6606 non-null   int64  \n",
      " 10  HomePlanet_Europa          6606 non-null   uint8  \n",
      " 11  HomePlanet_Mars            6606 non-null   uint8  \n",
      " 12  Destination_PSO J318.5-22  6606 non-null   uint8  \n",
      " 13  Destination_TRAPPIST-1e    6606 non-null   uint8  \n",
      " 14  Deck_B                     6606 non-null   uint8  \n",
      " 15  Deck_C                     6606 non-null   uint8  \n",
      " 16  Deck_D                     6606 non-null   uint8  \n",
      " 17  Deck_E                     6606 non-null   uint8  \n",
      " 18  Deck_F                     6606 non-null   uint8  \n",
      " 19  Deck_G                     6606 non-null   uint8  \n",
      " 20  Deck_T                     6606 non-null   uint8  \n",
      "dtypes: float64(6), int64(4), uint8(11)\n",
      "memory usage: 638.7 KB\n"
     ]
    }
   ],
   "source": [
    "df.info()"
   ]
  },
  {
   "cell_type": "code",
   "execution_count": 55,
   "id": "246e2277",
   "metadata": {
    "execution": {
     "iopub.execute_input": "2023-07-02T05:54:01.934473Z",
     "iopub.status.busy": "2023-07-02T05:54:01.933728Z",
     "iopub.status.idle": "2023-07-02T05:54:01.946967Z",
     "shell.execute_reply": "2023-07-02T05:54:01.945728Z"
    },
    "papermill": {
     "duration": 0.049628,
     "end_time": "2023-07-02T05:54:01.949232",
     "exception": false,
     "start_time": "2023-07-02T05:54:01.899604",
     "status": "completed"
    },
    "tags": []
   },
   "outputs": [
    {
     "name": "stdout",
     "output_type": "stream",
     "text": [
      "<class 'pandas.core.frame.DataFrame'>\n",
      "RangeIndex: 4277 entries, 0 to 4276\n",
      "Data columns (total 20 columns):\n",
      " #   Column                     Non-Null Count  Dtype  \n",
      "---  ------                     --------------  -----  \n",
      " 0   CryoSleep                  4277 non-null   int64  \n",
      " 1   Age                        4277 non-null   float64\n",
      " 2   VIP                        4277 non-null   int64  \n",
      " 3   RoomService                4277 non-null   float64\n",
      " 4   FoodCourt                  4277 non-null   float64\n",
      " 5   ShoppingMall               4277 non-null   float64\n",
      " 6   Spa                        4277 non-null   float64\n",
      " 7   VRDeck                     4277 non-null   float64\n",
      " 8   Side                       4277 non-null   int64  \n",
      " 9   HomePlanet_Europa          4277 non-null   uint8  \n",
      " 10  HomePlanet_Mars            4277 non-null   uint8  \n",
      " 11  Destination_PSO J318.5-22  4277 non-null   uint8  \n",
      " 12  Destination_TRAPPIST-1e    4277 non-null   uint8  \n",
      " 13  Deck_B                     4277 non-null   uint8  \n",
      " 14  Deck_C                     4277 non-null   uint8  \n",
      " 15  Deck_D                     4277 non-null   uint8  \n",
      " 16  Deck_E                     4277 non-null   uint8  \n",
      " 17  Deck_F                     4277 non-null   uint8  \n",
      " 18  Deck_G                     4277 non-null   uint8  \n",
      " 19  Deck_T                     4277 non-null   uint8  \n",
      "dtypes: float64(6), int64(3), uint8(11)\n",
      "memory usage: 346.8 KB\n"
     ]
    }
   ],
   "source": [
    "test_df.info()"
   ]
  },
  {
   "cell_type": "code",
   "execution_count": 56,
   "id": "a9fdf263",
   "metadata": {
    "execution": {
     "iopub.execute_input": "2023-07-02T05:54:02.012777Z",
     "iopub.status.busy": "2023-07-02T05:54:02.012077Z",
     "iopub.status.idle": "2023-07-02T05:54:02.120734Z",
     "shell.execute_reply": "2023-07-02T05:54:02.119608Z"
    },
    "papermill": {
     "duration": 0.144414,
     "end_time": "2023-07-02T05:54:02.123333",
     "exception": false,
     "start_time": "2023-07-02T05:54:01.978919",
     "status": "completed"
    },
    "tags": []
   },
   "outputs": [
    {
     "name": "stderr",
     "output_type": "stream",
     "text": [
      "/opt/conda/lib/python3.10/site-packages/sklearn/base.py:432: UserWarning: X has feature names, but RandomForestClassifier was fitted without feature names\n",
      "  warnings.warn(\n"
     ]
    },
    {
     "data": {
      "text/plain": [
       "array([1, 0, 1, ..., 1, 1, 1])"
      ]
     },
     "execution_count": 56,
     "metadata": {},
     "output_type": "execute_result"
    }
   ],
   "source": [
    "prediction=model.predict(test_df)\n",
    "prediction"
   ]
  },
  {
   "cell_type": "code",
   "execution_count": 57,
   "id": "d7f80596",
   "metadata": {
    "execution": {
     "iopub.execute_input": "2023-07-02T05:54:02.187855Z",
     "iopub.status.busy": "2023-07-02T05:54:02.187230Z",
     "iopub.status.idle": "2023-07-02T05:54:02.209354Z",
     "shell.execute_reply": "2023-07-02T05:54:02.208222Z"
    },
    "papermill": {
     "duration": 0.056764,
     "end_time": "2023-07-02T05:54:02.212277",
     "exception": false,
     "start_time": "2023-07-02T05:54:02.155513",
     "status": "completed"
    },
    "tags": []
   },
   "outputs": [],
   "source": [
    "#予測結果を含むDataFrameを作成\n",
    "submission_df=pd.DataFrame({\n",
    "    'PassengerId':test_df_1['PassengerId'],\n",
    "    'Transported':prediction.astype(bool)\n",
    "})\n",
    "#CSVファイルとして保存\n",
    "submission_df.to_csv('submission.csv',index=False)"
   ]
  },
  {
   "cell_type": "code",
   "execution_count": 58,
   "id": "ef1f78f9",
   "metadata": {
    "execution": {
     "iopub.execute_input": "2023-07-02T05:54:02.276077Z",
     "iopub.status.busy": "2023-07-02T05:54:02.275687Z",
     "iopub.status.idle": "2023-07-02T05:54:02.285574Z",
     "shell.execute_reply": "2023-07-02T05:54:02.284720Z"
    },
    "papermill": {
     "duration": 0.043741,
     "end_time": "2023-07-02T05:54:02.287827",
     "exception": false,
     "start_time": "2023-07-02T05:54:02.244086",
     "status": "completed"
    },
    "tags": []
   },
   "outputs": [
    {
     "data": {
      "text/html": [
       "<div>\n",
       "<style scoped>\n",
       "    .dataframe tbody tr th:only-of-type {\n",
       "        vertical-align: middle;\n",
       "    }\n",
       "\n",
       "    .dataframe tbody tr th {\n",
       "        vertical-align: top;\n",
       "    }\n",
       "\n",
       "    .dataframe thead th {\n",
       "        text-align: right;\n",
       "    }\n",
       "</style>\n",
       "<table border=\"1\" class=\"dataframe\">\n",
       "  <thead>\n",
       "    <tr style=\"text-align: right;\">\n",
       "      <th></th>\n",
       "      <th>PassengerId</th>\n",
       "      <th>Transported</th>\n",
       "    </tr>\n",
       "  </thead>\n",
       "  <tbody>\n",
       "    <tr>\n",
       "      <th>0</th>\n",
       "      <td>0013_01</td>\n",
       "      <td>True</td>\n",
       "    </tr>\n",
       "    <tr>\n",
       "      <th>1</th>\n",
       "      <td>0018_01</td>\n",
       "      <td>False</td>\n",
       "    </tr>\n",
       "    <tr>\n",
       "      <th>2</th>\n",
       "      <td>0019_01</td>\n",
       "      <td>True</td>\n",
       "    </tr>\n",
       "    <tr>\n",
       "      <th>3</th>\n",
       "      <td>0021_01</td>\n",
       "      <td>True</td>\n",
       "    </tr>\n",
       "    <tr>\n",
       "      <th>4</th>\n",
       "      <td>0023_01</td>\n",
       "      <td>False</td>\n",
       "    </tr>\n",
       "  </tbody>\n",
       "</table>\n",
       "</div>"
      ],
      "text/plain": [
       "  PassengerId  Transported\n",
       "0     0013_01         True\n",
       "1     0018_01        False\n",
       "2     0019_01         True\n",
       "3     0021_01         True\n",
       "4     0023_01        False"
      ]
     },
     "execution_count": 58,
     "metadata": {},
     "output_type": "execute_result"
    }
   ],
   "source": [
    "submission_df.head()"
   ]
  }
 ],
 "metadata": {
  "kernelspec": {
   "display_name": "Python 3",
   "language": "python",
   "name": "python3"
  },
  "language_info": {
   "codemirror_mode": {
    "name": "ipython",
    "version": 3
   },
   "file_extension": ".py",
   "mimetype": "text/x-python",
   "name": "python",
   "nbconvert_exporter": "python",
   "pygments_lexer": "ipython3",
   "version": "3.10.10"
  },
  "papermill": {
   "default_parameters": {},
   "duration": 23.935125,
   "end_time": "2023-07-02T05:54:03.340645",
   "environment_variables": {},
   "exception": null,
   "input_path": "__notebook__.ipynb",
   "output_path": "__notebook__.ipynb",
   "parameters": {},
   "start_time": "2023-07-02T05:53:39.405520",
   "version": "2.4.0"
  }
 },
 "nbformat": 4,
 "nbformat_minor": 5
}
